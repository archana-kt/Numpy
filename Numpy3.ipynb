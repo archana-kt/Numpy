{
 "cells": [
  {
   "cell_type": "markdown",
   "id": "d8310381",
   "metadata": {},
   "source": [
    "# Numpy"
   ]
  },
  {
   "cell_type": "code",
   "execution_count": 1,
   "id": "06b2d06c",
   "metadata": {},
   "outputs": [],
   "source": [
    "import numpy as np"
   ]
  },
  {
   "cell_type": "markdown",
   "id": "c434e687",
   "metadata": {},
   "source": [
    "# random.random()"
   ]
  },
  {
   "cell_type": "code",
   "execution_count": 3,
   "id": "5e3a8c25",
   "metadata": {},
   "outputs": [],
   "source": [
    "x = np.random.random()"
   ]
  },
  {
   "cell_type": "code",
   "execution_count": 4,
   "id": "8ffe6f02",
   "metadata": {},
   "outputs": [
    {
     "data": {
      "text/plain": [
       "0.03263296635647028"
      ]
     },
     "execution_count": 4,
     "metadata": {},
     "output_type": "execute_result"
    }
   ],
   "source": [
    "x"
   ]
  },
  {
   "cell_type": "code",
   "execution_count": 5,
   "id": "0825deea",
   "metadata": {},
   "outputs": [],
   "source": [
    "x = np.random.random()"
   ]
  },
  {
   "cell_type": "code",
   "execution_count": 6,
   "id": "6fe1bda3",
   "metadata": {},
   "outputs": [
    {
     "data": {
      "text/plain": [
       "0.5646360681463786"
      ]
     },
     "execution_count": 6,
     "metadata": {},
     "output_type": "execute_result"
    }
   ],
   "source": [
    "x"
   ]
  },
  {
   "cell_type": "code",
   "execution_count": 7,
   "id": "69a4fad8",
   "metadata": {},
   "outputs": [],
   "source": [
    "# Each time, it generates different random numbers"
   ]
  },
  {
   "cell_type": "markdown",
   "id": "b2cef1ab",
   "metadata": {},
   "source": [
    "# random.randint()"
   ]
  },
  {
   "cell_type": "code",
   "execution_count": 9,
   "id": "3fe96b8f",
   "metadata": {},
   "outputs": [
    {
     "ename": "TypeError",
     "evalue": "randint() takes at least 1 positional argument (0 given)",
     "output_type": "error",
     "traceback": [
      "\u001b[0;31m---------------------------------------------------------------------------\u001b[0m",
      "\u001b[0;31mTypeError\u001b[0m                                 Traceback (most recent call last)",
      "Input \u001b[0;32mIn [9]\u001b[0m, in \u001b[0;36m<cell line: 1>\u001b[0;34m()\u001b[0m\n\u001b[0;32m----> 1\u001b[0m x \u001b[38;5;241m=\u001b[39m \u001b[43mnp\u001b[49m\u001b[38;5;241;43m.\u001b[39;49m\u001b[43mrandom\u001b[49m\u001b[38;5;241;43m.\u001b[39;49m\u001b[43mrandint\u001b[49m\u001b[43m(\u001b[49m\u001b[43m)\u001b[49m\n",
      "File \u001b[0;32mmtrand.pyx:645\u001b[0m, in \u001b[0;36mnumpy.random.mtrand.RandomState.randint\u001b[0;34m()\u001b[0m\n",
      "\u001b[0;31mTypeError\u001b[0m: randint() takes at least 1 positional argument (0 given)"
     ]
    }
   ],
   "source": [
    "x = np.random.randint() # it shows error, bcoz it needs one integer argument"
   ]
  },
  {
   "cell_type": "code",
   "execution_count": 10,
   "id": "e6509071",
   "metadata": {},
   "outputs": [],
   "source": [
    "x = np.random.randint(12)"
   ]
  },
  {
   "cell_type": "code",
   "execution_count": 11,
   "id": "aef04fb0",
   "metadata": {},
   "outputs": [
    {
     "data": {
      "text/plain": [
       "6"
      ]
     },
     "execution_count": 11,
     "metadata": {},
     "output_type": "execute_result"
    }
   ],
   "source": [
    "x"
   ]
  },
  {
   "cell_type": "code",
   "execution_count": 13,
   "id": "ad9d13f9",
   "metadata": {},
   "outputs": [],
   "source": [
    "x = np.random.randint(12)"
   ]
  },
  {
   "cell_type": "code",
   "execution_count": 14,
   "id": "02237866",
   "metadata": {},
   "outputs": [
    {
     "data": {
      "text/plain": [
       "0"
      ]
     },
     "execution_count": 14,
     "metadata": {},
     "output_type": "execute_result"
    }
   ],
   "source": [
    "x"
   ]
  },
  {
   "cell_type": "code",
   "execution_count": 15,
   "id": "4a83a963",
   "metadata": {},
   "outputs": [],
   "source": [
    "# Each time, it generates different random numbers within the range of 12"
   ]
  },
  {
   "cell_type": "markdown",
   "id": "885e5792",
   "metadata": {},
   "source": [
    "# random.randint() with size"
   ]
  },
  {
   "cell_type": "code",
   "execution_count": 16,
   "id": "c24c03bb",
   "metadata": {},
   "outputs": [],
   "source": [
    "x = np.random.randint(12, size = 10)"
   ]
  },
  {
   "cell_type": "code",
   "execution_count": 17,
   "id": "ede85fc1",
   "metadata": {},
   "outputs": [
    {
     "data": {
      "text/plain": [
       "array([1, 0, 9, 7, 0, 4, 3, 5, 4, 0])"
      ]
     },
     "execution_count": 17,
     "metadata": {},
     "output_type": "execute_result"
    }
   ],
   "source": [
    "x"
   ]
  },
  {
   "cell_type": "code",
   "execution_count": 19,
   "id": "fe7424a0",
   "metadata": {},
   "outputs": [],
   "source": [
    "x = np.random.randint(12, size = 5)"
   ]
  },
  {
   "cell_type": "code",
   "execution_count": 20,
   "id": "f88bd7b0",
   "metadata": {},
   "outputs": [
    {
     "data": {
      "text/plain": [
       "array([11,  0,  1,  8,  2])"
      ]
     },
     "execution_count": 20,
     "metadata": {},
     "output_type": "execute_result"
    }
   ],
   "source": [
    "x"
   ]
  },
  {
   "cell_type": "code",
   "execution_count": 21,
   "id": "506587c7",
   "metadata": {},
   "outputs": [],
   "source": [
    "# Now it generates size of 10 or 5 digits within the range of 12"
   ]
  },
  {
   "cell_type": "code",
   "execution_count": 22,
   "id": "2cdd3c11",
   "metadata": {},
   "outputs": [],
   "source": [
    "x = np.random.randint(12, size = (5,5))"
   ]
  },
  {
   "cell_type": "code",
   "execution_count": 23,
   "id": "1f9ae23a",
   "metadata": {},
   "outputs": [
    {
     "data": {
      "text/plain": [
       "array([[ 4,  5,  7,  4,  0],\n",
       "       [ 7,  6, 10,  3,  8],\n",
       "       [ 5,  3,  6,  2,  9],\n",
       "       [ 6, 10,  8,  6,  2],\n",
       "       [ 9, 11, 11,  6,  0]])"
      ]
     },
     "execution_count": 23,
     "metadata": {},
     "output_type": "execute_result"
    }
   ],
   "source": [
    "x"
   ]
  },
  {
   "cell_type": "code",
   "execution_count": 24,
   "id": "607c437c",
   "metadata": {},
   "outputs": [
    {
     "data": {
      "text/plain": [
       "dtype('int64')"
      ]
     },
     "execution_count": 24,
     "metadata": {},
     "output_type": "execute_result"
    }
   ],
   "source": [
    "x.dtype"
   ]
  },
  {
   "cell_type": "code",
   "execution_count": 25,
   "id": "bd99b80b",
   "metadata": {},
   "outputs": [
    {
     "data": {
      "text/plain": [
       "2"
      ]
     },
     "execution_count": 25,
     "metadata": {},
     "output_type": "execute_result"
    }
   ],
   "source": [
    "x.ndim"
   ]
  },
  {
   "cell_type": "code",
   "execution_count": 26,
   "id": "a49b3cda",
   "metadata": {},
   "outputs": [
    {
     "data": {
      "text/plain": [
       "25"
      ]
     },
     "execution_count": 26,
     "metadata": {},
     "output_type": "execute_result"
    }
   ],
   "source": [
    "x.size"
   ]
  },
  {
   "cell_type": "code",
   "execution_count": 27,
   "id": "5d1eee23",
   "metadata": {},
   "outputs": [
    {
     "data": {
      "text/plain": [
       "200"
      ]
     },
     "execution_count": 27,
     "metadata": {},
     "output_type": "execute_result"
    }
   ],
   "source": [
    "x.nbytes"
   ]
  },
  {
   "cell_type": "markdown",
   "id": "3343059b",
   "metadata": {},
   "source": [
    "# random.randint() with dtype"
   ]
  },
  {
   "cell_type": "code",
   "execution_count": 28,
   "id": "555e6bf5",
   "metadata": {},
   "outputs": [],
   "source": [
    "x = np.random.randint(12, size = (5,5), dtype = np.int8)"
   ]
  },
  {
   "cell_type": "code",
   "execution_count": 29,
   "id": "758a7080",
   "metadata": {},
   "outputs": [
    {
     "data": {
      "text/plain": [
       "array([[ 0,  3,  7,  6,  0],\n",
       "       [ 0,  7, 11,  8,  7],\n",
       "       [ 4,  2,  5,  6,  6],\n",
       "       [ 6,  3,  4,  1,  7],\n",
       "       [ 8, 10,  5,  3,  8]], dtype=int8)"
      ]
     },
     "execution_count": 29,
     "metadata": {},
     "output_type": "execute_result"
    }
   ],
   "source": [
    "x"
   ]
  },
  {
   "cell_type": "code",
   "execution_count": 30,
   "id": "31272e0d",
   "metadata": {},
   "outputs": [
    {
     "data": {
      "text/plain": [
       "array([[ 65,  37,  35],\n",
       "       [ 18,  67,  32],\n",
       "       [ 41,  40, 107]])"
      ]
     },
     "execution_count": 30,
     "metadata": {},
     "output_type": "execute_result"
    }
   ],
   "source": [
    "np.random.randint(120,size=(3,3))"
   ]
  },
  {
   "cell_type": "markdown",
   "id": "61e7dab5",
   "metadata": {},
   "source": [
    "# Choice "
   ]
  },
  {
   "cell_type": "code",
   "execution_count": 32,
   "id": "5761c575",
   "metadata": {},
   "outputs": [],
   "source": [
    "x=np.random.choice(np.random.randint(10))"
   ]
  },
  {
   "cell_type": "code",
   "execution_count": 33,
   "id": "bbb75d11",
   "metadata": {},
   "outputs": [
    {
     "data": {
      "text/plain": [
       "1"
      ]
     },
     "execution_count": 33,
     "metadata": {},
     "output_type": "execute_result"
    }
   ],
   "source": [
    "x"
   ]
  },
  {
   "cell_type": "code",
   "execution_count": 34,
   "id": "65282a96",
   "metadata": {},
   "outputs": [],
   "source": [
    "x=np.random.choice(np.random.randint(10))"
   ]
  },
  {
   "cell_type": "code",
   "execution_count": 35,
   "id": "2a53479a",
   "metadata": {},
   "outputs": [
    {
     "data": {
      "text/plain": [
       "0"
      ]
     },
     "execution_count": 35,
     "metadata": {},
     "output_type": "execute_result"
    }
   ],
   "source": [
    "x"
   ]
  },
  {
   "cell_type": "code",
   "execution_count": 38,
   "id": "cfaf1d92",
   "metadata": {},
   "outputs": [],
   "source": [
    "x = np.random.choice([1,2,3])"
   ]
  },
  {
   "cell_type": "code",
   "execution_count": 39,
   "id": "d76d9654",
   "metadata": {},
   "outputs": [
    {
     "data": {
      "text/plain": [
       "1"
      ]
     },
     "execution_count": 39,
     "metadata": {},
     "output_type": "execute_result"
    }
   ],
   "source": [
    "x"
   ]
  },
  {
   "cell_type": "code",
   "execution_count": 40,
   "id": "05194e33",
   "metadata": {},
   "outputs": [],
   "source": [
    "x = np.random.choice([1,2,3])"
   ]
  },
  {
   "cell_type": "code",
   "execution_count": 41,
   "id": "d000ef13",
   "metadata": {},
   "outputs": [
    {
     "data": {
      "text/plain": [
       "1"
      ]
     },
     "execution_count": 41,
     "metadata": {},
     "output_type": "execute_result"
    }
   ],
   "source": [
    "x"
   ]
  },
  {
   "cell_type": "code",
   "execution_count": 42,
   "id": "36b9d15f",
   "metadata": {},
   "outputs": [],
   "source": [
    "x = np.random.choice([1,2,3])"
   ]
  },
  {
   "cell_type": "code",
   "execution_count": 43,
   "id": "4a8face0",
   "metadata": {},
   "outputs": [
    {
     "data": {
      "text/plain": [
       "2"
      ]
     },
     "execution_count": 43,
     "metadata": {},
     "output_type": "execute_result"
    }
   ],
   "source": [
    "x"
   ]
  },
  {
   "cell_type": "code",
   "execution_count": 44,
   "id": "b6f1d638",
   "metadata": {},
   "outputs": [],
   "source": [
    "# So each time, it generates different numbers within the choice of numbers"
   ]
  },
  {
   "cell_type": "code",
   "execution_count": 45,
   "id": "f8ebb36a",
   "metadata": {},
   "outputs": [],
   "source": [
    "x = np.random.choice(np.random.randint(12, size = 10), size = (3,3))"
   ]
  },
  {
   "cell_type": "code",
   "execution_count": 46,
   "id": "f302f8b5",
   "metadata": {},
   "outputs": [
    {
     "data": {
      "text/plain": [
       "array([[1, 9, 9],\n",
       "       [1, 7, 4],\n",
       "       [1, 9, 1]])"
      ]
     },
     "execution_count": 46,
     "metadata": {},
     "output_type": "execute_result"
    }
   ],
   "source": [
    "x"
   ]
  },
  {
   "cell_type": "markdown",
   "id": "c809cc2f",
   "metadata": {},
   "source": [
    "# arange"
   ]
  },
  {
   "cell_type": "code",
   "execution_count": 47,
   "id": "1710814e",
   "metadata": {},
   "outputs": [],
   "source": [
    "x = np.arange(10) # a range of 10 (which means n-1)"
   ]
  },
  {
   "cell_type": "code",
   "execution_count": 48,
   "id": "9b28d070",
   "metadata": {},
   "outputs": [
    {
     "data": {
      "text/plain": [
       "array([0, 1, 2, 3, 4, 5, 6, 7, 8, 9])"
      ]
     },
     "execution_count": 48,
     "metadata": {},
     "output_type": "execute_result"
    }
   ],
   "source": [
    "x"
   ]
  }
 ],
 "metadata": {
  "kernelspec": {
   "display_name": "Python 3 (ipykernel)",
   "language": "python",
   "name": "python3"
  },
  "language_info": {
   "codemirror_mode": {
    "name": "ipython",
    "version": 3
   },
   "file_extension": ".py",
   "mimetype": "text/x-python",
   "name": "python",
   "nbconvert_exporter": "python",
   "pygments_lexer": "ipython3",
   "version": "3.9.7"
  }
 },
 "nbformat": 4,
 "nbformat_minor": 5
}
