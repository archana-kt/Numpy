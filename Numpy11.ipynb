{
 "cells": [
  {
   "cell_type": "markdown",
   "id": "aaeb16b7",
   "metadata": {},
   "source": [
    "# Numpy"
   ]
  },
  {
   "cell_type": "markdown",
   "id": "1f614fb9",
   "metadata": {},
   "source": [
    "# axis"
   ]
  },
  {
   "cell_type": "code",
   "execution_count": 1,
   "id": "4f74aa1d",
   "metadata": {},
   "outputs": [],
   "source": [
    "import numpy as np"
   ]
  },
  {
   "cell_type": "code",
   "execution_count": 2,
   "id": "5a01bd7c",
   "metadata": {},
   "outputs": [],
   "source": [
    "data = np.array([[1,2,3,4],[5,6,7,8],[9,2,4,5],[4,6,8,3]])"
   ]
  },
  {
   "cell_type": "code",
   "execution_count": 3,
   "id": "6b2ef270",
   "metadata": {},
   "outputs": [
    {
     "data": {
      "text/plain": [
       "array([[1, 2, 3, 4],\n",
       "       [5, 6, 7, 8],\n",
       "       [9, 2, 4, 5],\n",
       "       [4, 6, 8, 3]])"
      ]
     },
     "execution_count": 3,
     "metadata": {},
     "output_type": "execute_result"
    }
   ],
   "source": [
    "data"
   ]
  },
  {
   "cell_type": "code",
   "execution_count": 4,
   "id": "bc2e55f6",
   "metadata": {},
   "outputs": [
    {
     "data": {
      "text/plain": [
       "2"
      ]
     },
     "execution_count": 4,
     "metadata": {},
     "output_type": "execute_result"
    }
   ],
   "source": [
    "data.ndim"
   ]
  },
  {
   "cell_type": "code",
   "execution_count": 5,
   "id": "24cf7795",
   "metadata": {},
   "outputs": [
    {
     "data": {
      "text/plain": [
       "9"
      ]
     },
     "execution_count": 5,
     "metadata": {},
     "output_type": "execute_result"
    }
   ],
   "source": [
    "data.max() # it returns the maximum value of each column"
   ]
  },
  {
   "cell_type": "code",
   "execution_count": 6,
   "id": "e2b15baf",
   "metadata": {},
   "outputs": [
    {
     "data": {
      "text/plain": [
       "array([9, 6, 8, 8])"
      ]
     },
     "execution_count": 6,
     "metadata": {},
     "output_type": "execute_result"
    }
   ],
   "source": [
    "data.max(axis = 0) # it returns the maximum value of each column"
   ]
  },
  {
   "cell_type": "code",
   "execution_count": 7,
   "id": "b6a6eb45",
   "metadata": {},
   "outputs": [
    {
     "data": {
      "text/plain": [
       "array([4, 8, 9, 8])"
      ]
     },
     "execution_count": 7,
     "metadata": {},
     "output_type": "execute_result"
    }
   ],
   "source": [
    "data.max(axis = 1) # it returns the maximum value of each row"
   ]
  },
  {
   "cell_type": "code",
   "execution_count": 8,
   "id": "a86b4bf6",
   "metadata": {},
   "outputs": [],
   "source": [
    "# if didn't give give any axis means, it will return max value of column only"
   ]
  },
  {
   "cell_type": "markdown",
   "id": "25e6a2c1",
   "metadata": {},
   "source": [
    "# reshape"
   ]
  },
  {
   "cell_type": "code",
   "execution_count": 9,
   "id": "f06465e9",
   "metadata": {},
   "outputs": [],
   "source": [
    "x = np.arange(12)"
   ]
  },
  {
   "cell_type": "code",
   "execution_count": 10,
   "id": "a9bf8237",
   "metadata": {},
   "outputs": [
    {
     "data": {
      "text/plain": [
       "array([ 0,  1,  2,  3,  4,  5,  6,  7,  8,  9, 10, 11])"
      ]
     },
     "execution_count": 10,
     "metadata": {},
     "output_type": "execute_result"
    }
   ],
   "source": [
    "x"
   ]
  },
  {
   "cell_type": "code",
   "execution_count": 11,
   "id": "bd23d659",
   "metadata": {},
   "outputs": [
    {
     "data": {
      "text/plain": [
       "array([[ 0,  1,  2],\n",
       "       [ 3,  4,  5],\n",
       "       [ 6,  7,  8],\n",
       "       [ 9, 10, 11]])"
      ]
     },
     "execution_count": 11,
     "metadata": {},
     "output_type": "execute_result"
    }
   ],
   "source": [
    "x.reshape(4,3)"
   ]
  },
  {
   "cell_type": "code",
   "execution_count": 12,
   "id": "65968fa4",
   "metadata": {},
   "outputs": [
    {
     "data": {
      "text/plain": [
       "array([[ 0,  1,  2,  3],\n",
       "       [ 4,  5,  6,  7],\n",
       "       [ 8,  9, 10, 11]])"
      ]
     },
     "execution_count": 12,
     "metadata": {},
     "output_type": "execute_result"
    }
   ],
   "source": [
    "x.reshape(3,4)"
   ]
  },
  {
   "cell_type": "code",
   "execution_count": 13,
   "id": "3db3fe56",
   "metadata": {},
   "outputs": [
    {
     "data": {
      "text/plain": [
       "array([[ 0,  1],\n",
       "       [ 2,  3],\n",
       "       [ 4,  5],\n",
       "       [ 6,  7],\n",
       "       [ 8,  9],\n",
       "       [10, 11]])"
      ]
     },
     "execution_count": 13,
     "metadata": {},
     "output_type": "execute_result"
    }
   ],
   "source": [
    "x.reshape(6,2)"
   ]
  },
  {
   "cell_type": "code",
   "execution_count": 14,
   "id": "fd9d45eb",
   "metadata": {},
   "outputs": [
    {
     "data": {
      "text/plain": [
       "array([[ 0,  1,  2,  3,  4,  5],\n",
       "       [ 6,  7,  8,  9, 10, 11]])"
      ]
     },
     "execution_count": 14,
     "metadata": {},
     "output_type": "execute_result"
    }
   ],
   "source": [
    "x.reshape(2,6)"
   ]
  },
  {
   "cell_type": "markdown",
   "id": "a8218d49",
   "metadata": {},
   "source": [
    "# hstack"
   ]
  },
  {
   "cell_type": "code",
   "execution_count": 15,
   "id": "f3eb5268",
   "metadata": {},
   "outputs": [],
   "source": [
    "x = np.array([1,2,3])"
   ]
  },
  {
   "cell_type": "code",
   "execution_count": 16,
   "id": "419ef90b",
   "metadata": {},
   "outputs": [],
   "source": [
    "y = np.array([4,5,6])"
   ]
  },
  {
   "cell_type": "code",
   "execution_count": 17,
   "id": "8ae65e58",
   "metadata": {},
   "outputs": [],
   "source": [
    "np.hstack?"
   ]
  },
  {
   "cell_type": "raw",
   "id": "f83d0898",
   "metadata": {},
   "source": [
    "Signature: np.hstack(tup)\n",
    "Docstring:\n",
    "Stack arrays in sequence horizontally (column wise).\n",
    "\n",
    "This is equivalent to concatenation along the second axis, except for 1-D\n",
    "arrays where it concatenates along the first axis. Rebuilds arrays divided\n",
    "by `hsplit`.\n",
    "\n",
    "This function makes most sense for arrays with up to 3 dimensions. For\n",
    "instance, for pixel-data with a height (first axis), width (second axis),\n",
    "and r/g/b channels (third axis). The functions `concatenate`, `stack` and\n",
    "`block` provide more general stacking and concatenation operations.\n",
    "\n",
    "Parameters\n",
    "----------\n",
    "tup : sequence of ndarrays\n",
    "    The arrays must have the same shape along all but the second axis,\n",
    "    except 1-D arrays which can be any length.\n",
    "\n",
    "Returns\n",
    "-------\n",
    "stacked : ndarray\n",
    "    The array formed by stacking the given arrays.\n",
    "\n",
    "See Also\n",
    "--------\n",
    "concatenate : Join a sequence of arrays along an existing axis.\n",
    "stack : Join a sequence of arrays along a new axis.\n",
    "block : Assemble an nd-array from nested lists of blocks.\n",
    "vstack : Stack arrays in sequence vertically (row wise).\n",
    "dstack : Stack arrays in sequence depth wise (along third axis).\n",
    "column_stack : Stack 1-D arrays as columns into a 2-D array.\n",
    "hsplit : Split an array into multiple sub-arrays horizontally (column-wise).\n",
    "\n",
    "Examples\n",
    "--------\n",
    ">>> a = np.array((1,2,3))\n",
    ">>> b = np.array((2,3,4))\n",
    ">>> np.hstack((a,b))\n",
    "array([1, 2, 3, 2, 3, 4])\n",
    ">>> a = np.array([[1],[2],[3]])\n",
    ">>> b = np.array([[2],[3],[4]])\n",
    ">>> np.hstack((a,b))\n",
    "array([[1, 2],\n",
    "       [2, 3],\n",
    "       [3, 4]])"
   ]
  },
  {
   "cell_type": "code",
   "execution_count": 18,
   "id": "912ce237",
   "metadata": {},
   "outputs": [
    {
     "data": {
      "text/plain": [
       "array([1, 2, 3, 4, 5, 6])"
      ]
     },
     "execution_count": 18,
     "metadata": {},
     "output_type": "execute_result"
    }
   ],
   "source": [
    "np.hstack((x,y)) # it accepts only in tuple"
   ]
  },
  {
   "cell_type": "code",
   "execution_count": 19,
   "id": "34f859a0",
   "metadata": {},
   "outputs": [
    {
     "data": {
      "text/plain": [
       "1"
      ]
     },
     "execution_count": 19,
     "metadata": {},
     "output_type": "execute_result"
    }
   ],
   "source": [
    "x.ndim"
   ]
  },
  {
   "cell_type": "code",
   "execution_count": 30,
   "id": "9073ef2d",
   "metadata": {},
   "outputs": [],
   "source": [
    "x1 = np.array([[1,2,3],[4,5,6]])"
   ]
  },
  {
   "cell_type": "code",
   "execution_count": 31,
   "id": "b075bc05",
   "metadata": {},
   "outputs": [
    {
     "data": {
      "text/plain": [
       "array([[1, 2, 3],\n",
       "       [4, 5, 6]])"
      ]
     },
     "execution_count": 31,
     "metadata": {},
     "output_type": "execute_result"
    }
   ],
   "source": [
    "x1"
   ]
  },
  {
   "cell_type": "code",
   "execution_count": 32,
   "id": "a8966137",
   "metadata": {},
   "outputs": [],
   "source": [
    "y1 = np.array([[1,2,3],[4,5,6]])"
   ]
  },
  {
   "cell_type": "code",
   "execution_count": 33,
   "id": "27fdc8b1",
   "metadata": {},
   "outputs": [
    {
     "data": {
      "text/plain": [
       "array([[1, 2, 3],\n",
       "       [4, 5, 6]])"
      ]
     },
     "execution_count": 33,
     "metadata": {},
     "output_type": "execute_result"
    }
   ],
   "source": [
    "y1"
   ]
  },
  {
   "cell_type": "code",
   "execution_count": 34,
   "id": "a0ec981d",
   "metadata": {},
   "outputs": [
    {
     "data": {
      "text/plain": [
       "array([[1, 2, 3, 1, 2, 3],\n",
       "       [4, 5, 6, 4, 5, 6]])"
      ]
     },
     "execution_count": 34,
     "metadata": {},
     "output_type": "execute_result"
    }
   ],
   "source": [
    "np.hstack((x1,y1)) # it is horizontally combine the matrix(row-wise)"
   ]
  },
  {
   "cell_type": "code",
   "execution_count": 23,
   "id": "502b1607",
   "metadata": {},
   "outputs": [],
   "source": [
    "a=np.random.randint(20,size=(3,3))"
   ]
  },
  {
   "cell_type": "code",
   "execution_count": 24,
   "id": "228a8c95",
   "metadata": {},
   "outputs": [],
   "source": [
    "b=np.random.randint(20,size=(3,3))"
   ]
  },
  {
   "cell_type": "code",
   "execution_count": 25,
   "id": "b2983ac9",
   "metadata": {},
   "outputs": [
    {
     "data": {
      "text/plain": [
       "array([[ 7,  2,  7],\n",
       "       [ 4, 12,  8],\n",
       "       [ 2,  7, 16]])"
      ]
     },
     "execution_count": 25,
     "metadata": {},
     "output_type": "execute_result"
    }
   ],
   "source": [
    "a"
   ]
  },
  {
   "cell_type": "code",
   "execution_count": 26,
   "id": "86caf2a6",
   "metadata": {},
   "outputs": [
    {
     "data": {
      "text/plain": [
       "array([[ 8, 11, 15],\n",
       "       [17, 16, 19],\n",
       "       [17, 13, 15]])"
      ]
     },
     "execution_count": 26,
     "metadata": {},
     "output_type": "execute_result"
    }
   ],
   "source": [
    "b"
   ]
  },
  {
   "cell_type": "code",
   "execution_count": 28,
   "id": "b1738e03",
   "metadata": {},
   "outputs": [
    {
     "data": {
      "text/plain": [
       "array([[[ 7,  2,  7],\n",
       "        [ 4, 12,  8],\n",
       "        [ 2,  7, 16]],\n",
       "\n",
       "       [[ 8, 11, 15],\n",
       "        [17, 16, 19],\n",
       "        [17, 13, 15]]])"
      ]
     },
     "execution_count": 28,
     "metadata": {},
     "output_type": "execute_result"
    }
   ],
   "source": [
    "np.stack((a,b)) # this is normal stack"
   ]
  },
  {
   "cell_type": "code",
   "execution_count": 29,
   "id": "ee95bb1e",
   "metadata": {},
   "outputs": [
    {
     "data": {
      "text/plain": [
       "array([[ 7,  2,  7,  8, 11, 15],\n",
       "       [ 4, 12,  8, 17, 16, 19],\n",
       "       [ 2,  7, 16, 17, 13, 15]])"
      ]
     },
     "execution_count": 29,
     "metadata": {},
     "output_type": "execute_result"
    }
   ],
   "source": [
    "np.hstack((a,b)) # it horizontally combine the matrix in row-wise"
   ]
  },
  {
   "cell_type": "markdown",
   "id": "d0864350",
   "metadata": {},
   "source": [
    "# vstack"
   ]
  },
  {
   "cell_type": "raw",
   "id": "cfa31c7b",
   "metadata": {},
   "source": [
    "numpy.vstack() function is used to stack the sequence of input arrays vertically to make a single array."
   ]
  },
  {
   "cell_type": "code",
   "execution_count": 35,
   "id": "b6f9ffc5",
   "metadata": {},
   "outputs": [
    {
     "data": {
      "text/plain": [
       "array([[ 7,  2,  7],\n",
       "       [ 4, 12,  8],\n",
       "       [ 2,  7, 16]])"
      ]
     },
     "execution_count": 35,
     "metadata": {},
     "output_type": "execute_result"
    }
   ],
   "source": [
    "a"
   ]
  },
  {
   "cell_type": "code",
   "execution_count": 36,
   "id": "6df4d8d6",
   "metadata": {},
   "outputs": [
    {
     "data": {
      "text/plain": [
       "array([[ 8, 11, 15],\n",
       "       [17, 16, 19],\n",
       "       [17, 13, 15]])"
      ]
     },
     "execution_count": 36,
     "metadata": {},
     "output_type": "execute_result"
    }
   ],
   "source": [
    "b"
   ]
  },
  {
   "cell_type": "code",
   "execution_count": 37,
   "id": "587f5dd2",
   "metadata": {},
   "outputs": [
    {
     "data": {
      "text/plain": [
       "array([[ 7,  2,  7],\n",
       "       [ 4, 12,  8],\n",
       "       [ 2,  7, 16],\n",
       "       [ 8, 11, 15],\n",
       "       [17, 16, 19],\n",
       "       [17, 13, 15]])"
      ]
     },
     "execution_count": 37,
     "metadata": {},
     "output_type": "execute_result"
    }
   ],
   "source": [
    "np.vstack((a,b))"
   ]
  },
  {
   "cell_type": "markdown",
   "id": "030db890",
   "metadata": {},
   "source": [
    "# block"
   ]
  },
  {
   "cell_type": "code",
   "execution_count": 38,
   "id": "3aaaaddb",
   "metadata": {},
   "outputs": [],
   "source": [
    "a=np.array([1,2,3])"
   ]
  },
  {
   "cell_type": "code",
   "execution_count": 39,
   "id": "13c6e540",
   "metadata": {},
   "outputs": [],
   "source": [
    "b=np.array([1,2,3])"
   ]
  },
  {
   "cell_type": "code",
   "execution_count": 40,
   "id": "d33f5988",
   "metadata": {},
   "outputs": [],
   "source": [
    "c=np.array([1,2,3])"
   ]
  },
  {
   "cell_type": "code",
   "execution_count": 43,
   "id": "dcc44ad7",
   "metadata": {},
   "outputs": [
    {
     "data": {
      "text/plain": [
       "array([1, 2, 3, 1, 2, 3, 1, 2, 3])"
      ]
     },
     "execution_count": 43,
     "metadata": {},
     "output_type": "execute_result"
    }
   ],
   "source": [
    "np.block([a,b,c]) # this is also same as stack"
   ]
  },
  {
   "cell_type": "code",
   "execution_count": 44,
   "id": "7d9b72db",
   "metadata": {},
   "outputs": [],
   "source": [
    "a=np.random.randint(20,size=(3,3))"
   ]
  },
  {
   "cell_type": "code",
   "execution_count": 45,
   "id": "f8223454",
   "metadata": {},
   "outputs": [],
   "source": [
    "b=np.random.randint(20,size=(3,3))"
   ]
  },
  {
   "cell_type": "code",
   "execution_count": 46,
   "id": "84614df0",
   "metadata": {},
   "outputs": [
    {
     "data": {
      "text/plain": [
       "array([[17,  1,  7],\n",
       "       [ 1, 12, 15],\n",
       "       [ 3, 15,  9]])"
      ]
     },
     "execution_count": 46,
     "metadata": {},
     "output_type": "execute_result"
    }
   ],
   "source": [
    "a"
   ]
  },
  {
   "cell_type": "code",
   "execution_count": 47,
   "id": "dd52064a",
   "metadata": {},
   "outputs": [
    {
     "data": {
      "text/plain": [
       "array([[ 2,  5,  3],\n",
       "       [18, 12,  5],\n",
       "       [10, 15,  4]])"
      ]
     },
     "execution_count": 47,
     "metadata": {},
     "output_type": "execute_result"
    }
   ],
   "source": [
    "b"
   ]
  },
  {
   "cell_type": "code",
   "execution_count": 48,
   "id": "29ea1904",
   "metadata": {},
   "outputs": [
    {
     "data": {
      "text/plain": [
       "array([[17,  1,  7,  2,  5,  3],\n",
       "       [ 1, 12, 15, 18, 12,  5],\n",
       "       [ 3, 15,  9, 10, 15,  4]])"
      ]
     },
     "execution_count": 48,
     "metadata": {},
     "output_type": "execute_result"
    }
   ],
   "source": [
    "np.block([a,b]) "
   ]
  },
  {
   "cell_type": "markdown",
   "id": "37d7a5c4",
   "metadata": {},
   "source": [
    "# concatenate"
   ]
  },
  {
   "cell_type": "code",
   "execution_count": 50,
   "id": "35f60e27",
   "metadata": {},
   "outputs": [],
   "source": [
    "a = np.array([[4,8],[6,1]])"
   ]
  },
  {
   "cell_type": "code",
   "execution_count": 53,
   "id": "72e7f535",
   "metadata": {},
   "outputs": [
    {
     "data": {
      "text/plain": [
       "array([[4, 8],\n",
       "       [6, 1]])"
      ]
     },
     "execution_count": 53,
     "metadata": {},
     "output_type": "execute_result"
    }
   ],
   "source": [
    "a"
   ]
  },
  {
   "cell_type": "code",
   "execution_count": 51,
   "id": "21e3693b",
   "metadata": {},
   "outputs": [],
   "source": [
    "b = np.array([[3,5],[7,2]])"
   ]
  },
  {
   "cell_type": "code",
   "execution_count": 54,
   "id": "a2606bcd",
   "metadata": {},
   "outputs": [
    {
     "data": {
      "text/plain": [
       "array([[3, 5],\n",
       "       [7, 2]])"
      ]
     },
     "execution_count": 54,
     "metadata": {},
     "output_type": "execute_result"
    }
   ],
   "source": [
    "b"
   ]
  },
  {
   "cell_type": "code",
   "execution_count": 55,
   "id": "6870a4b2",
   "metadata": {},
   "outputs": [
    {
     "data": {
      "text/plain": [
       "array([[4, 8, 3, 5],\n",
       "       [6, 1, 7, 2]])"
      ]
     },
     "execution_count": 55,
     "metadata": {},
     "output_type": "execute_result"
    }
   ],
   "source": [
    "np.hstack((a,b)) # row-wise"
   ]
  },
  {
   "cell_type": "code",
   "execution_count": 56,
   "id": "a5b23368",
   "metadata": {},
   "outputs": [
    {
     "data": {
      "text/plain": [
       "array([[4, 8],\n",
       "       [6, 1],\n",
       "       [3, 5],\n",
       "       [7, 2]])"
      ]
     },
     "execution_count": 56,
     "metadata": {},
     "output_type": "execute_result"
    }
   ],
   "source": [
    "np.vstack((a,b)) # column-wise"
   ]
  },
  {
   "cell_type": "code",
   "execution_count": 57,
   "id": "aabb68e4",
   "metadata": {},
   "outputs": [
    {
     "data": {
      "text/plain": [
       "array([[4, 8],\n",
       "       [6, 1],\n",
       "       [3, 5],\n",
       "       [7, 2]])"
      ]
     },
     "execution_count": 57,
     "metadata": {},
     "output_type": "execute_result"
    }
   ],
   "source": [
    "np.concatenate((a,b)) # defaultly it is column-wise"
   ]
  },
  {
   "cell_type": "code",
   "execution_count": 58,
   "id": "23ae20ad",
   "metadata": {},
   "outputs": [
    {
     "data": {
      "text/plain": [
       "array([4, 8, 6, 1, 3, 5, 7, 2])"
      ]
     },
     "execution_count": 58,
     "metadata": {},
     "output_type": "execute_result"
    }
   ],
   "source": [
    "np.concatenate((a, b), axis=None)"
   ]
  },
  {
   "cell_type": "code",
   "execution_count": 59,
   "id": "56d68942",
   "metadata": {},
   "outputs": [
    {
     "data": {
      "text/plain": [
       "array([[4, 8],\n",
       "       [6, 1],\n",
       "       [3, 5],\n",
       "       [7, 2]])"
      ]
     },
     "execution_count": 59,
     "metadata": {},
     "output_type": "execute_result"
    }
   ],
   "source": [
    "np.concatenate((a, b), axis=0) # axis = 0 means column-wise"
   ]
  },
  {
   "cell_type": "code",
   "execution_count": 60,
   "id": "ea0abf40",
   "metadata": {},
   "outputs": [
    {
     "data": {
      "text/plain": [
       "array([[4, 8, 3, 5],\n",
       "       [6, 1, 7, 2]])"
      ]
     },
     "execution_count": 60,
     "metadata": {},
     "output_type": "execute_result"
    }
   ],
   "source": [
    "np.concatenate((a, b), axis=1) # axis = 1 means row-wise"
   ]
  },
  {
   "cell_type": "code",
   "execution_count": 61,
   "id": "246c8d8b",
   "metadata": {},
   "outputs": [],
   "source": [
    "# concatenate is also similar to hstack and vstack. Based on axis, we can change the matrix"
   ]
  },
  {
   "cell_type": "markdown",
   "id": "134642e5",
   "metadata": {},
   "source": [
    "# pandas intro"
   ]
  },
  {
   "cell_type": "code",
   "execution_count": 62,
   "id": "d7a0e537",
   "metadata": {},
   "outputs": [],
   "source": [
    "import pandas as pd"
   ]
  },
  {
   "cell_type": "code",
   "execution_count": 64,
   "id": "a501f879",
   "metadata": {},
   "outputs": [],
   "source": [
    "data = pd.Series(np.random.randint(12,size = 10))"
   ]
  },
  {
   "cell_type": "code",
   "execution_count": 65,
   "id": "36650cff",
   "metadata": {},
   "outputs": [
    {
     "data": {
      "text/plain": [
       "0    10\n",
       "1     4\n",
       "2     1\n",
       "3     3\n",
       "4     6\n",
       "5     2\n",
       "6     2\n",
       "7     9\n",
       "8     8\n",
       "9     4\n",
       "dtype: int64"
      ]
     },
     "execution_count": 65,
     "metadata": {},
     "output_type": "execute_result"
    }
   ],
   "source": [
    "data"
   ]
  },
  {
   "cell_type": "code",
   "execution_count": 66,
   "id": "6c8251aa",
   "metadata": {},
   "outputs": [
    {
     "data": {
      "text/plain": [
       "1"
      ]
     },
     "execution_count": 66,
     "metadata": {},
     "output_type": "execute_result"
    }
   ],
   "source": [
    "data.ndim"
   ]
  },
  {
   "cell_type": "code",
   "execution_count": 67,
   "id": "801a5a3a",
   "metadata": {},
   "outputs": [],
   "source": [
    "a1 = pd.Series(np.random.randint(12,size = 5))"
   ]
  },
  {
   "cell_type": "code",
   "execution_count": 68,
   "id": "53b64c55",
   "metadata": {},
   "outputs": [],
   "source": [
    " b1 = pd.Series(np.random.randint(12,size = 5))"
   ]
  },
  {
   "cell_type": "code",
   "execution_count": 69,
   "id": "5c2e796f",
   "metadata": {},
   "outputs": [],
   "source": [
    "data = pd.DataFrame({\"Math\":a1,\"Science\":b1})\n"
   ]
  },
  {
   "cell_type": "code",
   "execution_count": 70,
   "id": "a6bc3050",
   "metadata": {},
   "outputs": [
    {
     "data": {
      "text/html": [
       "<div>\n",
       "<style scoped>\n",
       "    .dataframe tbody tr th:only-of-type {\n",
       "        vertical-align: middle;\n",
       "    }\n",
       "\n",
       "    .dataframe tbody tr th {\n",
       "        vertical-align: top;\n",
       "    }\n",
       "\n",
       "    .dataframe thead th {\n",
       "        text-align: right;\n",
       "    }\n",
       "</style>\n",
       "<table border=\"1\" class=\"dataframe\">\n",
       "  <thead>\n",
       "    <tr style=\"text-align: right;\">\n",
       "      <th></th>\n",
       "      <th>Math</th>\n",
       "      <th>Science</th>\n",
       "    </tr>\n",
       "  </thead>\n",
       "  <tbody>\n",
       "    <tr>\n",
       "      <th>0</th>\n",
       "      <td>11</td>\n",
       "      <td>11</td>\n",
       "    </tr>\n",
       "    <tr>\n",
       "      <th>1</th>\n",
       "      <td>5</td>\n",
       "      <td>1</td>\n",
       "    </tr>\n",
       "    <tr>\n",
       "      <th>2</th>\n",
       "      <td>10</td>\n",
       "      <td>0</td>\n",
       "    </tr>\n",
       "    <tr>\n",
       "      <th>3</th>\n",
       "      <td>10</td>\n",
       "      <td>3</td>\n",
       "    </tr>\n",
       "    <tr>\n",
       "      <th>4</th>\n",
       "      <td>6</td>\n",
       "      <td>8</td>\n",
       "    </tr>\n",
       "  </tbody>\n",
       "</table>\n",
       "</div>"
      ],
      "text/plain": [
       "   Math  Science\n",
       "0    11       11\n",
       "1     5        1\n",
       "2    10        0\n",
       "3    10        3\n",
       "4     6        8"
      ]
     },
     "execution_count": 70,
     "metadata": {},
     "output_type": "execute_result"
    }
   ],
   "source": [
    "data"
   ]
  },
  {
   "cell_type": "code",
   "execution_count": 72,
   "id": "75ef02eb",
   "metadata": {},
   "outputs": [
    {
     "data": {
      "text/plain": [
       "2"
      ]
     },
     "execution_count": 72,
     "metadata": {},
     "output_type": "execute_result"
    }
   ],
   "source": [
    "data.ndim"
   ]
  }
 ],
 "metadata": {
  "kernelspec": {
   "display_name": "Python 3 (ipykernel)",
   "language": "python",
   "name": "python3"
  },
  "language_info": {
   "codemirror_mode": {
    "name": "ipython",
    "version": 3
   },
   "file_extension": ".py",
   "mimetype": "text/x-python",
   "name": "python",
   "nbconvert_exporter": "python",
   "pygments_lexer": "ipython3",
   "version": "3.9.7"
  }
 },
 "nbformat": 4,
 "nbformat_minor": 5
}
