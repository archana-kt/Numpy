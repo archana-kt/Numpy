{
 "cells": [
  {
   "cell_type": "markdown",
   "id": "601f7dd3",
   "metadata": {},
   "source": [
    "# Numpy"
   ]
  },
  {
   "cell_type": "code",
   "execution_count": 1,
   "id": "c01f9da7",
   "metadata": {},
   "outputs": [],
   "source": [
    "import numpy as np"
   ]
  },
  {
   "cell_type": "code",
   "execution_count": 5,
   "id": "30a83453",
   "metadata": {},
   "outputs": [],
   "source": [
    "x = np.random.randint(10, size = (5,5))"
   ]
  },
  {
   "cell_type": "code",
   "execution_count": 6,
   "id": "5c8c55d6",
   "metadata": {},
   "outputs": [
    {
     "data": {
      "text/plain": [
       "array([[0, 7, 7, 0, 9],\n",
       "       [9, 5, 9, 1, 4],\n",
       "       [7, 7, 5, 7, 0],\n",
       "       [4, 0, 7, 6, 7],\n",
       "       [3, 1, 8, 2, 6]])"
      ]
     },
     "execution_count": 6,
     "metadata": {},
     "output_type": "execute_result"
    }
   ],
   "source": [
    "x"
   ]
  },
  {
   "cell_type": "markdown",
   "id": "fd7df19b",
   "metadata": {},
   "source": [
    "# Axis"
   ]
  },
  {
   "cell_type": "code",
   "execution_count": 7,
   "id": "fe7b211f",
   "metadata": {},
   "outputs": [
    {
     "data": {
      "text/plain": [
       "9"
      ]
     },
     "execution_count": 7,
     "metadata": {},
     "output_type": "execute_result"
    }
   ],
   "source": [
    "x.max() # Total matrix 9 is high"
   ]
  },
  {
   "cell_type": "code",
   "execution_count": 8,
   "id": "0597481d",
   "metadata": {},
   "outputs": [
    {
     "data": {
      "text/plain": [
       "0"
      ]
     },
     "execution_count": 8,
     "metadata": {},
     "output_type": "execute_result"
    }
   ],
   "source": [
    "x.min() # Total matrix 0 is low"
   ]
  },
  {
   "cell_type": "code",
   "execution_count": 9,
   "id": "d3d98b1e",
   "metadata": {},
   "outputs": [
    {
     "data": {
      "text/plain": [
       "array([9, 7, 9, 7, 9])"
      ]
     },
     "execution_count": 9,
     "metadata": {},
     "output_type": "execute_result"
    }
   ],
   "source": [
    "x.max(axis = 0) # In each column, max value is returned"
   ]
  },
  {
   "cell_type": "code",
   "execution_count": 10,
   "id": "aec36976",
   "metadata": {},
   "outputs": [
    {
     "data": {
      "text/plain": [
       "array([9, 9, 7, 7, 8])"
      ]
     },
     "execution_count": 10,
     "metadata": {},
     "output_type": "execute_result"
    }
   ],
   "source": [
    "x.max(axis = 1) # In each row, max value is returned"
   ]
  },
  {
   "cell_type": "code",
   "execution_count": 11,
   "id": "b45ac1ab",
   "metadata": {},
   "outputs": [
    {
     "data": {
      "text/plain": [
       "array([0, 0, 5, 0, 0])"
      ]
     },
     "execution_count": 11,
     "metadata": {},
     "output_type": "execute_result"
    }
   ],
   "source": [
    "x.min(axis = 0) # In each column, min value is returned"
   ]
  },
  {
   "cell_type": "code",
   "execution_count": 12,
   "id": "a05743e2",
   "metadata": {},
   "outputs": [
    {
     "data": {
      "text/plain": [
       "array([0, 1, 0, 0, 1])"
      ]
     },
     "execution_count": 12,
     "metadata": {},
     "output_type": "execute_result"
    }
   ],
   "source": [
    "x.min(axis = 1) # In each row, min value is returned"
   ]
  },
  {
   "cell_type": "markdown",
   "id": "49e5b91e",
   "metadata": {},
   "source": [
    "# Arithmetic Operations"
   ]
  },
  {
   "cell_type": "code",
   "execution_count": 13,
   "id": "b59e7f45",
   "metadata": {},
   "outputs": [],
   "source": [
    "x = np.random.randint(12, size = (5,4))"
   ]
  },
  {
   "cell_type": "code",
   "execution_count": 14,
   "id": "4f3655b4",
   "metadata": {},
   "outputs": [
    {
     "data": {
      "text/plain": [
       "array([[ 9, 11,  8,  8],\n",
       "       [ 1, 10,  9,  4],\n",
       "       [ 3,  8,  5,  3],\n",
       "       [ 0,  6,  9,  2],\n",
       "       [ 3,  0,  4,  4]])"
      ]
     },
     "execution_count": 14,
     "metadata": {},
     "output_type": "execute_result"
    }
   ],
   "source": [
    "x"
   ]
  },
  {
   "cell_type": "code",
   "execution_count": 15,
   "id": "21b1fcc9",
   "metadata": {},
   "outputs": [],
   "source": [
    "y = np.random.randint(12, size = (5,4))"
   ]
  },
  {
   "cell_type": "code",
   "execution_count": 16,
   "id": "27e14f58",
   "metadata": {},
   "outputs": [
    {
     "data": {
      "text/plain": [
       "array([[ 0,  4,  6,  5],\n",
       "       [ 1,  9,  1,  3],\n",
       "       [ 6,  5,  5, 10],\n",
       "       [ 7,  9,  3,  0],\n",
       "       [10,  2,  0, 10]])"
      ]
     },
     "execution_count": 16,
     "metadata": {},
     "output_type": "execute_result"
    }
   ],
   "source": [
    "y"
   ]
  },
  {
   "cell_type": "code",
   "execution_count": 17,
   "id": "7711a8fa",
   "metadata": {},
   "outputs": [
    {
     "data": {
      "text/plain": [
       "array([[ 9, 15, 14, 13],\n",
       "       [ 2, 19, 10,  7],\n",
       "       [ 9, 13, 10, 13],\n",
       "       [ 7, 15, 12,  2],\n",
       "       [13,  2,  4, 14]])"
      ]
     },
     "execution_count": 17,
     "metadata": {},
     "output_type": "execute_result"
    }
   ],
   "source": [
    "x + y # basic python operation"
   ]
  },
  {
   "cell_type": "code",
   "execution_count": 18,
   "id": "c8afb832",
   "metadata": {},
   "outputs": [
    {
     "data": {
      "text/plain": [
       "array([[ 9,  7,  2,  3],\n",
       "       [ 0,  1,  8,  1],\n",
       "       [-3,  3,  0, -7],\n",
       "       [-7, -3,  6,  2],\n",
       "       [-7, -2,  4, -6]])"
      ]
     },
     "execution_count": 18,
     "metadata": {},
     "output_type": "execute_result"
    }
   ],
   "source": [
    "x - y # basic python operation"
   ]
  },
  {
   "cell_type": "code",
   "execution_count": 19,
   "id": "01691417",
   "metadata": {},
   "outputs": [
    {
     "data": {
      "text/plain": [
       "array([[ 0, 44, 48, 40],\n",
       "       [ 1, 90,  9, 12],\n",
       "       [18, 40, 25, 30],\n",
       "       [ 0, 54, 27,  0],\n",
       "       [30,  0,  0, 40]])"
      ]
     },
     "execution_count": 19,
     "metadata": {},
     "output_type": "execute_result"
    }
   ],
   "source": [
    "x * y  # basic python operation"
   ]
  },
  {
   "cell_type": "code",
   "execution_count": 20,
   "id": "f1d614fc",
   "metadata": {},
   "outputs": [
    {
     "name": "stderr",
     "output_type": "stream",
     "text": [
      "/var/folders/5f/zvvxs6012zn4htwxbbkh2mvh0000gn/T/ipykernel_1466/2460002147.py:1: RuntimeWarning: divide by zero encountered in floor_divide\n",
      "  x // y\n"
     ]
    },
    {
     "data": {
      "text/plain": [
       "array([[0, 2, 1, 1],\n",
       "       [1, 1, 9, 1],\n",
       "       [0, 1, 1, 0],\n",
       "       [0, 0, 3, 0],\n",
       "       [0, 0, 0, 0]])"
      ]
     },
     "execution_count": 20,
     "metadata": {},
     "output_type": "execute_result"
    }
   ],
   "source": [
    "x // y #  basic python operation"
   ]
  },
  {
   "cell_type": "code",
   "execution_count": 21,
   "id": "477e70d2",
   "metadata": {},
   "outputs": [
    {
     "name": "stderr",
     "output_type": "stream",
     "text": [
      "/var/folders/5f/zvvxs6012zn4htwxbbkh2mvh0000gn/T/ipykernel_1466/3016948717.py:1: RuntimeWarning: divide by zero encountered in true_divide\n",
      "  x / y\n"
     ]
    },
    {
     "data": {
      "text/plain": [
       "array([[       inf, 2.75      , 1.33333333, 1.6       ],\n",
       "       [1.        , 1.11111111, 9.        , 1.33333333],\n",
       "       [0.5       , 1.6       , 1.        , 0.3       ],\n",
       "       [0.        , 0.66666667, 3.        ,        inf],\n",
       "       [0.3       , 0.        ,        inf, 0.4       ]])"
      ]
     },
     "execution_count": 21,
     "metadata": {},
     "output_type": "execute_result"
    }
   ],
   "source": [
    "x / y #  basic python operation"
   ]
  },
  {
   "cell_type": "code",
   "execution_count": 22,
   "id": "b5362fae",
   "metadata": {},
   "outputs": [
    {
     "data": {
      "text/plain": [
       "array([[ 729, 1331,  512,  512],\n",
       "       [   1, 1000,  729,   64],\n",
       "       [  27,  512,  125,   27],\n",
       "       [   0,  216,  729,    8],\n",
       "       [  27,    0,   64,   64]])"
      ]
     },
     "execution_count": 22,
     "metadata": {},
     "output_type": "execute_result"
    }
   ],
   "source": [
    "x ** 3 #  basic python operation"
   ]
  },
  {
   "cell_type": "code",
   "execution_count": 23,
   "id": "62412fbc",
   "metadata": {},
   "outputs": [
    {
     "data": {
      "text/plain": [
       "array([[1, 1, 0, 0],\n",
       "       [1, 0, 1, 0],\n",
       "       [1, 0, 1, 1],\n",
       "       [0, 0, 1, 0],\n",
       "       [1, 0, 0, 0]])"
      ]
     },
     "execution_count": 23,
     "metadata": {},
     "output_type": "execute_result"
    }
   ],
   "source": [
    "x % 2 #  basic python operation"
   ]
  },
  {
   "cell_type": "code",
   "execution_count": 26,
   "id": "dc8e41af",
   "metadata": {},
   "outputs": [
    {
     "data": {
      "text/plain": [
       "array([[ 9, 15, 14, 13],\n",
       "       [ 2, 19, 10,  7],\n",
       "       [ 9, 13, 10, 13],\n",
       "       [ 7, 15, 12,  2],\n",
       "       [13,  2,  4, 14]])"
      ]
     },
     "execution_count": 26,
     "metadata": {},
     "output_type": "execute_result"
    }
   ],
   "source": [
    "np.add(x,y) # using numpy operations"
   ]
  },
  {
   "cell_type": "code",
   "execution_count": 27,
   "id": "89260dea",
   "metadata": {},
   "outputs": [
    {
     "data": {
      "text/plain": [
       "array([[ 9,  7,  2,  3],\n",
       "       [ 0,  1,  8,  1],\n",
       "       [-3,  3,  0, -7],\n",
       "       [-7, -3,  6,  2],\n",
       "       [-7, -2,  4, -6]])"
      ]
     },
     "execution_count": 27,
     "metadata": {},
     "output_type": "execute_result"
    }
   ],
   "source": [
    "np.subtract(x,y) # using numpy operations"
   ]
  },
  {
   "cell_type": "code",
   "execution_count": 28,
   "id": "dfc624d6",
   "metadata": {},
   "outputs": [
    {
     "name": "stderr",
     "output_type": "stream",
     "text": [
      "/var/folders/5f/zvvxs6012zn4htwxbbkh2mvh0000gn/T/ipykernel_1466/430945158.py:1: RuntimeWarning: divide by zero encountered in true_divide\n",
      "  np.divide(x,y)\n"
     ]
    },
    {
     "data": {
      "text/plain": [
       "array([[       inf, 2.75      , 1.33333333, 1.6       ],\n",
       "       [1.        , 1.11111111, 9.        , 1.33333333],\n",
       "       [0.5       , 1.6       , 1.        , 0.3       ],\n",
       "       [0.        , 0.66666667, 3.        ,        inf],\n",
       "       [0.3       , 0.        ,        inf, 0.4       ]])"
      ]
     },
     "execution_count": 28,
     "metadata": {},
     "output_type": "execute_result"
    }
   ],
   "source": [
    "np.divide(x,y) # using numpy operations"
   ]
  },
  {
   "cell_type": "code",
   "execution_count": 29,
   "id": "c22d6298",
   "metadata": {},
   "outputs": [
    {
     "data": {
      "text/plain": [
       "array([[ 0, 44, 48, 40],\n",
       "       [ 1, 90,  9, 12],\n",
       "       [18, 40, 25, 30],\n",
       "       [ 0, 54, 27,  0],\n",
       "       [30,  0,  0, 40]])"
      ]
     },
     "execution_count": 29,
     "metadata": {},
     "output_type": "execute_result"
    }
   ],
   "source": [
    "np.multiply(x,y) # using numpy operations"
   ]
  },
  {
   "cell_type": "code",
   "execution_count": 30,
   "id": "a91e1077",
   "metadata": {},
   "outputs": [
    {
     "name": "stderr",
     "output_type": "stream",
     "text": [
      "/var/folders/5f/zvvxs6012zn4htwxbbkh2mvh0000gn/T/ipykernel_1466/965914413.py:1: RuntimeWarning: divide by zero encountered in remainder\n",
      "  np.mod(x,y)\n"
     ]
    },
    {
     "data": {
      "text/plain": [
       "array([[0, 3, 2, 3],\n",
       "       [0, 1, 0, 1],\n",
       "       [3, 3, 0, 3],\n",
       "       [0, 6, 0, 0],\n",
       "       [3, 0, 0, 4]])"
      ]
     },
     "execution_count": 30,
     "metadata": {},
     "output_type": "execute_result"
    }
   ],
   "source": [
    "np.mod(x,y) # using numpy operations"
   ]
  },
  {
   "cell_type": "markdown",
   "id": "acf19084",
   "metadata": {},
   "source": [
    "# Relational Operations"
   ]
  },
  {
   "cell_type": "code",
   "execution_count": 24,
   "id": "887935d8",
   "metadata": {},
   "outputs": [
    {
     "data": {
      "text/plain": [
       "array([[ 9, 11,  8,  8],\n",
       "       [ 1, 10,  9,  4],\n",
       "       [ 3,  8,  5,  3],\n",
       "       [ 0,  6,  9,  2],\n",
       "       [ 3,  0,  4,  4]])"
      ]
     },
     "execution_count": 24,
     "metadata": {},
     "output_type": "execute_result"
    }
   ],
   "source": [
    "x"
   ]
  },
  {
   "cell_type": "code",
   "execution_count": 31,
   "id": "841698a9",
   "metadata": {},
   "outputs": [
    {
     "data": {
      "text/plain": [
       "array([[ 0,  4,  6,  5],\n",
       "       [ 1,  9,  1,  3],\n",
       "       [ 6,  5,  5, 10],\n",
       "       [ 7,  9,  3,  0],\n",
       "       [10,  2,  0, 10]])"
      ]
     },
     "execution_count": 31,
     "metadata": {},
     "output_type": "execute_result"
    }
   ],
   "source": [
    "y"
   ]
  },
  {
   "cell_type": "code",
   "execution_count": 25,
   "id": "40bc3bb5",
   "metadata": {},
   "outputs": [
    {
     "data": {
      "text/plain": [
       "array([[False,  True, False, False],\n",
       "       [False, False, False, False],\n",
       "       [False, False, False, False],\n",
       "       [False, False, False, False],\n",
       "       [False, False, False, False]])"
      ]
     },
     "execution_count": 25,
     "metadata": {},
     "output_type": "execute_result"
    }
   ],
   "source": [
    "x > 10"
   ]
  },
  {
   "cell_type": "code",
   "execution_count": 32,
   "id": "3cbe2be4",
   "metadata": {},
   "outputs": [
    {
     "data": {
      "text/plain": [
       "array([[ True,  True,  True,  True],\n",
       "       [False,  True,  True,  True],\n",
       "       [False,  True, False, False],\n",
       "       [False, False,  True,  True],\n",
       "       [False, False,  True, False]])"
      ]
     },
     "execution_count": 32,
     "metadata": {},
     "output_type": "execute_result"
    }
   ],
   "source": [
    "x > y"
   ]
  },
  {
   "cell_type": "code",
   "execution_count": 33,
   "id": "13b5459c",
   "metadata": {},
   "outputs": [
    {
     "data": {
      "text/plain": [
       "array([[False, False, False, False],\n",
       "       [ True, False, False, False],\n",
       "       [False, False,  True, False],\n",
       "       [False, False, False, False],\n",
       "       [False, False, False, False]])"
      ]
     },
     "execution_count": 33,
     "metadata": {},
     "output_type": "execute_result"
    }
   ],
   "source": [
    "x == y"
   ]
  },
  {
   "cell_type": "code",
   "execution_count": 34,
   "id": "42b4278c",
   "metadata": {},
   "outputs": [
    {
     "data": {
      "text/plain": [
       "array([[ 8,  8,  9, 11],\n",
       "       [ 1,  4,  9, 10],\n",
       "       [ 3,  3,  5,  8],\n",
       "       [ 0,  2,  6,  9],\n",
       "       [ 0,  3,  4,  4]])"
      ]
     },
     "execution_count": 34,
     "metadata": {},
     "output_type": "execute_result"
    }
   ],
   "source": [
    "np.sort(x)"
   ]
  },
  {
   "cell_type": "code",
   "execution_count": 36,
   "id": "fd70e875",
   "metadata": {},
   "outputs": [],
   "source": [
    "x = np.linspace(0,10) # 0 to 10 within the range"
   ]
  },
  {
   "cell_type": "code",
   "execution_count": 37,
   "id": "c096d67b",
   "metadata": {},
   "outputs": [
    {
     "data": {
      "text/plain": [
       "array([ 0.        ,  0.20408163,  0.40816327,  0.6122449 ,  0.81632653,\n",
       "        1.02040816,  1.2244898 ,  1.42857143,  1.63265306,  1.83673469,\n",
       "        2.04081633,  2.24489796,  2.44897959,  2.65306122,  2.85714286,\n",
       "        3.06122449,  3.26530612,  3.46938776,  3.67346939,  3.87755102,\n",
       "        4.08163265,  4.28571429,  4.48979592,  4.69387755,  4.89795918,\n",
       "        5.10204082,  5.30612245,  5.51020408,  5.71428571,  5.91836735,\n",
       "        6.12244898,  6.32653061,  6.53061224,  6.73469388,  6.93877551,\n",
       "        7.14285714,  7.34693878,  7.55102041,  7.75510204,  7.95918367,\n",
       "        8.16326531,  8.36734694,  8.57142857,  8.7755102 ,  8.97959184,\n",
       "        9.18367347,  9.3877551 ,  9.59183673,  9.79591837, 10.        ])"
      ]
     },
     "execution_count": 37,
     "metadata": {},
     "output_type": "execute_result"
    }
   ],
   "source": [
    "x"
   ]
  },
  {
   "cell_type": "code",
   "execution_count": 40,
   "id": "d17c1797",
   "metadata": {},
   "outputs": [],
   "source": [
    "x = np.linspace(0,10,5) # 0 to 10 within the range of 5 elements "
   ]
  },
  {
   "cell_type": "code",
   "execution_count": 41,
   "id": "f9be428b",
   "metadata": {},
   "outputs": [
    {
     "data": {
      "text/plain": [
       "array([ 0. ,  2.5,  5. ,  7.5, 10. ])"
      ]
     },
     "execution_count": 41,
     "metadata": {},
     "output_type": "execute_result"
    }
   ],
   "source": [
    "x"
   ]
  },
  {
   "cell_type": "code",
   "execution_count": 42,
   "id": "b475f646",
   "metadata": {},
   "outputs": [],
   "source": [
    "x = np.linspace(0,10,50)"
   ]
  },
  {
   "cell_type": "code",
   "execution_count": 43,
   "id": "c62480b0",
   "metadata": {},
   "outputs": [
    {
     "data": {
      "text/plain": [
       "array([ 0.        ,  0.20408163,  0.40816327,  0.6122449 ,  0.81632653,\n",
       "        1.02040816,  1.2244898 ,  1.42857143,  1.63265306,  1.83673469,\n",
       "        2.04081633,  2.24489796,  2.44897959,  2.65306122,  2.85714286,\n",
       "        3.06122449,  3.26530612,  3.46938776,  3.67346939,  3.87755102,\n",
       "        4.08163265,  4.28571429,  4.48979592,  4.69387755,  4.89795918,\n",
       "        5.10204082,  5.30612245,  5.51020408,  5.71428571,  5.91836735,\n",
       "        6.12244898,  6.32653061,  6.53061224,  6.73469388,  6.93877551,\n",
       "        7.14285714,  7.34693878,  7.55102041,  7.75510204,  7.95918367,\n",
       "        8.16326531,  8.36734694,  8.57142857,  8.7755102 ,  8.97959184,\n",
       "        9.18367347,  9.3877551 ,  9.59183673,  9.79591837, 10.        ])"
      ]
     },
     "execution_count": 43,
     "metadata": {},
     "output_type": "execute_result"
    }
   ],
   "source": [
    "x"
   ]
  },
  {
   "cell_type": "code",
   "execution_count": 44,
   "id": "1ea26bf8",
   "metadata": {},
   "outputs": [
    {
     "data": {
      "text/plain": [
       "50"
      ]
     },
     "execution_count": 44,
     "metadata": {},
     "output_type": "execute_result"
    }
   ],
   "source": [
    "len(x)"
   ]
  },
  {
   "cell_type": "code",
   "execution_count": 45,
   "id": "08be7cda",
   "metadata": {},
   "outputs": [
    {
     "data": {
      "text/plain": [
       "250.0"
      ]
     },
     "execution_count": 45,
     "metadata": {},
     "output_type": "execute_result"
    }
   ],
   "source": [
    "sum(x) # this is normal python operation"
   ]
  },
  {
   "cell_type": "code",
   "execution_count": 46,
   "id": "1356853a",
   "metadata": {},
   "outputs": [
    {
     "data": {
      "text/plain": [
       "250.0"
      ]
     },
     "execution_count": 46,
     "metadata": {},
     "output_type": "execute_result"
    }
   ],
   "source": [
    "np.sum(x) # this is numpy operation"
   ]
  },
  {
   "cell_type": "markdown",
   "id": "8f335faa",
   "metadata": {},
   "source": [
    "# See we can apply the python operations in numpy arrays very easily. No need to add,sub,compare,etc each and everything. It gives the answer for the total array."
   ]
  },
  {
   "cell_type": "code",
   "execution_count": 49,
   "id": "46a27360",
   "metadata": {},
   "outputs": [],
   "source": [
    "#-------------------------------------------------------------------------------------------------------------#"
   ]
  },
  {
   "cell_type": "markdown",
   "id": "c4846881",
   "metadata": {},
   "source": [
    "# Why numpy is better than python?\n",
    "        #Bcoz numpy is faster than python"
   ]
  },
  {
   "cell_type": "code",
   "execution_count": 47,
   "id": "d0da65d8",
   "metadata": {},
   "outputs": [
    {
     "name": "stdout",
     "output_type": "stream",
     "text": [
      "4.16 µs ± 123 ns per loop (mean ± std. dev. of 7 runs, 100,000 loops each)\n"
     ]
    }
   ],
   "source": [
    "%timeit sum(x)"
   ]
  },
  {
   "cell_type": "code",
   "execution_count": 48,
   "id": "b8fe1517",
   "metadata": {},
   "outputs": [
    {
     "name": "stdout",
     "output_type": "stream",
     "text": [
      "2.37 µs ± 2.87 ns per loop (mean ± std. dev. of 7 runs, 100,000 loops each)\n"
     ]
    }
   ],
   "source": [
    "%timeit np.sum(x)"
   ]
  }
 ],
 "metadata": {
  "kernelspec": {
   "display_name": "Python 3 (ipykernel)",
   "language": "python",
   "name": "python3"
  },
  "language_info": {
   "codemirror_mode": {
    "name": "ipython",
    "version": 3
   },
   "file_extension": ".py",
   "mimetype": "text/x-python",
   "name": "python",
   "nbconvert_exporter": "python",
   "pygments_lexer": "ipython3",
   "version": "3.9.7"
  }
 },
 "nbformat": 4,
 "nbformat_minor": 5
}
