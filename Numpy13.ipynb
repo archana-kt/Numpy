{
 "cells": [
  {
   "cell_type": "markdown",
   "id": "a9dc5e1a",
   "metadata": {},
   "source": [
    "# Numpy Aggregation"
   ]
  },
  {
   "cell_type": "markdown",
   "id": "431780da",
   "metadata": {},
   "source": [
    "# reduce"
   ]
  },
  {
   "cell_type": "code",
   "execution_count": 1,
   "id": "78ff1a4b",
   "metadata": {},
   "outputs": [],
   "source": [
    "import numpy as np"
   ]
  },
  {
   "cell_type": "code",
   "execution_count": 4,
   "id": "9225d9b3",
   "metadata": {},
   "outputs": [],
   "source": [
    "x = np.arange(1,6)"
   ]
  },
  {
   "cell_type": "code",
   "execution_count": 5,
   "id": "5707b286",
   "metadata": {},
   "outputs": [
    {
     "data": {
      "text/plain": [
       "array([1, 2, 3, 4, 5])"
      ]
     },
     "execution_count": 5,
     "metadata": {},
     "output_type": "execute_result"
    }
   ],
   "source": [
    "x"
   ]
  },
  {
   "cell_type": "code",
   "execution_count": 6,
   "id": "3b7bd820",
   "metadata": {},
   "outputs": [
    {
     "data": {
      "text/plain": [
       "15"
      ]
     },
     "execution_count": 6,
     "metadata": {},
     "output_type": "execute_result"
    }
   ],
   "source": [
    "np.add.reduce(x) # this is adding all the values in x"
   ]
  },
  {
   "cell_type": "code",
   "execution_count": 7,
   "id": "a63a05d6",
   "metadata": {},
   "outputs": [
    {
     "data": {
      "text/plain": [
       "15"
      ]
     },
     "execution_count": 7,
     "metadata": {},
     "output_type": "execute_result"
    }
   ],
   "source": [
    "np.sum(x) # see both are giving same answer"
   ]
  },
  {
   "cell_type": "code",
   "execution_count": 8,
   "id": "8944c509",
   "metadata": {},
   "outputs": [
    {
     "data": {
      "text/plain": [
       "array([1, 2, 3, 4, 5])"
      ]
     },
     "execution_count": 8,
     "metadata": {},
     "output_type": "execute_result"
    }
   ],
   "source": [
    "x"
   ]
  },
  {
   "cell_type": "code",
   "execution_count": 9,
   "id": "18a84a5a",
   "metadata": {},
   "outputs": [
    {
     "data": {
      "text/plain": [
       "120"
      ]
     },
     "execution_count": 9,
     "metadata": {},
     "output_type": "execute_result"
    }
   ],
   "source": [
    "np.multiply.reduce(x) # this is multiplying all the values of x"
   ]
  },
  {
   "cell_type": "markdown",
   "id": "7b24d179",
   "metadata": {},
   "source": [
    "# accumulate"
   ]
  },
  {
   "cell_type": "code",
   "execution_count": 13,
   "id": "4adcd50b",
   "metadata": {},
   "outputs": [],
   "source": [
    "x = np.arange(1,6)"
   ]
  },
  {
   "cell_type": "code",
   "execution_count": 14,
   "id": "2f7ceff2",
   "metadata": {},
   "outputs": [
    {
     "data": {
      "text/plain": [
       "array([1, 2, 3, 4, 5])"
      ]
     },
     "execution_count": 14,
     "metadata": {},
     "output_type": "execute_result"
    }
   ],
   "source": [
    "x"
   ]
  },
  {
   "cell_type": "code",
   "execution_count": 15,
   "id": "a3025864",
   "metadata": {},
   "outputs": [
    {
     "data": {
      "text/plain": [
       "array([ 1,  3,  6, 10, 15])"
      ]
     },
     "execution_count": 15,
     "metadata": {},
     "output_type": "execute_result"
    }
   ],
   "source": [
    "np.add.accumulate(x) # 1+1=1, 1+2=3, 1+2+3=6, 1+2+3+4=10, 1+2+3+4+5=15"
   ]
  },
  {
   "cell_type": "raw",
   "id": "fd413691",
   "metadata": {},
   "source": [
    "if we’d like to reduce an array with a particular operation, we can use the reduce method of any ufunc. A reduce repeatedly applies a given operation to the elements of an array until only a single result remains.\n"
   ]
  },
  {
   "cell_type": "markdown",
   "id": "ca9ef9d8",
   "metadata": {},
   "source": [
    "# Some of the aggregate functions"
   ]
  },
  {
   "cell_type": "code",
   "execution_count": 16,
   "id": "c6b7376c",
   "metadata": {},
   "outputs": [],
   "source": [
    "x=np.random.random((3,4))"
   ]
  },
  {
   "cell_type": "code",
   "execution_count": 17,
   "id": "e0b7da31",
   "metadata": {},
   "outputs": [
    {
     "data": {
      "text/plain": [
       "array([[0.87536543, 0.81852478, 0.46109703, 0.70180661],\n",
       "       [0.6947957 , 0.77259869, 0.13437307, 0.087288  ],\n",
       "       [0.7539316 , 0.2407619 , 0.68661049, 0.86021299]])"
      ]
     },
     "execution_count": 17,
     "metadata": {},
     "output_type": "execute_result"
    }
   ],
   "source": [
    "x"
   ]
  },
  {
   "cell_type": "code",
   "execution_count": 18,
   "id": "365799fc",
   "metadata": {},
   "outputs": [
    {
     "data": {
      "text/plain": [
       "7.0873663000419"
      ]
     },
     "execution_count": 18,
     "metadata": {},
     "output_type": "execute_result"
    }
   ],
   "source": [
    "x.sum()"
   ]
  },
  {
   "cell_type": "code",
   "execution_count": 19,
   "id": "87c7ac21",
   "metadata": {},
   "outputs": [
    {
     "data": {
      "text/plain": [
       "0.08728799766904771"
      ]
     },
     "execution_count": 19,
     "metadata": {},
     "output_type": "execute_result"
    }
   ],
   "source": [
    "x.min()"
   ]
  },
  {
   "cell_type": "code",
   "execution_count": 20,
   "id": "72b940a6",
   "metadata": {},
   "outputs": [
    {
     "data": {
      "text/plain": [
       "0.8753654265338743"
      ]
     },
     "execution_count": 20,
     "metadata": {},
     "output_type": "execute_result"
    }
   ],
   "source": [
    "x.max()"
   ]
  },
  {
   "cell_type": "code",
   "execution_count": 21,
   "id": "8b747ea0",
   "metadata": {},
   "outputs": [
    {
     "data": {
      "text/plain": [
       "array([0.6947957 , 0.2407619 , 0.13437307, 0.087288  ])"
      ]
     },
     "execution_count": 21,
     "metadata": {},
     "output_type": "execute_result"
    }
   ],
   "source": [
    "x.min(axis = 0) # take the min of column values"
   ]
  },
  {
   "cell_type": "code",
   "execution_count": 22,
   "id": "28e72d18",
   "metadata": {},
   "outputs": [
    {
     "data": {
      "text/plain": [
       "array([0.46109703, 0.087288  , 0.2407619 ])"
      ]
     },
     "execution_count": 22,
     "metadata": {},
     "output_type": "execute_result"
    }
   ],
   "source": [
    "x.min(axis=1) # take the min of row values"
   ]
  },
  {
   "cell_type": "code",
   "execution_count": 23,
   "id": "fb1f5da0",
   "metadata": {},
   "outputs": [],
   "source": [
    "x=np.array([[0,10,20],[30,40,50],[60,70,80]])"
   ]
  },
  {
   "cell_type": "code",
   "execution_count": 24,
   "id": "6f40c729",
   "metadata": {},
   "outputs": [
    {
     "data": {
      "text/plain": [
       "array([[ 0, 10, 20],\n",
       "       [30, 40, 50],\n",
       "       [60, 70, 80]])"
      ]
     },
     "execution_count": 24,
     "metadata": {},
     "output_type": "execute_result"
    }
   ],
   "source": [
    "x"
   ]
  },
  {
   "cell_type": "code",
   "execution_count": 25,
   "id": "3a4fcbc7",
   "metadata": {},
   "outputs": [
    {
     "data": {
      "text/plain": [
       "360"
      ]
     },
     "execution_count": 25,
     "metadata": {},
     "output_type": "execute_result"
    }
   ],
   "source": [
    "x.sum()"
   ]
  },
  {
   "cell_type": "code",
   "execution_count": 26,
   "id": "1e92ae88",
   "metadata": {},
   "outputs": [
    {
     "data": {
      "text/plain": [
       "360"
      ]
     },
     "execution_count": 26,
     "metadata": {},
     "output_type": "execute_result"
    }
   ],
   "source": [
    "np.sum(x) # both are same"
   ]
  },
  {
   "cell_type": "code",
   "execution_count": 27,
   "id": "0dc6e812",
   "metadata": {},
   "outputs": [
    {
     "data": {
      "text/plain": [
       "array([ 90, 120, 150])"
      ]
     },
     "execution_count": 27,
     "metadata": {},
     "output_type": "execute_result"
    }
   ],
   "source": [
    "x.sum(axis = 0) # sum of each column"
   ]
  },
  {
   "cell_type": "code",
   "execution_count": 28,
   "id": "28fb3f43",
   "metadata": {},
   "outputs": [
    {
     "data": {
      "text/plain": [
       "array([ 30, 120, 210])"
      ]
     },
     "execution_count": 28,
     "metadata": {},
     "output_type": "execute_result"
    }
   ],
   "source": [
    "x.sum(axis=1) # sum of each row"
   ]
  },
  {
   "cell_type": "code",
   "execution_count": 29,
   "id": "bb6877f8",
   "metadata": {},
   "outputs": [],
   "source": [
    "# average and mean are same"
   ]
  },
  {
   "cell_type": "code",
   "execution_count": 30,
   "id": "f9d428a8",
   "metadata": {},
   "outputs": [],
   "source": [
    "np.average?"
   ]
  },
  {
   "cell_type": "raw",
   "id": "01105d8b",
   "metadata": {},
   "source": [
    "Signature: np.average(a, axis=None, weights=None, returned=False)"
   ]
  },
  {
   "cell_type": "code",
   "execution_count": 31,
   "id": "cc74efbb",
   "metadata": {},
   "outputs": [
    {
     "data": {
      "text/plain": [
       "array([[ 0, 10, 20],\n",
       "       [30, 40, 50],\n",
       "       [60, 70, 80]])"
      ]
     },
     "execution_count": 31,
     "metadata": {},
     "output_type": "execute_result"
    }
   ],
   "source": [
    "x"
   ]
  },
  {
   "cell_type": "code",
   "execution_count": 32,
   "id": "a57ad794",
   "metadata": {},
   "outputs": [
    {
     "data": {
      "text/plain": [
       "array([ 90, 120, 150])"
      ]
     },
     "execution_count": 32,
     "metadata": {},
     "output_type": "execute_result"
    }
   ],
   "source": [
    "x.sum(0) # this is also called axis = 0(column)"
   ]
  },
  {
   "cell_type": "code",
   "execution_count": 33,
   "id": "eb4f2088",
   "metadata": {},
   "outputs": [
    {
     "data": {
      "text/plain": [
       "array([ 30, 120, 210])"
      ]
     },
     "execution_count": 33,
     "metadata": {},
     "output_type": "execute_result"
    }
   ],
   "source": [
    "x.sum(1) # this is also called axis = 1(row)"
   ]
  },
  {
   "cell_type": "code",
   "execution_count": 34,
   "id": "7bcb4189",
   "metadata": {},
   "outputs": [
    {
     "data": {
      "text/plain": [
       "40.0"
      ]
     },
     "execution_count": 34,
     "metadata": {},
     "output_type": "execute_result"
    }
   ],
   "source": [
    "np.average(x)"
   ]
  },
  {
   "cell_type": "code",
   "execution_count": 35,
   "id": "71b64a24",
   "metadata": {},
   "outputs": [
    {
     "data": {
      "text/plain": [
       "360"
      ]
     },
     "execution_count": 35,
     "metadata": {},
     "output_type": "execute_result"
    }
   ],
   "source": [
    "np.sum(x)"
   ]
  },
  {
   "cell_type": "code",
   "execution_count": 36,
   "id": "f38aad05",
   "metadata": {},
   "outputs": [
    {
     "data": {
      "text/plain": [
       "40.0"
      ]
     },
     "execution_count": 36,
     "metadata": {},
     "output_type": "execute_result"
    }
   ],
   "source": [
    "np.sum(x)/9"
   ]
  },
  {
   "cell_type": "code",
   "execution_count": 37,
   "id": "68ce6b6d",
   "metadata": {},
   "outputs": [
    {
     "data": {
      "text/plain": [
       "40.0"
      ]
     },
     "execution_count": 37,
     "metadata": {},
     "output_type": "execute_result"
    }
   ],
   "source": [
    "np.mean(x) # see avg and mean are giving the same answer(both are same)"
   ]
  },
  {
   "cell_type": "code",
   "execution_count": 38,
   "id": "47f873ac",
   "metadata": {},
   "outputs": [
    {
     "data": {
      "text/plain": [
       "array([[ 0, 10, 20],\n",
       "       [30, 40, 50],\n",
       "       [60, 70, 80]])"
      ]
     },
     "execution_count": 38,
     "metadata": {},
     "output_type": "execute_result"
    }
   ],
   "source": [
    "x"
   ]
  },
  {
   "cell_type": "code",
   "execution_count": 39,
   "id": "6095f8ea",
   "metadata": {},
   "outputs": [
    {
     "data": {
      "text/plain": [
       "0.0"
      ]
     },
     "execution_count": 39,
     "metadata": {},
     "output_type": "execute_result"
    }
   ],
   "source": [
    "np.average(0)"
   ]
  },
  {
   "cell_type": "code",
   "execution_count": 40,
   "id": "000b5a2b",
   "metadata": {},
   "outputs": [
    {
     "data": {
      "text/plain": [
       "array([30., 40., 50.])"
      ]
     },
     "execution_count": 40,
     "metadata": {},
     "output_type": "execute_result"
    }
   ],
   "source": [
    "np.average(x,axis=0) # average of each column"
   ]
  },
  {
   "cell_type": "code",
   "execution_count": 41,
   "id": "1f7d6221",
   "metadata": {},
   "outputs": [
    {
     "data": {
      "text/plain": [
       "array([10., 40., 70.])"
      ]
     },
     "execution_count": 41,
     "metadata": {},
     "output_type": "execute_result"
    }
   ],
   "source": [
    "np.average(x,axis=1) # average of each row"
   ]
  },
  {
   "cell_type": "code",
   "execution_count": 44,
   "id": "fc12a48b",
   "metadata": {},
   "outputs": [],
   "source": [
    "# average explanation"
   ]
  },
  {
   "cell_type": "code",
   "execution_count": 47,
   "id": "3aaf5eee",
   "metadata": {},
   "outputs": [
    {
     "data": {
      "text/plain": [
       "30.0"
      ]
     },
     "execution_count": 47,
     "metadata": {},
     "output_type": "execute_result"
    }
   ],
   "source": [
    "(0+30+60)/3"
   ]
  },
  {
   "cell_type": "code",
   "execution_count": 48,
   "id": "7092557e",
   "metadata": {},
   "outputs": [
    {
     "data": {
      "text/plain": [
       "40.0"
      ]
     },
     "execution_count": 48,
     "metadata": {},
     "output_type": "execute_result"
    }
   ],
   "source": [
    "(10+40+70)/3"
   ]
  },
  {
   "cell_type": "code",
   "execution_count": 49,
   "id": "91c75a9c",
   "metadata": {},
   "outputs": [
    {
     "data": {
      "text/plain": [
       "50.0"
      ]
     },
     "execution_count": 49,
     "metadata": {},
     "output_type": "execute_result"
    }
   ],
   "source": [
    "(20+50+80)/3"
   ]
  },
  {
   "cell_type": "code",
   "execution_count": 50,
   "id": "c54790ea",
   "metadata": {},
   "outputs": [
    {
     "data": {
      "text/plain": [
       "10.0"
      ]
     },
     "execution_count": 50,
     "metadata": {},
     "output_type": "execute_result"
    }
   ],
   "source": [
    "(0+10+20)/3"
   ]
  },
  {
   "cell_type": "code",
   "execution_count": 51,
   "id": "c16a6aba",
   "metadata": {},
   "outputs": [
    {
     "data": {
      "text/plain": [
       "40.0"
      ]
     },
     "execution_count": 51,
     "metadata": {},
     "output_type": "execute_result"
    }
   ],
   "source": [
    "(30+40+50)/3"
   ]
  },
  {
   "cell_type": "code",
   "execution_count": 52,
   "id": "a8a37cd0",
   "metadata": {},
   "outputs": [
    {
     "data": {
      "text/plain": [
       "70.0"
      ]
     },
     "execution_count": 52,
     "metadata": {},
     "output_type": "execute_result"
    }
   ],
   "source": [
    "(60+70+80)/3"
   ]
  },
  {
   "cell_type": "code",
   "execution_count": 53,
   "id": "4f101421",
   "metadata": {},
   "outputs": [
    {
     "data": {
      "text/plain": [
       "array([30., 40., 50.])"
      ]
     },
     "execution_count": 53,
     "metadata": {},
     "output_type": "execute_result"
    }
   ],
   "source": [
    "np.mean(x, axis = 0)"
   ]
  },
  {
   "cell_type": "code",
   "execution_count": 54,
   "id": "d88e1361",
   "metadata": {},
   "outputs": [
    {
     "data": {
      "text/plain": [
       "array([10., 40., 70.])"
      ]
     },
     "execution_count": 54,
     "metadata": {},
     "output_type": "execute_result"
    }
   ],
   "source": [
    "np.mean(x, axis = 1)"
   ]
  },
  {
   "cell_type": "code",
   "execution_count": 55,
   "id": "07c70cf5",
   "metadata": {},
   "outputs": [
    {
     "data": {
      "text/plain": [
       "array([[ 0, 10, 20],\n",
       "       [30, 40, 50],\n",
       "       [60, 70, 80]])"
      ]
     },
     "execution_count": 55,
     "metadata": {},
     "output_type": "execute_result"
    }
   ],
   "source": [
    "x"
   ]
  },
  {
   "cell_type": "code",
   "execution_count": 56,
   "id": "80ed7d60",
   "metadata": {},
   "outputs": [
    {
     "data": {
      "text/plain": [
       "0"
      ]
     },
     "execution_count": 56,
     "metadata": {},
     "output_type": "execute_result"
    }
   ],
   "source": [
    "np.min(x)"
   ]
  },
  {
   "cell_type": "code",
   "execution_count": 57,
   "id": "abf342c8",
   "metadata": {},
   "outputs": [
    {
     "data": {
      "text/plain": [
       "80"
      ]
     },
     "execution_count": 57,
     "metadata": {},
     "output_type": "execute_result"
    }
   ],
   "source": [
    "np.max(x)"
   ]
  },
  {
   "cell_type": "code",
   "execution_count": 58,
   "id": "2944ee40",
   "metadata": {},
   "outputs": [
    {
     "data": {
      "text/plain": [
       "array([ 0, 10, 20])"
      ]
     },
     "execution_count": 58,
     "metadata": {},
     "output_type": "execute_result"
    }
   ],
   "source": [
    "np.min(x,axis=0) # min of each column"
   ]
  },
  {
   "cell_type": "code",
   "execution_count": 59,
   "id": "f6194c6e",
   "metadata": {},
   "outputs": [
    {
     "data": {
      "text/plain": [
       "array([ 0, 30, 60])"
      ]
     },
     "execution_count": 59,
     "metadata": {},
     "output_type": "execute_result"
    }
   ],
   "source": [
    "np.min(x,axis=1) # min of each row"
   ]
  },
  {
   "cell_type": "code",
   "execution_count": 60,
   "id": "ab053139",
   "metadata": {},
   "outputs": [
    {
     "data": {
      "text/plain": [
       "array([ 0, 10, 20])"
      ]
     },
     "execution_count": 60,
     "metadata": {},
     "output_type": "execute_result"
    }
   ],
   "source": [
    "x.min(axis=0)"
   ]
  },
  {
   "cell_type": "code",
   "execution_count": 61,
   "id": "4da2a17b",
   "metadata": {},
   "outputs": [
    {
     "data": {
      "text/plain": [
       "array([ 0, 30, 60])"
      ]
     },
     "execution_count": 61,
     "metadata": {},
     "output_type": "execute_result"
    }
   ],
   "source": [
    "x.min(axis=1) # both are same"
   ]
  },
  {
   "cell_type": "code",
   "execution_count": 62,
   "id": "b414abd8",
   "metadata": {},
   "outputs": [],
   "source": [
    "np.min?"
   ]
  },
  {
   "cell_type": "raw",
   "id": "3e0a4a88",
   "metadata": {},
   "source": [
    "np.min(\n",
    "    a,\n",
    "    axis=None,\n",
    "    out=None,\n",
    "    keepdims=<no value>,\n",
    "    initial=<no value>,\n",
    "    where=<no value>,\n",
    ")"
   ]
  },
  {
   "cell_type": "code",
   "execution_count": 63,
   "id": "94315799",
   "metadata": {},
   "outputs": [],
   "source": [
    "x=np.random.randint(1,10,size=(5,5))"
   ]
  },
  {
   "cell_type": "code",
   "execution_count": 64,
   "id": "231711fc",
   "metadata": {},
   "outputs": [
    {
     "data": {
      "text/plain": [
       "array([[3, 4, 1, 8, 9],\n",
       "       [9, 5, 9, 3, 2],\n",
       "       [2, 4, 4, 8, 8],\n",
       "       [8, 2, 8, 1, 2],\n",
       "       [5, 6, 7, 5, 3]])"
      ]
     },
     "execution_count": 64,
     "metadata": {},
     "output_type": "execute_result"
    }
   ],
   "source": [
    "x"
   ]
  },
  {
   "cell_type": "code",
   "execution_count": 65,
   "id": "72bfa878",
   "metadata": {},
   "outputs": [],
   "source": [
    "y=np.random.randint(1,10,size=(5,5))"
   ]
  },
  {
   "cell_type": "code",
   "execution_count": 66,
   "id": "ea7d65b7",
   "metadata": {},
   "outputs": [
    {
     "data": {
      "text/plain": [
       "array([[9, 1, 9, 9, 8],\n",
       "       [2, 4, 5, 2, 7],\n",
       "       [4, 2, 4, 8, 6],\n",
       "       [8, 3, 4, 6, 2],\n",
       "       [4, 6, 5, 6, 6]])"
      ]
     },
     "execution_count": 66,
     "metadata": {},
     "output_type": "execute_result"
    }
   ],
   "source": [
    "y"
   ]
  },
  {
   "cell_type": "code",
   "execution_count": 67,
   "id": "f2dd484e",
   "metadata": {},
   "outputs": [],
   "source": [
    "np.minimum?"
   ]
  },
  {
   "cell_type": "raw",
   "id": "f5482dab",
   "metadata": {},
   "source": [
    "minimum(x1, x2, /, out=None, *, where=True, casting='same_kind', order='K', dtype=None, subok=True[, signature, extobj]"
   ]
  },
  {
   "cell_type": "code",
   "execution_count": 68,
   "id": "fa7057d2",
   "metadata": {},
   "outputs": [],
   "source": [
    "# in minimum function, need to give two axes(x1,x2)"
   ]
  },
  {
   "cell_type": "code",
   "execution_count": 69,
   "id": "aecce110",
   "metadata": {},
   "outputs": [
    {
     "data": {
      "text/plain": [
       "array([[3, 1, 1, 8, 8],\n",
       "       [2, 4, 5, 2, 2],\n",
       "       [2, 2, 4, 8, 6],\n",
       "       [8, 2, 4, 1, 2],\n",
       "       [4, 6, 5, 5, 3]])"
      ]
     },
     "execution_count": 69,
     "metadata": {},
     "output_type": "execute_result"
    }
   ],
   "source": [
    "np.minimum(x,y)"
   ]
  },
  {
   "cell_type": "code",
   "execution_count": 70,
   "id": "484b93ec",
   "metadata": {},
   "outputs": [
    {
     "data": {
      "text/plain": [
       "array([[9, 4, 9, 9, 9],\n",
       "       [9, 5, 9, 3, 7],\n",
       "       [4, 4, 4, 8, 8],\n",
       "       [8, 3, 8, 6, 2],\n",
       "       [5, 6, 7, 6, 6]])"
      ]
     },
     "execution_count": 70,
     "metadata": {},
     "output_type": "execute_result"
    }
   ],
   "source": [
    "np.maximum(x,y)"
   ]
  },
  {
   "cell_type": "code",
   "execution_count": 71,
   "id": "932d51d4",
   "metadata": {},
   "outputs": [],
   "source": [
    "x = np.random.randint(12,size = (2,4))"
   ]
  },
  {
   "cell_type": "code",
   "execution_count": 72,
   "id": "c04e5686",
   "metadata": {},
   "outputs": [
    {
     "data": {
      "text/plain": [
       "array([[11,  1,  0,  9],\n",
       "       [ 8,  4,  1,  1]])"
      ]
     },
     "execution_count": 72,
     "metadata": {},
     "output_type": "execute_result"
    }
   ],
   "source": [
    "x"
   ]
  },
  {
   "cell_type": "code",
   "execution_count": 73,
   "id": "3b5993eb",
   "metadata": {},
   "outputs": [],
   "source": [
    "y = np.random.randint(12,size = (2,4))"
   ]
  },
  {
   "cell_type": "code",
   "execution_count": 74,
   "id": "274c49d0",
   "metadata": {},
   "outputs": [
    {
     "data": {
      "text/plain": [
       "array([[ 4,  9,  4, 11],\n",
       "       [ 2,  5,  5,  7]])"
      ]
     },
     "execution_count": 74,
     "metadata": {},
     "output_type": "execute_result"
    }
   ],
   "source": [
    "y"
   ]
  },
  {
   "cell_type": "code",
   "execution_count": 79,
   "id": "ae38782a",
   "metadata": {},
   "outputs": [],
   "source": [
    "# minimum and maximum "
   ]
  },
  {
   "cell_type": "code",
   "execution_count": 75,
   "id": "c6ae8f14",
   "metadata": {},
   "outputs": [
    {
     "data": {
      "text/plain": [
       "array([[11,  1,  0,  9],\n",
       "       [ 8,  4,  1,  1]])"
      ]
     },
     "execution_count": 75,
     "metadata": {},
     "output_type": "execute_result"
    }
   ],
   "source": [
    "x"
   ]
  },
  {
   "cell_type": "code",
   "execution_count": 76,
   "id": "defb8d7c",
   "metadata": {},
   "outputs": [
    {
     "data": {
      "text/plain": [
       "array([[ 4,  9,  4, 11],\n",
       "       [ 2,  5,  5,  7]])"
      ]
     },
     "execution_count": 76,
     "metadata": {},
     "output_type": "execute_result"
    }
   ],
   "source": [
    "y"
   ]
  },
  {
   "cell_type": "code",
   "execution_count": 77,
   "id": "f78fa9db",
   "metadata": {},
   "outputs": [
    {
     "data": {
      "text/plain": [
       "array([[11,  9,  4, 11],\n",
       "       [ 8,  5,  5,  7]])"
      ]
     },
     "execution_count": 77,
     "metadata": {},
     "output_type": "execute_result"
    }
   ],
   "source": [
    "np.maximum(x,y)  # it compares with each value of same place in matrix"
   ]
  },
  {
   "cell_type": "raw",
   "id": "548fe2a0",
   "metadata": {},
   "source": [
    "11>4, 1<9, 0<4, 9<11 => 11,9,4,11\n",
    "8>2, 4<5, 1<5, 7=7 => 8,5,5,7"
   ]
  },
  {
   "cell_type": "code",
   "execution_count": 78,
   "id": "ace49868",
   "metadata": {},
   "outputs": [
    {
     "data": {
      "text/plain": [
       "array([[4, 1, 0, 9],\n",
       "       [2, 4, 1, 1]])"
      ]
     },
     "execution_count": 78,
     "metadata": {},
     "output_type": "execute_result"
    }
   ],
   "source": [
    "np.minimum(x,y)"
   ]
  },
  {
   "cell_type": "raw",
   "id": "8cd82192",
   "metadata": {},
   "source": [
    "11>4, 1<9, 0<4, 9<11 => 4,1,0,9\n",
    "8>2, 4<5, 1<5, 7=7 => 2,4,1,7"
   ]
  }
 ],
 "metadata": {
  "kernelspec": {
   "display_name": "Python 3 (ipykernel)",
   "language": "python",
   "name": "python3"
  },
  "language_info": {
   "codemirror_mode": {
    "name": "ipython",
    "version": 3
   },
   "file_extension": ".py",
   "mimetype": "text/x-python",
   "name": "python",
   "nbconvert_exporter": "python",
   "pygments_lexer": "ipython3",
   "version": "3.9.7"
  }
 },
 "nbformat": 4,
 "nbformat_minor": 5
}
