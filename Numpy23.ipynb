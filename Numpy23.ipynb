{
 "cells": [
  {
   "cell_type": "markdown",
   "id": "0605ce57",
   "metadata": {},
   "source": [
    "# Numpy spliting"
   ]
  },
  {
   "cell_type": "code",
   "execution_count": 9,
   "id": "e00ddfe3",
   "metadata": {},
   "outputs": [],
   "source": [
    "import numpy as np"
   ]
  },
  {
   "cell_type": "code",
   "execution_count": 12,
   "id": "3311dd2e",
   "metadata": {},
   "outputs": [],
   "source": [
    "np.array_split?"
   ]
  },
  {
   "cell_type": "raw",
   "id": "8509a5ed",
   "metadata": {},
   "source": [
    "Docstring:\n",
    "Split an array into multiple sub-arrays.\n",
    "\n",
    "Please refer to the ``split`` documentation.  The only difference\n",
    "between these functions is that ``array_split`` allows\n",
    "`indices_or_sections` to be an integer that does *not* equally\n",
    "divide the axis. For an array of length l that should be split\n",
    "into n sections, it returns l % n sub-arrays of size l//n + 1\n",
    "and the rest of size l//n.\n",
    "\n",
    "See Also\n",
    "--------\n",
    "split : Split array into multiple sub-arrays of equal size.\n",
    "\n",
    "Examples\n",
    "--------\n",
    ">>> x = np.arange(8.0)\n",
    ">>> np.array_split(x, 3)\n",
    "[array([0.,  1.,  2.]), array([3.,  4.,  5.]), array([6.,  7.])]\n",
    "\n",
    ">>> x = np.arange(9)\n",
    ">>> np.array_split(x, 4)\n",
    "[array([0, 1, 2]), array([3, 4]), array([5, 6]), array([7, 8])]"
   ]
  },
  {
   "cell_type": "code",
   "execution_count": 19,
   "id": "52042274",
   "metadata": {},
   "outputs": [],
   "source": [
    "x = np.arange(10)"
   ]
  },
  {
   "cell_type": "code",
   "execution_count": 20,
   "id": "75787831",
   "metadata": {},
   "outputs": [
    {
     "data": {
      "text/plain": [
       "array([0, 1, 2, 3, 4, 5, 6, 7, 8, 9])"
      ]
     },
     "execution_count": 20,
     "metadata": {},
     "output_type": "execute_result"
    }
   ],
   "source": [
    "x"
   ]
  },
  {
   "cell_type": "code",
   "execution_count": 21,
   "id": "c7a609de",
   "metadata": {},
   "outputs": [
    {
     "data": {
      "text/plain": [
       "[array([0, 1, 2, 3]), array([4, 5, 6]), array([7, 8, 9])]"
      ]
     },
     "execution_count": 21,
     "metadata": {},
     "output_type": "execute_result"
    }
   ],
   "source": [
    "np.array_split(x, 3) # which means split into 3 arrays"
   ]
  },
  {
   "cell_type": "code",
   "execution_count": 22,
   "id": "4681fc50",
   "metadata": {},
   "outputs": [],
   "source": [
    "x = np.arange(8.0)"
   ]
  },
  {
   "cell_type": "code",
   "execution_count": 23,
   "id": "2c060983",
   "metadata": {},
   "outputs": [
    {
     "data": {
      "text/plain": [
       "array([0., 1., 2., 3., 4., 5., 6., 7.])"
      ]
     },
     "execution_count": 23,
     "metadata": {},
     "output_type": "execute_result"
    }
   ],
   "source": [
    "x"
   ]
  },
  {
   "cell_type": "code",
   "execution_count": 24,
   "id": "ea99f81e",
   "metadata": {},
   "outputs": [
    {
     "data": {
      "text/plain": [
       "[array([0., 1.]), array([2., 3.]), array([4., 5.]), array([6., 7.])]"
      ]
     },
     "execution_count": 24,
     "metadata": {},
     "output_type": "execute_result"
    }
   ],
   "source": [
    "np.array_split(x,4) # which means split into 4 arrays"
   ]
  },
  {
   "cell_type": "code",
   "execution_count": 25,
   "id": "44627012",
   "metadata": {},
   "outputs": [],
   "source": [
    "# Splitting 2-D Arrays"
   ]
  },
  {
   "cell_type": "code",
   "execution_count": 28,
   "id": "d1503fe0",
   "metadata": {},
   "outputs": [],
   "source": [
    "x = np.array([[1, 2], [3, 4], [5, 6], [7, 8], [9, 10], [11, 12]])"
   ]
  },
  {
   "cell_type": "code",
   "execution_count": 30,
   "id": "f5e71174",
   "metadata": {},
   "outputs": [
    {
     "data": {
      "text/plain": [
       "array([[ 1,  2],\n",
       "       [ 3,  4],\n",
       "       [ 5,  6],\n",
       "       [ 7,  8],\n",
       "       [ 9, 10],\n",
       "       [11, 12]])"
      ]
     },
     "execution_count": 30,
     "metadata": {},
     "output_type": "execute_result"
    }
   ],
   "source": [
    "x"
   ]
  },
  {
   "cell_type": "code",
   "execution_count": 29,
   "id": "bb26ebce",
   "metadata": {},
   "outputs": [
    {
     "data": {
      "text/plain": [
       "[array([[1, 2],\n",
       "        [3, 4]]),\n",
       " array([[5, 6],\n",
       "        [7, 8]]),\n",
       " array([[ 9, 10],\n",
       "        [11, 12]])]"
      ]
     },
     "execution_count": 29,
     "metadata": {},
     "output_type": "execute_result"
    }
   ],
   "source": [
    "np.array_split(x,3)"
   ]
  },
  {
   "cell_type": "code",
   "execution_count": 32,
   "id": "88ebac9d",
   "metadata": {},
   "outputs": [],
   "source": [
    "newarr = np.array_split(x, 3, axis=1) # column-wise"
   ]
  },
  {
   "cell_type": "code",
   "execution_count": 33,
   "id": "1bab18a7",
   "metadata": {},
   "outputs": [
    {
     "data": {
      "text/plain": [
       "[array([[ 1],\n",
       "        [ 3],\n",
       "        [ 5],\n",
       "        [ 7],\n",
       "        [ 9],\n",
       "        [11]]),\n",
       " array([[ 2],\n",
       "        [ 4],\n",
       "        [ 6],\n",
       "        [ 8],\n",
       "        [10],\n",
       "        [12]]),\n",
       " array([], shape=(6, 0), dtype=int32)]"
      ]
     },
     "execution_count": 33,
     "metadata": {},
     "output_type": "execute_result"
    }
   ],
   "source": [
    "newarr"
   ]
  },
  {
   "cell_type": "code",
   "execution_count": 35,
   "id": "2510b978",
   "metadata": {},
   "outputs": [],
   "source": [
    "y = np.array([[1, 2, 3], [4, 5, 6], [7, 8, 9], [10, 11, 12], [13, 14, 15], [16, 17, 18]])"
   ]
  },
  {
   "cell_type": "code",
   "execution_count": 36,
   "id": "f1258157",
   "metadata": {},
   "outputs": [],
   "source": [
    "newarr = np.hsplit(y, 3) # same like axis=1"
   ]
  },
  {
   "cell_type": "code",
   "execution_count": 37,
   "id": "a5ea0ef1",
   "metadata": {},
   "outputs": [
    {
     "data": {
      "text/plain": [
       "[array([[ 1],\n",
       "        [ 4],\n",
       "        [ 7],\n",
       "        [10],\n",
       "        [13],\n",
       "        [16]]),\n",
       " array([[ 2],\n",
       "        [ 5],\n",
       "        [ 8],\n",
       "        [11],\n",
       "        [14],\n",
       "        [17]]),\n",
       " array([[ 3],\n",
       "        [ 6],\n",
       "        [ 9],\n",
       "        [12],\n",
       "        [15],\n",
       "        [18]])]"
      ]
     },
     "execution_count": 37,
     "metadata": {},
     "output_type": "execute_result"
    }
   ],
   "source": [
    "newarr"
   ]
  }
 ],
 "metadata": {
  "kernelspec": {
   "display_name": "Python 3 (ipykernel)",
   "language": "python",
   "name": "python3"
  },
  "language_info": {
   "codemirror_mode": {
    "name": "ipython",
    "version": 3
   },
   "file_extension": ".py",
   "mimetype": "text/x-python",
   "name": "python",
   "nbconvert_exporter": "python",
   "pygments_lexer": "ipython3",
   "version": "3.11.4"
  }
 },
 "nbformat": 4,
 "nbformat_minor": 5
}
