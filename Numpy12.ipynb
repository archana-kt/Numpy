{
 "cells": [
  {
   "cell_type": "markdown",
   "id": "347316f5",
   "metadata": {},
   "source": [
    "# Dot matrix"
   ]
  },
  {
   "cell_type": "code",
   "execution_count": 1,
   "id": "a7e23f59",
   "metadata": {},
   "outputs": [],
   "source": [
    "import numpy as np"
   ]
  },
  {
   "cell_type": "code",
   "execution_count": 2,
   "id": "9e9574ab",
   "metadata": {},
   "outputs": [],
   "source": [
    "a = np.array([[1,2,3],[2,2,3],[1,1,1]])"
   ]
  },
  {
   "cell_type": "code",
   "execution_count": 3,
   "id": "989c5060",
   "metadata": {},
   "outputs": [],
   "source": [
    "b = np.array([[1,2,3],[2,2,3],[1,1,1]])"
   ]
  },
  {
   "cell_type": "code",
   "execution_count": 4,
   "id": "938bc71d",
   "metadata": {},
   "outputs": [
    {
     "data": {
      "text/plain": [
       "array([[1, 2, 3],\n",
       "       [2, 2, 3],\n",
       "       [1, 1, 1]])"
      ]
     },
     "execution_count": 4,
     "metadata": {},
     "output_type": "execute_result"
    }
   ],
   "source": [
    "a"
   ]
  },
  {
   "cell_type": "code",
   "execution_count": 5,
   "id": "7d3cef27",
   "metadata": {},
   "outputs": [
    {
     "data": {
      "text/plain": [
       "array([[1, 2, 3],\n",
       "       [2, 2, 3],\n",
       "       [1, 1, 1]])"
      ]
     },
     "execution_count": 5,
     "metadata": {},
     "output_type": "execute_result"
    }
   ],
   "source": [
    "b"
   ]
  },
  {
   "cell_type": "code",
   "execution_count": 6,
   "id": "b8d879e3",
   "metadata": {},
   "outputs": [
    {
     "data": {
      "text/plain": [
       "array([[ 8,  9, 12],\n",
       "       [ 9, 11, 15],\n",
       "       [ 4,  5,  7]])"
      ]
     },
     "execution_count": 6,
     "metadata": {},
     "output_type": "execute_result"
    }
   ],
   "source": [
    "np.dot(a,b)"
   ]
  },
  {
   "cell_type": "code",
   "execution_count": 7,
   "id": "e2a2d559",
   "metadata": {},
   "outputs": [],
   "source": [
    "# 1st row of 'a' multiplied with 1st column of b\n",
    "# 1st row of 'a' multiplied with 2nd column of b and so on\n",
    "\n",
    "# [1,2,3] with [1,2,1] ==> 1+4+3 = 8\n",
    "\n",
    "# [1,2,3] with [2,2,1] ==> 2+4+3 = 9"
   ]
  },
  {
   "cell_type": "markdown",
   "id": "f667c0f5",
   "metadata": {},
   "source": [
    "# Multiply"
   ]
  },
  {
   "cell_type": "code",
   "execution_count": 8,
   "id": "0a6c7268",
   "metadata": {},
   "outputs": [
    {
     "data": {
      "text/plain": [
       "array([[1, 2, 3],\n",
       "       [2, 2, 3],\n",
       "       [1, 1, 1]])"
      ]
     },
     "execution_count": 8,
     "metadata": {},
     "output_type": "execute_result"
    }
   ],
   "source": [
    "a"
   ]
  },
  {
   "cell_type": "code",
   "execution_count": 9,
   "id": "91feefd4",
   "metadata": {},
   "outputs": [
    {
     "data": {
      "text/plain": [
       "array([[1, 2, 3],\n",
       "       [2, 2, 3],\n",
       "       [1, 1, 1]])"
      ]
     },
     "execution_count": 9,
     "metadata": {},
     "output_type": "execute_result"
    }
   ],
   "source": [
    "b"
   ]
  },
  {
   "cell_type": "code",
   "execution_count": 10,
   "id": "23532611",
   "metadata": {},
   "outputs": [
    {
     "data": {
      "text/plain": [
       "array([[1, 4, 9],\n",
       "       [4, 4, 9],\n",
       "       [1, 1, 1]])"
      ]
     },
     "execution_count": 10,
     "metadata": {},
     "output_type": "execute_result"
    }
   ],
   "source": [
    "np.multiply(a,b)"
   ]
  },
  {
   "cell_type": "code",
   "execution_count": 12,
   "id": "8c2e8bfd",
   "metadata": {},
   "outputs": [],
   "source": [
    "# whereas in multiply method, it directly multiplies the values of a&b\n",
    "\n",
    "# 1*1=1, 2*2=4, 3*3=9 and so on"
   ]
  },
  {
   "cell_type": "markdown",
   "id": "7b2e5f6b",
   "metadata": {},
   "source": [
    "# * multiplication"
   ]
  },
  {
   "cell_type": "code",
   "execution_count": 11,
   "id": "d1612a55",
   "metadata": {},
   "outputs": [
    {
     "data": {
      "text/plain": [
       "array([[1, 2, 3],\n",
       "       [2, 2, 3],\n",
       "       [1, 1, 1]])"
      ]
     },
     "execution_count": 11,
     "metadata": {},
     "output_type": "execute_result"
    }
   ],
   "source": [
    "a"
   ]
  },
  {
   "cell_type": "code",
   "execution_count": 12,
   "id": "ae72ca8a",
   "metadata": {},
   "outputs": [
    {
     "data": {
      "text/plain": [
       "array([[1, 2, 3],\n",
       "       [2, 2, 3],\n",
       "       [1, 1, 1]])"
      ]
     },
     "execution_count": 12,
     "metadata": {},
     "output_type": "execute_result"
    }
   ],
   "source": [
    "b"
   ]
  },
  {
   "cell_type": "code",
   "execution_count": 13,
   "id": "c2d8843d",
   "metadata": {},
   "outputs": [
    {
     "data": {
      "text/plain": [
       "array([[1, 4, 9],\n",
       "       [4, 4, 9],\n",
       "       [1, 1, 1]])"
      ]
     },
     "execution_count": 13,
     "metadata": {},
     "output_type": "execute_result"
    }
   ],
   "source": [
    "a * b"
   ]
  },
  {
   "cell_type": "code",
   "execution_count": 14,
   "id": "5a4e3a20",
   "metadata": {},
   "outputs": [],
   "source": [
    "# Comparing to all these, dot matrix is different from others"
   ]
  },
  {
   "cell_type": "markdown",
   "id": "9d4421d8",
   "metadata": {},
   "source": [
    "# vdot"
   ]
  },
  {
   "cell_type": "code",
   "execution_count": 15,
   "id": "9b164bf3",
   "metadata": {},
   "outputs": [],
   "source": [
    "a = np.array([[100,200],[23,12]])"
   ]
  },
  {
   "cell_type": "code",
   "execution_count": 16,
   "id": "ac3f3f83",
   "metadata": {},
   "outputs": [
    {
     "data": {
      "text/plain": [
       "array([[100, 200],\n",
       "       [ 23,  12]])"
      ]
     },
     "execution_count": 16,
     "metadata": {},
     "output_type": "execute_result"
    }
   ],
   "source": [
    "a"
   ]
  },
  {
   "cell_type": "code",
   "execution_count": 17,
   "id": "291bf5c5",
   "metadata": {},
   "outputs": [],
   "source": [
    "b = np.array([[10,20],[12,21]])"
   ]
  },
  {
   "cell_type": "code",
   "execution_count": 18,
   "id": "980c4d99",
   "metadata": {},
   "outputs": [
    {
     "data": {
      "text/plain": [
       "array([[10, 20],\n",
       "       [12, 21]])"
      ]
     },
     "execution_count": 18,
     "metadata": {},
     "output_type": "execute_result"
    }
   ],
   "source": [
    "b"
   ]
  },
  {
   "cell_type": "code",
   "execution_count": 19,
   "id": "ad7d9df7",
   "metadata": {},
   "outputs": [
    {
     "data": {
      "text/plain": [
       "5528"
      ]
     },
     "execution_count": 19,
     "metadata": {},
     "output_type": "execute_result"
    }
   ],
   "source": [
    "np.vdot(a,b)"
   ]
  },
  {
   "cell_type": "code",
   "execution_count": 20,
   "id": "664dc83f",
   "metadata": {},
   "outputs": [],
   "source": [
    "# vdot -> it is the sum of the products of matrix"
   ]
  },
  {
   "cell_type": "code",
   "execution_count": 21,
   "id": "2ea0dcda",
   "metadata": {},
   "outputs": [
    {
     "data": {
      "text/plain": [
       "5528"
      ]
     },
     "execution_count": 21,
     "metadata": {},
     "output_type": "execute_result"
    }
   ],
   "source": [
    "(100*10) + (200*20) + (23*12) + (12*21) "
   ]
  },
  {
   "cell_type": "markdown",
   "id": "ee55b472",
   "metadata": {},
   "source": [
    "# inner"
   ]
  },
  {
   "cell_type": "code",
   "execution_count": 22,
   "id": "fd51a44b",
   "metadata": {},
   "outputs": [],
   "source": [
    "a = np.array([1,2,3,4,5,6])"
   ]
  },
  {
   "cell_type": "code",
   "execution_count": 23,
   "id": "e1a9fa32",
   "metadata": {},
   "outputs": [],
   "source": [
    "b = np.array([1,2,3,4,5,6])"
   ]
  },
  {
   "cell_type": "code",
   "execution_count": 24,
   "id": "95e66756",
   "metadata": {},
   "outputs": [
    {
     "data": {
      "text/plain": [
       "91"
      ]
     },
     "execution_count": 24,
     "metadata": {},
     "output_type": "execute_result"
    }
   ],
   "source": [
    "np.inner(a,b) # sum of the products "
   ]
  },
  {
   "cell_type": "code",
   "execution_count": 25,
   "id": "040c6eae",
   "metadata": {},
   "outputs": [
    {
     "data": {
      "text/plain": [
       "91"
      ]
     },
     "execution_count": 25,
     "metadata": {},
     "output_type": "execute_result"
    }
   ],
   "source": [
    "(1*1) + (2*2) + (3*3) + (4*4) + (5*5) + (6*6)"
   ]
  },
  {
   "cell_type": "markdown",
   "id": "0221e6ab",
   "metadata": {},
   "source": [
    "# matmul"
   ]
  },
  {
   "cell_type": "code",
   "execution_count": 26,
   "id": "803c31b4",
   "metadata": {},
   "outputs": [
    {
     "data": {
      "text/plain": [
       "91"
      ]
     },
     "execution_count": 26,
     "metadata": {},
     "output_type": "execute_result"
    }
   ],
   "source": [
    "np.matmul(a,b) # same like inner"
   ]
  },
  {
   "cell_type": "markdown",
   "id": "f8382ec8",
   "metadata": {},
   "source": [
    "# determinant"
   ]
  },
  {
   "cell_type": "code",
   "execution_count": 27,
   "id": "b52fe2ab",
   "metadata": {},
   "outputs": [],
   "source": [
    "a = np.array([[1,2],[3,4]])"
   ]
  },
  {
   "cell_type": "code",
   "execution_count": 28,
   "id": "fc2584ba",
   "metadata": {},
   "outputs": [
    {
     "data": {
      "text/plain": [
       "array([[1, 2],\n",
       "       [3, 4]])"
      ]
     },
     "execution_count": 28,
     "metadata": {},
     "output_type": "execute_result"
    }
   ],
   "source": [
    "a"
   ]
  },
  {
   "cell_type": "code",
   "execution_count": 29,
   "id": "77ec0ab9",
   "metadata": {},
   "outputs": [
    {
     "data": {
      "text/plain": [
       "-2.0000000000000004"
      ]
     },
     "execution_count": 29,
     "metadata": {},
     "output_type": "execute_result"
    }
   ],
   "source": [
    "np.linalg.det(a)"
   ]
  },
  {
   "cell_type": "code",
   "execution_count": 30,
   "id": "8a008b31",
   "metadata": {},
   "outputs": [],
   "source": [
    "# which means multiply in diagonal way and subtract => (1*4) - (3*2) = 4-6 => -2"
   ]
  },
  {
   "cell_type": "raw",
   "id": "7a8225ec",
   "metadata": {},
   "source": [
    "https://www.mathsisfun.com/algebra/matrix-determinant.html"
   ]
  },
  {
   "cell_type": "markdown",
   "id": "9ae1a43e",
   "metadata": {},
   "source": [
    "# very important - always determinant should be square matrix like (2^2=4, 3^3=9, 4^4=16)"
   ]
  },
  {
   "cell_type": "code",
   "execution_count": 32,
   "id": "67480e8e",
   "metadata": {},
   "outputs": [],
   "source": [
    "b = np.array([[1,2],[3,4],[5,6]])"
   ]
  },
  {
   "cell_type": "code",
   "execution_count": 33,
   "id": "99a19444",
   "metadata": {},
   "outputs": [
    {
     "data": {
      "text/plain": [
       "array([[1, 2],\n",
       "       [3, 4],\n",
       "       [5, 6]])"
      ]
     },
     "execution_count": 33,
     "metadata": {},
     "output_type": "execute_result"
    }
   ],
   "source": [
    "b"
   ]
  },
  {
   "cell_type": "code",
   "execution_count": 34,
   "id": "73e30b92",
   "metadata": {},
   "outputs": [
    {
     "ename": "LinAlgError",
     "evalue": "Last 2 dimensions of the array must be square",
     "output_type": "error",
     "traceback": [
      "\u001b[0;31m---------------------------------------------------------------------------\u001b[0m",
      "\u001b[0;31mLinAlgError\u001b[0m                               Traceback (most recent call last)",
      "Input \u001b[0;32mIn [34]\u001b[0m, in \u001b[0;36m<cell line: 1>\u001b[0;34m()\u001b[0m\n\u001b[0;32m----> 1\u001b[0m \u001b[43mnp\u001b[49m\u001b[38;5;241;43m.\u001b[39;49m\u001b[43mlinalg\u001b[49m\u001b[38;5;241;43m.\u001b[39;49m\u001b[43mdet\u001b[49m\u001b[43m(\u001b[49m\u001b[43mb\u001b[49m\u001b[43m)\u001b[49m\n",
      "File \u001b[0;32m<__array_function__ internals>:5\u001b[0m, in \u001b[0;36mdet\u001b[0;34m(*args, **kwargs)\u001b[0m\n",
      "File \u001b[0;32m~/opt/anaconda3/lib/python3.9/site-packages/numpy/linalg/linalg.py:2155\u001b[0m, in \u001b[0;36mdet\u001b[0;34m(a)\u001b[0m\n\u001b[1;32m   2153\u001b[0m a \u001b[38;5;241m=\u001b[39m asarray(a)\n\u001b[1;32m   2154\u001b[0m _assert_stacked_2d(a)\n\u001b[0;32m-> 2155\u001b[0m \u001b[43m_assert_stacked_square\u001b[49m\u001b[43m(\u001b[49m\u001b[43ma\u001b[49m\u001b[43m)\u001b[49m\n\u001b[1;32m   2156\u001b[0m t, result_t \u001b[38;5;241m=\u001b[39m _commonType(a)\n\u001b[1;32m   2157\u001b[0m signature \u001b[38;5;241m=\u001b[39m \u001b[38;5;124m'\u001b[39m\u001b[38;5;124mD->D\u001b[39m\u001b[38;5;124m'\u001b[39m \u001b[38;5;28;01mif\u001b[39;00m isComplexType(t) \u001b[38;5;28;01melse\u001b[39;00m \u001b[38;5;124m'\u001b[39m\u001b[38;5;124md->d\u001b[39m\u001b[38;5;124m'\u001b[39m\n",
      "File \u001b[0;32m~/opt/anaconda3/lib/python3.9/site-packages/numpy/linalg/linalg.py:203\u001b[0m, in \u001b[0;36m_assert_stacked_square\u001b[0;34m(*arrays)\u001b[0m\n\u001b[1;32m    201\u001b[0m m, n \u001b[38;5;241m=\u001b[39m a\u001b[38;5;241m.\u001b[39mshape[\u001b[38;5;241m-\u001b[39m\u001b[38;5;241m2\u001b[39m:]\n\u001b[1;32m    202\u001b[0m \u001b[38;5;28;01mif\u001b[39;00m m \u001b[38;5;241m!=\u001b[39m n:\n\u001b[0;32m--> 203\u001b[0m     \u001b[38;5;28;01mraise\u001b[39;00m LinAlgError(\u001b[38;5;124m'\u001b[39m\u001b[38;5;124mLast 2 dimensions of the array must be square\u001b[39m\u001b[38;5;124m'\u001b[39m)\n",
      "\u001b[0;31mLinAlgError\u001b[0m: Last 2 dimensions of the array must be square"
     ]
    }
   ],
   "source": [
    "np.linalg.det(b) # see it shows error.bcoz there is 6 elements and it is not square matrix"
   ]
  },
  {
   "cell_type": "code",
   "execution_count": 35,
   "id": "dd61dc43",
   "metadata": {},
   "outputs": [],
   "source": [
    "a=np.array([[1,2,1],[3,4,1],[3,4,1]])"
   ]
  },
  {
   "cell_type": "code",
   "execution_count": 37,
   "id": "1ae26ab1",
   "metadata": {},
   "outputs": [
    {
     "data": {
      "text/plain": [
       "array([[1, 2, 1],\n",
       "       [3, 4, 1],\n",
       "       [3, 4, 1]])"
      ]
     },
     "execution_count": 37,
     "metadata": {},
     "output_type": "execute_result"
    }
   ],
   "source": [
    "a"
   ]
  },
  {
   "cell_type": "code",
   "execution_count": 36,
   "id": "cbfd608c",
   "metadata": {},
   "outputs": [
    {
     "data": {
      "text/plain": [
       "0.0"
      ]
     },
     "execution_count": 36,
     "metadata": {},
     "output_type": "execute_result"
    }
   ],
   "source": [
    "np.linalg.det(a)"
   ]
  },
  {
   "cell_type": "raw",
   "id": "c0e2e727",
   "metadata": {},
   "source": [
    "Row 1:\n",
    "    1 => (4*1) - (4*1) = 4 - 4 = 0\n",
    "    2 => (3*1) - (3*1) = 3 - 3 = 0\n",
    "    1 => (3*4) - (3*4) = 12 - 12 = 0"
   ]
  },
  {
   "cell_type": "code",
   "execution_count": 41,
   "id": "8f4e39b2",
   "metadata": {},
   "outputs": [],
   "source": [
    "sample=np.array([['a','b','c'],['d','e','f'],['g','h','i']])"
   ]
  },
  {
   "cell_type": "code",
   "execution_count": 42,
   "id": "a665eb33",
   "metadata": {},
   "outputs": [
    {
     "data": {
      "text/plain": [
       "array([['a', 'b', 'c'],\n",
       "       ['d', 'e', 'f'],\n",
       "       ['g', 'h', 'i']], dtype='<U1')"
      ]
     },
     "execution_count": 42,
     "metadata": {},
     "output_type": "execute_result"
    }
   ],
   "source": [
    "sample"
   ]
  },
  {
   "cell_type": "code",
   "execution_count": 43,
   "id": "1e684a27",
   "metadata": {},
   "outputs": [],
   "source": [
    "# a(e*i-h*f)-b(d*i-g*f)+c(d*h-g*e)"
   ]
  }
 ],
 "metadata": {
  "kernelspec": {
   "display_name": "Python 3 (ipykernel)",
   "language": "python",
   "name": "python3"
  },
  "language_info": {
   "codemirror_mode": {
    "name": "ipython",
    "version": 3
   },
   "file_extension": ".py",
   "mimetype": "text/x-python",
   "name": "python",
   "nbconvert_exporter": "python",
   "pygments_lexer": "ipython3",
   "version": "3.9.7"
  }
 },
 "nbformat": 4,
 "nbformat_minor": 5
}
