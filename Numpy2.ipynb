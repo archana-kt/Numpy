{
 "cells": [
  {
   "cell_type": "markdown",
   "id": "6f0a0882",
   "metadata": {},
   "source": [
    "# Numpy"
   ]
  },
  {
   "cell_type": "code",
   "execution_count": 1,
   "id": "8bb148d9",
   "metadata": {},
   "outputs": [],
   "source": [
    "import numpy as np"
   ]
  },
  {
   "cell_type": "code",
   "execution_count": 2,
   "id": "075b4d3d",
   "metadata": {},
   "outputs": [],
   "source": [
    "x = np.array([1,2,3,4]) # list"
   ]
  },
  {
   "cell_type": "code",
   "execution_count": 3,
   "id": "d4b695bc",
   "metadata": {},
   "outputs": [
    {
     "data": {
      "text/plain": [
       "array([1, 2, 3, 4])"
      ]
     },
     "execution_count": 3,
     "metadata": {},
     "output_type": "execute_result"
    }
   ],
   "source": [
    "x"
   ]
  },
  {
   "cell_type": "code",
   "execution_count": 4,
   "id": "ebca88e0",
   "metadata": {},
   "outputs": [],
   "source": [
    "x = np.array((5,6,7,8)) # tuple"
   ]
  },
  {
   "cell_type": "code",
   "execution_count": 5,
   "id": "1e959084",
   "metadata": {},
   "outputs": [
    {
     "data": {
      "text/plain": [
       "array([5, 6, 7, 8])"
      ]
     },
     "execution_count": 5,
     "metadata": {},
     "output_type": "execute_result"
    }
   ],
   "source": [
    "x"
   ]
  },
  {
   "cell_type": "code",
   "execution_count": 6,
   "id": "61005a54",
   "metadata": {},
   "outputs": [],
   "source": [
    "l = [i for i in range(10)]"
   ]
  },
  {
   "cell_type": "code",
   "execution_count": 7,
   "id": "cb965058",
   "metadata": {},
   "outputs": [
    {
     "data": {
      "text/plain": [
       "[0, 1, 2, 3, 4, 5, 6, 7, 8, 9]"
      ]
     },
     "execution_count": 7,
     "metadata": {},
     "output_type": "execute_result"
    }
   ],
   "source": [
    "l"
   ]
  },
  {
   "cell_type": "raw",
   "id": "7d48e210",
   "metadata": {},
   "source": [
    "l.append l.clear # See we are having only list methods"
   ]
  },
  {
   "cell_type": "code",
   "execution_count": 8,
   "id": "d55b125d",
   "metadata": {},
   "outputs": [],
   "source": [
    "x = np.array(l) # Now we are getting numpy methods(more methods)"
   ]
  },
  {
   "cell_type": "code",
   "execution_count": 10,
   "id": "4e19bc33",
   "metadata": {},
   "outputs": [
    {
     "data": {
      "text/plain": [
       "9"
      ]
     },
     "execution_count": 10,
     "metadata": {},
     "output_type": "execute_result"
    }
   ],
   "source": [
    "x.max()"
   ]
  },
  {
   "cell_type": "code",
   "execution_count": 11,
   "id": "9230cbf6",
   "metadata": {},
   "outputs": [
    {
     "data": {
      "text/plain": [
       "0"
      ]
     },
     "execution_count": 11,
     "metadata": {},
     "output_type": "execute_result"
    }
   ],
   "source": [
    "x.min()"
   ]
  },
  {
   "cell_type": "code",
   "execution_count": 12,
   "id": "4a4cb32b",
   "metadata": {},
   "outputs": [
    {
     "data": {
      "text/plain": [
       "4.5"
      ]
     },
     "execution_count": 12,
     "metadata": {},
     "output_type": "execute_result"
    }
   ],
   "source": [
    "x.mean()"
   ]
  },
  {
   "cell_type": "code",
   "execution_count": 13,
   "id": "87128ff6",
   "metadata": {},
   "outputs": [
    {
     "data": {
      "text/plain": [
       "dtype('int64')"
      ]
     },
     "execution_count": 13,
     "metadata": {},
     "output_type": "execute_result"
    }
   ],
   "source": [
    "x.dtype"
   ]
  },
  {
   "cell_type": "code",
   "execution_count": 14,
   "id": "04cf4d91",
   "metadata": {},
   "outputs": [
    {
     "data": {
      "text/plain": [
       "1"
      ]
     },
     "execution_count": 14,
     "metadata": {},
     "output_type": "execute_result"
    }
   ],
   "source": [
    "x.ndim"
   ]
  },
  {
   "cell_type": "code",
   "execution_count": 15,
   "id": "9c80fcd5",
   "metadata": {},
   "outputs": [
    {
     "data": {
      "text/plain": [
       "10"
      ]
     },
     "execution_count": 15,
     "metadata": {},
     "output_type": "execute_result"
    }
   ],
   "source": [
    "x.size"
   ]
  },
  {
   "cell_type": "code",
   "execution_count": 16,
   "id": "ab8575ae",
   "metadata": {},
   "outputs": [
    {
     "data": {
      "text/plain": [
       "8"
      ]
     },
     "execution_count": 16,
     "metadata": {},
     "output_type": "execute_result"
    }
   ],
   "source": [
    "x.itemsize"
   ]
  },
  {
   "cell_type": "code",
   "execution_count": 17,
   "id": "0774e899",
   "metadata": {},
   "outputs": [
    {
     "data": {
      "text/plain": [
       "80"
      ]
     },
     "execution_count": 17,
     "metadata": {},
     "output_type": "execute_result"
    }
   ],
   "source": [
    "x.nbytes"
   ]
  },
  {
   "cell_type": "code",
   "execution_count": 18,
   "id": "0ae29bb5",
   "metadata": {},
   "outputs": [
    {
     "data": {
      "text/plain": [
       "array([0, 1, 2, 3, 4, 5, 6, 7, 8, 9])"
      ]
     },
     "execution_count": 18,
     "metadata": {},
     "output_type": "execute_result"
    }
   ],
   "source": [
    "np.array([0,1,2,3,4,5,6,7,8,9])"
   ]
  },
  {
   "cell_type": "code",
   "execution_count": 19,
   "id": "b2ef7b37",
   "metadata": {},
   "outputs": [],
   "source": [
    "x = np.array([0,1,2,3,4,5,6,7,8,9])"
   ]
  },
  {
   "cell_type": "code",
   "execution_count": 21,
   "id": "29e9b85c",
   "metadata": {},
   "outputs": [
    {
     "data": {
      "text/plain": [
       "dtype('int64')"
      ]
     },
     "execution_count": 21,
     "metadata": {},
     "output_type": "execute_result"
    }
   ],
   "source": [
    "x.dtype"
   ]
  },
  {
   "cell_type": "code",
   "execution_count": 22,
   "id": "a619385b",
   "metadata": {},
   "outputs": [],
   "source": [
    "x = np.array?"
   ]
  },
  {
   "cell_type": "code",
   "execution_count": null,
   "id": "622fb835",
   "metadata": {},
   "outputs": [],
   "source": [
    "x = np.array"
   ]
  },
  {
   "cell_type": "raw",
   "id": "779c91b7",
   "metadata": {},
   "source": [
    "Docstring:\n",
    "array(object, dtype=None, *, copy=True, order='K', subok=False, ndmin=0,\n",
    "      like=None)\n",
    "\n",
    "Create an array.\n",
    "\n",
    "Parameters\n",
    "----------\n",
    "object : array_like\n",
    "    An array, any object exposing the array interface, an object whose\n",
    "    __array__ method returns an array, or any (nested) sequence.\n",
    "dtype : data-type, optional\n",
    "    The desired data-type for the array.  If not given, then the type will\n",
    "    be determined as the minimum type required to hold the objects in the\n",
    "    sequence.\n",
    "copy : bool, optional\n",
    "    If true (default), then the object is copied.  Otherwise, a copy will\n",
    "    only be made if __array__ returns a copy, if obj is a nested sequence,\n",
    "    or if a copy is needed to satisfy any of the other requirements\n",
    "    (`dtype`, `order`, etc.).\n",
    "order : {'K', 'A', 'C', 'F'}, optional\n",
    "    Specify the memory layout of the array. If object is not an array, the\n",
    "    newly created array will be in C order (row major) unless 'F' is\n",
    "    specified, in which case it will be in Fortran order (column major).\n",
    "    If object is an array the following holds.\n",
    "\n",
    "    ===== ========= ===================================================\n",
    "    order  no copy                     copy=True\n",
    "    ===== ========= ===================================================\n",
    "    'K'   unchanged F & C order preserved, otherwise most similar order\n",
    "    'A'   unchanged F order if input is F and not C, otherwise C order\n",
    "    'C'   C order   C order\n",
    "    'F'   F order   F order\n",
    "    ===== ========= ===================================================\n",
    "\n",
    "    When ``copy=False`` and a copy is made for other reasons, the result is\n",
    "    the same as if ``copy=True``, with some exceptions for `A`, see the\n",
    "    Notes section. The default order is 'K'.\n",
    "subok : bool, optional\n",
    "    If True, then sub-classes will be passed-through, otherwise\n",
    "    the returned array will be forced to be a base-class array (default).\n",
    "ndmin : int, optional\n",
    "    Specifies the minimum number of dimensions that the resulting\n",
    "    array should have.  Ones will be pre-pended to the shape as\n",
    "    needed to meet this requirement.\n",
    "like : array_like\n",
    "    Reference object to allow the creation of arrays which are not\n",
    "    NumPy arrays. If an array-like passed in as ``like`` supports\n",
    "    the ``__array_function__`` protocol, the result will be defined\n",
    "    by it. In this case, it ensures the creation of an array object\n",
    "    compatible with that passed in via this argument.\n",
    "\n",
    "    .. note::\n",
    "        The ``like`` keyword is an experimental feature pending on\n",
    "        acceptance of :ref:`NEP 35 <NEP35>`.\n",
    "\n",
    "    .. versionadded:: 1.20.0\n",
    "\n",
    "Returns\n",
    "-------\n",
    "out : ndarray\n",
    "    An array object satisfying the specified requirements.\n",
    "\n",
    "See Also\n",
    "--------\n",
    "empty_like : Return an empty array with shape and type of input.\n",
    "ones_like : Return an array of ones with shape and type of input.\n",
    "zeros_like : Return an array of zeros with shape and type of input.\n",
    "full_like : Return a new array with shape of input filled with value.\n",
    "empty : Return a new uninitialized array.\n",
    "ones : Return a new array setting values to one.\n",
    "zeros : Return a new array setting values to zero.\n",
    "full : Return a new array of given shape filled with value.\n",
    "\n",
    "\n",
    "Notes\n",
    "-----\n",
    "When order is 'A' and `object` is an array in neither 'C' nor 'F' order,\n",
    "and a copy is forced by a change in dtype, then the order of the result is\n",
    "not necessarily 'C' as expected. This is likely a bug.\n",
    "\n",
    "Examples\n",
    "--------\n",
    ">>> np.array([1, 2, 3])\n",
    "array([1, 2, 3])\n",
    "\n",
    "Upcasting:\n",
    "\n",
    ">>> np.array([1, 2, 3.0])\n",
    "array([ 1.,  2.,  3.])\n",
    "\n",
    "More than one dimension:\n",
    "\n",
    ">>> np.array([[1, 2], [3, 4]])\n",
    "array([[1, 2],\n",
    "       [3, 4]])\n",
    "\n",
    "Minimum dimensions 2:\n",
    "\n",
    ">>> np.array([1, 2, 3], ndmin=2)\n",
    "array([[1, 2, 3]])\n",
    "\n",
    "Type provided:\n",
    "\n",
    ">>> np.array([1, 2, 3], dtype=complex)\n",
    "array([ 1.+0.j,  2.+0.j,  3.+0.j])\n",
    "\n",
    "Data-type consisting of more than one element:\n",
    "\n",
    ">>> x = np.array([(1,2),(3,4)],dtype=[('a','<i4'),('b','<i4')])\n",
    ">>> x['a']\n",
    "array([1, 3])\n",
    "\n",
    "Creating an array from sub-classes:\n",
    "\n",
    ">>> np.array(np.mat('1 2; 3 4'))\n",
    "array([[1, 2],\n",
    "       [3, 4]])\n",
    "\n",
    ">>> np.array(np.mat('1 2; 3 4'), subok=True)\n",
    "matrix([[1, 2],\n",
    "        [3, 4]])\n",
    "Type:      builtin_function_or_method"
   ]
  },
  {
   "cell_type": "code",
   "execution_count": 23,
   "id": "216b02f4",
   "metadata": {},
   "outputs": [],
   "source": [
    "x = np.array([0,1,2,3,4,5,6,7,8,9], dtype = np.int8)"
   ]
  },
  {
   "cell_type": "code",
   "execution_count": 24,
   "id": "bf838b34",
   "metadata": {},
   "outputs": [
    {
     "data": {
      "text/plain": [
       "array([0, 1, 2, 3, 4, 5, 6, 7, 8, 9], dtype=int8)"
      ]
     },
     "execution_count": 24,
     "metadata": {},
     "output_type": "execute_result"
    }
   ],
   "source": [
    "x"
   ]
  },
  {
   "cell_type": "code",
   "execution_count": 25,
   "id": "16dc5e20",
   "metadata": {},
   "outputs": [
    {
     "data": {
      "text/plain": [
       "dtype('int8')"
      ]
     },
     "execution_count": 25,
     "metadata": {},
     "output_type": "execute_result"
    }
   ],
   "source": [
    "x.dtype"
   ]
  },
  {
   "cell_type": "code",
   "execution_count": 26,
   "id": "2c4873e9",
   "metadata": {},
   "outputs": [
    {
     "data": {
      "text/plain": [
       "1"
      ]
     },
     "execution_count": 26,
     "metadata": {},
     "output_type": "execute_result"
    }
   ],
   "source": [
    "x.ndim"
   ]
  },
  {
   "cell_type": "code",
   "execution_count": 29,
   "id": "14d45cf2",
   "metadata": {},
   "outputs": [
    {
     "data": {
      "text/plain": [
       "10"
      ]
     },
     "execution_count": 29,
     "metadata": {},
     "output_type": "execute_result"
    }
   ],
   "source": [
    "x.size"
   ]
  },
  {
   "cell_type": "code",
   "execution_count": 31,
   "id": "1d961096",
   "metadata": {},
   "outputs": [],
   "source": [
    "# itemsize ---> memory (bytes) for single element in an array\n",
    "# nbytes ---> memory bytes for all the elements of array\n",
    "# size  ---> number of elements in the array\n",
    "# ndim  ----> number of dimensions in the array\n",
    "# dtype ----> data type of an array"
   ]
  },
  {
   "cell_type": "markdown",
   "id": "53bfaf7f",
   "metadata": {},
   "source": [
    "# Ones"
   ]
  },
  {
   "cell_type": "code",
   "execution_count": 32,
   "id": "663a7efe",
   "metadata": {},
   "outputs": [
    {
     "data": {
      "text/plain": [
       "array([[1., 1., 1.],\n",
       "       [1., 1., 1.],\n",
       "       [1., 1., 1.]])"
      ]
     },
     "execution_count": 32,
     "metadata": {},
     "output_type": "execute_result"
    }
   ],
   "source": [
    "np.ones((3,3))"
   ]
  },
  {
   "cell_type": "code",
   "execution_count": 33,
   "id": "de371326",
   "metadata": {},
   "outputs": [
    {
     "data": {
      "text/plain": [
       "array([[1, 1, 1],\n",
       "       [1, 1, 1],\n",
       "       [1, 1, 1]])"
      ]
     },
     "execution_count": 33,
     "metadata": {},
     "output_type": "execute_result"
    }
   ],
   "source": [
    "np.ones((3,3), dtype = 'int')"
   ]
  },
  {
   "cell_type": "code",
   "execution_count": 34,
   "id": "791a6c6d",
   "metadata": {},
   "outputs": [
    {
     "data": {
      "text/plain": [
       "array([1., 1., 1., 1., 1., 1., 1., 1., 1., 1.])"
      ]
     },
     "execution_count": 34,
     "metadata": {},
     "output_type": "execute_result"
    }
   ],
   "source": [
    "np.ones(10)"
   ]
  },
  {
   "cell_type": "code",
   "execution_count": 35,
   "id": "8cf96c4c",
   "metadata": {},
   "outputs": [
    {
     "data": {
      "text/plain": [
       "array([1., 1., 1., 1., 1., 1., 1., 1., 1., 1., 1., 1., 1., 1., 1., 1., 1.,\n",
       "       1., 1., 1., 1., 1., 1., 1., 1., 1., 1., 1., 1., 1., 1., 1., 1., 1.,\n",
       "       1., 1., 1., 1., 1., 1., 1., 1., 1., 1., 1., 1., 1., 1., 1., 1., 1.,\n",
       "       1., 1., 1., 1., 1., 1., 1., 1., 1., 1., 1., 1., 1., 1., 1., 1., 1.,\n",
       "       1., 1., 1., 1., 1., 1., 1., 1., 1., 1., 1., 1., 1., 1., 1., 1., 1.,\n",
       "       1., 1., 1., 1., 1., 1., 1., 1., 1., 1., 1., 1., 1., 1., 1.])"
      ]
     },
     "execution_count": 35,
     "metadata": {},
     "output_type": "execute_result"
    }
   ],
   "source": [
    "np.ones(100)"
   ]
  },
  {
   "cell_type": "code",
   "execution_count": 37,
   "id": "6bcb63ca",
   "metadata": {},
   "outputs": [],
   "source": [
    "x=np.ones((10,10),dtype='int8')"
   ]
  },
  {
   "cell_type": "code",
   "execution_count": 38,
   "id": "a9e61359",
   "metadata": {},
   "outputs": [
    {
     "data": {
      "text/plain": [
       "array([[1, 1, 1, 1, 1, 1, 1, 1, 1, 1],\n",
       "       [1, 1, 1, 1, 1, 1, 1, 1, 1, 1],\n",
       "       [1, 1, 1, 1, 1, 1, 1, 1, 1, 1],\n",
       "       [1, 1, 1, 1, 1, 1, 1, 1, 1, 1],\n",
       "       [1, 1, 1, 1, 1, 1, 1, 1, 1, 1],\n",
       "       [1, 1, 1, 1, 1, 1, 1, 1, 1, 1],\n",
       "       [1, 1, 1, 1, 1, 1, 1, 1, 1, 1],\n",
       "       [1, 1, 1, 1, 1, 1, 1, 1, 1, 1],\n",
       "       [1, 1, 1, 1, 1, 1, 1, 1, 1, 1],\n",
       "       [1, 1, 1, 1, 1, 1, 1, 1, 1, 1]], dtype=int8)"
      ]
     },
     "execution_count": 38,
     "metadata": {},
     "output_type": "execute_result"
    }
   ],
   "source": [
    "x"
   ]
  },
  {
   "cell_type": "code",
   "execution_count": 39,
   "id": "16580abf",
   "metadata": {},
   "outputs": [
    {
     "data": {
      "text/plain": [
       "2"
      ]
     },
     "execution_count": 39,
     "metadata": {},
     "output_type": "execute_result"
    }
   ],
   "source": [
    "x.ndim"
   ]
  },
  {
   "cell_type": "markdown",
   "id": "e936e07f",
   "metadata": {},
   "source": [
    "# arange"
   ]
  },
  {
   "cell_type": "code",
   "execution_count": 40,
   "id": "63736b21",
   "metadata": {},
   "outputs": [],
   "source": [
    "x = np.arange(20) "
   ]
  },
  {
   "cell_type": "code",
   "execution_count": 41,
   "id": "9a3473eb",
   "metadata": {},
   "outputs": [
    {
     "data": {
      "text/plain": [
       "array([ 0,  1,  2,  3,  4,  5,  6,  7,  8,  9, 10, 11, 12, 13, 14, 15, 16,\n",
       "       17, 18, 19])"
      ]
     },
     "execution_count": 41,
     "metadata": {},
     "output_type": "execute_result"
    }
   ],
   "source": [
    "x"
   ]
  },
  {
   "cell_type": "code",
   "execution_count": 42,
   "id": "f76d724c",
   "metadata": {},
   "outputs": [
    {
     "data": {
      "text/plain": [
       "1"
      ]
     },
     "execution_count": 42,
     "metadata": {},
     "output_type": "execute_result"
    }
   ],
   "source": [
    "x.ndim"
   ]
  },
  {
   "cell_type": "code",
   "execution_count": 43,
   "id": "9f759696",
   "metadata": {},
   "outputs": [
    {
     "data": {
      "text/plain": [
       "20"
      ]
     },
     "execution_count": 43,
     "metadata": {},
     "output_type": "execute_result"
    }
   ],
   "source": [
    "x.size"
   ]
  },
  {
   "cell_type": "code",
   "execution_count": 44,
   "id": "0debc1c4",
   "metadata": {},
   "outputs": [
    {
     "data": {
      "text/plain": [
       "dtype('int64')"
      ]
     },
     "execution_count": 44,
     "metadata": {},
     "output_type": "execute_result"
    }
   ],
   "source": [
    "x.dtype"
   ]
  },
  {
   "cell_type": "code",
   "execution_count": 47,
   "id": "b2b43674",
   "metadata": {},
   "outputs": [
    {
     "data": {
      "text/plain": [
       "8"
      ]
     },
     "execution_count": 47,
     "metadata": {},
     "output_type": "execute_result"
    }
   ],
   "source": [
    "x.itemsize"
   ]
  },
  {
   "cell_type": "code",
   "execution_count": 48,
   "id": "24441905",
   "metadata": {},
   "outputs": [
    {
     "data": {
      "text/plain": [
       "160"
      ]
     },
     "execution_count": 48,
     "metadata": {},
     "output_type": "execute_result"
    }
   ],
   "source": [
    "x.nbytes"
   ]
  },
  {
   "cell_type": "code",
   "execution_count": 50,
   "id": "5209ff41",
   "metadata": {},
   "outputs": [],
   "source": [
    "x = np.arange(20).reshape(5,4)"
   ]
  },
  {
   "cell_type": "code",
   "execution_count": 51,
   "id": "114afc96",
   "metadata": {},
   "outputs": [
    {
     "data": {
      "text/plain": [
       "array([[ 0,  1,  2,  3],\n",
       "       [ 4,  5,  6,  7],\n",
       "       [ 8,  9, 10, 11],\n",
       "       [12, 13, 14, 15],\n",
       "       [16, 17, 18, 19]])"
      ]
     },
     "execution_count": 51,
     "metadata": {},
     "output_type": "execute_result"
    }
   ],
   "source": [
    "x"
   ]
  },
  {
   "cell_type": "code",
   "execution_count": 52,
   "id": "40c0076e",
   "metadata": {},
   "outputs": [],
   "source": [
    "x = np.arange(20).reshape(4,5)"
   ]
  },
  {
   "cell_type": "code",
   "execution_count": 53,
   "id": "48cb7047",
   "metadata": {},
   "outputs": [
    {
     "data": {
      "text/plain": [
       "array([[ 0,  1,  2,  3,  4],\n",
       "       [ 5,  6,  7,  8,  9],\n",
       "       [10, 11, 12, 13, 14],\n",
       "       [15, 16, 17, 18, 19]])"
      ]
     },
     "execution_count": 53,
     "metadata": {},
     "output_type": "execute_result"
    }
   ],
   "source": [
    "x"
   ]
  },
  {
   "cell_type": "code",
   "execution_count": 54,
   "id": "ac708713",
   "metadata": {},
   "outputs": [
    {
     "data": {
      "text/plain": [
       "2"
      ]
     },
     "execution_count": 54,
     "metadata": {},
     "output_type": "execute_result"
    }
   ],
   "source": [
    "x.ndim"
   ]
  },
  {
   "cell_type": "code",
   "execution_count": 55,
   "id": "69021816",
   "metadata": {},
   "outputs": [
    {
     "data": {
      "text/plain": [
       "array([[ 0,  5, 10, 15],\n",
       "       [ 1,  6, 11, 16],\n",
       "       [ 2,  7, 12, 17],\n",
       "       [ 3,  8, 13, 18],\n",
       "       [ 4,  9, 14, 19]])"
      ]
     },
     "execution_count": 55,
     "metadata": {},
     "output_type": "execute_result"
    }
   ],
   "source": [
    "x.T # Transform"
   ]
  },
  {
   "cell_type": "markdown",
   "id": "90d40aa1",
   "metadata": {},
   "source": [
    "# Attributes of numpy"
   ]
  },
  {
   "cell_type": "code",
   "execution_count": 56,
   "id": "3bddf07d",
   "metadata": {},
   "outputs": [],
   "source": [
    "x = np.array({\"Numbers\":[1,2,3,4,5]}) # Dict"
   ]
  },
  {
   "cell_type": "code",
   "execution_count": 57,
   "id": "7b89ee88",
   "metadata": {},
   "outputs": [
    {
     "data": {
      "text/plain": [
       "array({'Numbers': [1, 2, 3, 4, 5]}, dtype=object)"
      ]
     },
     "execution_count": 57,
     "metadata": {},
     "output_type": "execute_result"
    }
   ],
   "source": [
    "x"
   ]
  },
  {
   "cell_type": "code",
   "execution_count": 58,
   "id": "0b517d6d",
   "metadata": {},
   "outputs": [
    {
     "data": {
      "text/plain": [
       "()"
      ]
     },
     "execution_count": 58,
     "metadata": {},
     "output_type": "execute_result"
    }
   ],
   "source": [
    "x.shape # we didn't get a shape"
   ]
  },
  {
   "cell_type": "code",
   "execution_count": 59,
   "id": "03c5702e",
   "metadata": {},
   "outputs": [],
   "source": [
    "x = np.array((1,2,3))"
   ]
  },
  {
   "cell_type": "code",
   "execution_count": 61,
   "id": "b4ad970e",
   "metadata": {},
   "outputs": [
    {
     "data": {
      "text/plain": [
       "(3,)"
      ]
     },
     "execution_count": 61,
     "metadata": {},
     "output_type": "execute_result"
    }
   ],
   "source": [
    "x.shape"
   ]
  },
  {
   "cell_type": "code",
   "execution_count": 62,
   "id": "63148bcc",
   "metadata": {},
   "outputs": [],
   "source": [
    "# See for dict-we are not getting the shape\n",
    "# But for tuple we are getting the shape bcoz dict having keys and values"
   ]
  },
  {
   "cell_type": "code",
   "execution_count": 63,
   "id": "d6f61036",
   "metadata": {},
   "outputs": [],
   "source": [
    "x = np.ones?"
   ]
  },
  {
   "cell_type": "code",
   "execution_count": null,
   "id": "7a5db7e9",
   "metadata": {},
   "outputs": [],
   "source": [
    "x = np.ones"
   ]
  },
  {
   "cell_type": "raw",
   "id": "903c1894",
   "metadata": {},
   "source": [
    "Signature: np.ones(shape, dtype=None, order='C', *, like=None)\n",
    "Docstring:\n",
    "Return a new array of given shape and type, filled with ones.\n",
    "\n",
    "Parameters\n",
    "----------\n",
    "shape : int or sequence of ints\n",
    "    Shape of the new array, e.g., ``(2, 3)`` or ``2``.\n",
    "dtype : data-type, optional\n",
    "    The desired data-type for the array, e.g., `numpy.int8`.  Default is\n",
    "    `numpy.float64`.\n",
    "order : {'C', 'F'}, optional, default: C\n",
    "    Whether to store multi-dimensional data in row-major\n",
    "    (C-style) or column-major (Fortran-style) order in\n",
    "    memory.\n",
    "like : array_like\n",
    "    Reference object to allow the creation of arrays which are not\n",
    "    NumPy arrays. If an array-like passed in as ``like`` supports\n",
    "    the ``__array_function__`` protocol, the result will be defined\n",
    "    by it. In this case, it ensures the creation of an array object\n",
    "    compatible with that passed in via this argument.\n",
    "\n",
    "    .. note::\n",
    "        The ``like`` keyword is an experimental feature pending on\n",
    "        acceptance of :ref:`NEP 35 <NEP35>`.\n",
    "\n",
    "    .. versionadded:: 1.20.0\n",
    "\n",
    "Returns\n",
    "-------\n",
    "out : ndarray\n",
    "    Array of ones with the given shape, dtype, and order.\n",
    "\n",
    "See Also\n",
    "--------\n",
    "ones_like : Return an array of ones with shape and type of input.\n",
    "empty : Return a new uninitialized array.\n",
    "zeros : Return a new array setting values to zero.\n",
    "full : Return a new array of given shape filled with value.\n",
    "\n",
    "\n",
    "Examples\n",
    "--------\n",
    ">>> np.ones(5)\n",
    "array([1., 1., 1., 1., 1.])\n",
    "\n",
    ">>> np.ones((5,), dtype=int)\n",
    "array([1, 1, 1, 1, 1])\n",
    "\n",
    ">>> np.ones((2, 1))\n",
    "array([[1.],\n",
    "       [1.]])\n",
    "\n",
    ">>> s = (2,2)\n",
    ">>> np.ones(s)\n",
    "array([[1.,  1.],\n",
    "       [1.,  1.]])\n",
    "File:      ~/opt/anaconda3/lib/python3.9/site-packages/numpy/core/numeric.py\n",
    "Type:      function"
   ]
  },
  {
   "cell_type": "code",
   "execution_count": 64,
   "id": "8c4f90ee",
   "metadata": {},
   "outputs": [],
   "source": [
    "# C is row (C-Style)\n",
    "# F is column ((Fortran-style))\n",
    "\n",
    "# In default C is used"
   ]
  },
  {
   "cell_type": "code",
   "execution_count": 65,
   "id": "1a215594",
   "metadata": {},
   "outputs": [],
   "source": [
    "x = np.ones((4,4), dtype = np.int8, order = 'F')"
   ]
  },
  {
   "cell_type": "code",
   "execution_count": 66,
   "id": "09b8c19b",
   "metadata": {},
   "outputs": [
    {
     "data": {
      "text/plain": [
       "array([[1, 1, 1, 1],\n",
       "       [1, 1, 1, 1],\n",
       "       [1, 1, 1, 1],\n",
       "       [1, 1, 1, 1]], dtype=int8)"
      ]
     },
     "execution_count": 66,
     "metadata": {},
     "output_type": "execute_result"
    }
   ],
   "source": [
    "x"
   ]
  },
  {
   "cell_type": "code",
   "execution_count": 67,
   "id": "adf9692d",
   "metadata": {},
   "outputs": [],
   "source": [
    "x = np.ones((4,4), dtype = np.int8)"
   ]
  },
  {
   "cell_type": "code",
   "execution_count": 68,
   "id": "5b7b2c0f",
   "metadata": {},
   "outputs": [
    {
     "data": {
      "text/plain": [
       "array([[1, 1, 1, 1],\n",
       "       [1, 1, 1, 1],\n",
       "       [1, 1, 1, 1],\n",
       "       [1, 1, 1, 1]], dtype=int8)"
      ]
     },
     "execution_count": 68,
     "metadata": {},
     "output_type": "execute_result"
    }
   ],
   "source": [
    "x"
   ]
  },
  {
   "cell_type": "code",
   "execution_count": 69,
   "id": "4e480e1f",
   "metadata": {},
   "outputs": [],
   "source": [
    "# So giving order is optional"
   ]
  },
  {
   "cell_type": "raw",
   "id": "3c3fa79b",
   "metadata": {},
   "source": [
    " Artifical Intelligence\n",
    "\n",
    "\tClassified into two type\n",
    "\n",
    "\t1) Weak AI Narrow \n",
    "\n",
    "\t   Artificial Narrow Intelligence\t(ANI)\t\n",
    "\n",
    "\t\t\n",
    "\n",
    "\n",
    "\n",
    "\t2) Strong AI   (Theory)\n",
    "\n",
    "            Artificial General Intelligence\n",
    "                        or \n",
    "        Artificial Super Intelligence\t(AGI/ASI)\n"
   ]
  },
  {
   "cell_type": "code",
   "execution_count": 70,
   "id": "01f2377a",
   "metadata": {},
   "outputs": [],
   "source": [
    "x = np.zeros(10)"
   ]
  },
  {
   "cell_type": "code",
   "execution_count": 71,
   "id": "d5d96e86",
   "metadata": {},
   "outputs": [
    {
     "data": {
      "text/plain": [
       "array([0., 0., 0., 0., 0., 0., 0., 0., 0., 0.])"
      ]
     },
     "execution_count": 71,
     "metadata": {},
     "output_type": "execute_result"
    }
   ],
   "source": [
    "x"
   ]
  },
  {
   "cell_type": "code",
   "execution_count": 72,
   "id": "388f701c",
   "metadata": {},
   "outputs": [
    {
     "data": {
      "text/plain": [
       "numpy.ndarray"
      ]
     },
     "execution_count": 72,
     "metadata": {},
     "output_type": "execute_result"
    }
   ],
   "source": [
    "type(x)"
   ]
  },
  {
   "cell_type": "code",
   "execution_count": 73,
   "id": "f9e21968",
   "metadata": {},
   "outputs": [
    {
     "data": {
      "text/plain": [
       "dtype('float64')"
      ]
     },
     "execution_count": 73,
     "metadata": {},
     "output_type": "execute_result"
    }
   ],
   "source": [
    "x.dtype"
   ]
  },
  {
   "cell_type": "code",
   "execution_count": 74,
   "id": "3d259cf4",
   "metadata": {},
   "outputs": [
    {
     "data": {
      "text/plain": [
       "1"
      ]
     },
     "execution_count": 74,
     "metadata": {},
     "output_type": "execute_result"
    }
   ],
   "source": [
    "x.ndim"
   ]
  },
  {
   "cell_type": "code",
   "execution_count": 75,
   "id": "e6090e94",
   "metadata": {},
   "outputs": [
    {
     "data": {
      "text/plain": [
       "10"
      ]
     },
     "execution_count": 75,
     "metadata": {},
     "output_type": "execute_result"
    }
   ],
   "source": [
    "x.size"
   ]
  },
  {
   "cell_type": "code",
   "execution_count": 76,
   "id": "8c752dfd",
   "metadata": {},
   "outputs": [
    {
     "data": {
      "text/plain": [
       "8"
      ]
     },
     "execution_count": 76,
     "metadata": {},
     "output_type": "execute_result"
    }
   ],
   "source": [
    "x.itemsize"
   ]
  },
  {
   "cell_type": "code",
   "execution_count": 77,
   "id": "2983063b",
   "metadata": {},
   "outputs": [
    {
     "data": {
      "text/plain": [
       "80"
      ]
     },
     "execution_count": 77,
     "metadata": {},
     "output_type": "execute_result"
    }
   ],
   "source": [
    "x.nbytes"
   ]
  },
  {
   "cell_type": "code",
   "execution_count": 78,
   "id": "08df761e",
   "metadata": {},
   "outputs": [
    {
     "data": {
      "text/plain": [
       "(10,)"
      ]
     },
     "execution_count": 78,
     "metadata": {},
     "output_type": "execute_result"
    }
   ],
   "source": [
    "x.shape"
   ]
  },
  {
   "cell_type": "code",
   "execution_count": 79,
   "id": "3478a8dd",
   "metadata": {},
   "outputs": [],
   "source": [
    "x.data?"
   ]
  },
  {
   "cell_type": "raw",
   "id": "ab4e1fc0",
   "metadata": {},
   "source": [
    "Type:        memoryview\n",
    "String form: <memory at 0x7fd780320f40>\n",
    "Length:      10\n",
    "Docstring:   Create a new memoryview object which references the given object."
   ]
  },
  {
   "cell_type": "code",
   "execution_count": 80,
   "id": "4f65ab29",
   "metadata": {},
   "outputs": [
    {
     "data": {
      "text/plain": [
       "<memory at 0x7fd791656c40>"
      ]
     },
     "execution_count": 80,
     "metadata": {},
     "output_type": "execute_result"
    }
   ],
   "source": [
    "x.data"
   ]
  },
  {
   "cell_type": "raw",
   "id": "6b02f00c",
   "metadata": {},
   "source": [
    "# Attributes of the array\n",
    "\n",
    "ndarray.ndim\n",
    "the number of axes (dimensions) of the array.\n",
    "\n",
    "ndarray.shape\n",
    "the dimensions of the array. This is a tuple of integers indicating the size of the array in each dimension. For a matrix with n rows and m columns, shape will be (n,m). The length of the shape tuple is therefore the number of axes, ndim.\n",
    "\n",
    "ndarray.size\n",
    "the total number of elements of the array. This is equal to the product of the elements of shape.\n",
    "\n",
    "ndarray.dtype\n",
    "an object describing the type of the elements in the array. One can create or specify dtype’s using standard Python types. Additionally NumPy provides types of its own. numpy.int32, numpy.int16, and numpy.float64 are some examples.\n",
    "\n",
    "ndarray.itemsize\n",
    "the size in bytes of each element of the array. For example, an array of elements of type float64 has itemsize 8 (=64/8), while one of type complex32 has itemsize 4 (=32/8). It is equivalent to ndarray.dtype.itemsize.\n",
    "\n",
    "ndarray.data\n",
    "the buffer containing the actual elements of the array. Normally, we won’t need to use this attribute because we will access the elements in an array using indexing facilities.\n"
   ]
  },
  {
   "cell_type": "markdown",
   "id": "370e6788",
   "metadata": {},
   "source": [
    "# full in numpy"
   ]
  },
  {
   "cell_type": "code",
   "execution_count": 81,
   "id": "ecae2f71",
   "metadata": {},
   "outputs": [],
   "source": [
    "x = np.full((3,3),fill_value=10)"
   ]
  },
  {
   "cell_type": "code",
   "execution_count": 82,
   "id": "68e0223b",
   "metadata": {},
   "outputs": [
    {
     "data": {
      "text/plain": [
       "array([[10, 10, 10],\n",
       "       [10, 10, 10],\n",
       "       [10, 10, 10]])"
      ]
     },
     "execution_count": 82,
     "metadata": {},
     "output_type": "execute_result"
    }
   ],
   "source": [
    "x"
   ]
  },
  {
   "cell_type": "markdown",
   "id": "24c3c8b7",
   "metadata": {},
   "source": [
    "# Array creation methods"
   ]
  },
  {
   "cell_type": "code",
   "execution_count": 83,
   "id": "c85555b3",
   "metadata": {},
   "outputs": [],
   "source": [
    "x = np.linspace?"
   ]
  },
  {
   "cell_type": "raw",
   "id": "28ee1a9e",
   "metadata": {},
   "source": [
    "Signature:\n",
    "np.linspace(\n",
    "    start,\n",
    "    stop,\n",
    "    num=50,\n",
    "    endpoint=True,\n",
    "    retstep=False,\n",
    "    dtype=None,\n",
    "    axis=0,\n",
    ")\n",
    "Docstring:\n",
    "Return evenly spaced numbers over a specified interval.\n",
    "\n",
    "Returns `num` evenly spaced samples, calculated over the\n",
    "interval [`start`, `stop`].\n",
    "\n",
    "The endpoint of the interval can optionally be excluded.\n",
    "\n",
    ".. versionchanged:: 1.16.0\n",
    "    Non-scalar `start` and `stop` are now supported.\n",
    "\n",
    ".. versionchanged:: 1.20.0\n",
    "    Values are rounded towards ``-inf`` instead of ``0`` when an\n",
    "    integer ``dtype`` is specified. The old behavior can\n",
    "    still be obtained with ``np.linspace(start, stop, num).astype(int)``\n",
    "\n",
    "Parameters\n",
    "----------\n",
    "start : array_like\n",
    "    The starting value of the sequence.\n",
    "stop : array_like\n",
    "    The end value of the sequence, unless `endpoint` is set to False.\n",
    "    In that case, the sequence consists of all but the last of ``num + 1``\n",
    "    evenly spaced samples, so that `stop` is excluded.  Note that the step\n",
    "    size changes when `endpoint` is False.\n",
    "num : int, optional\n",
    "    Number of samples to generate. Default is 50. Must be non-negative.\n",
    "endpoint : bool, optional\n",
    "    If True, `stop` is the last sample. Otherwise, it is not included.\n",
    "    Default is True.\n",
    "retstep : bool, optional\n",
    "    If True, return (`samples`, `step`), where `step` is the spacing\n",
    "    between samples.\n",
    "dtype : dtype, optional\n",
    "    The type of the output array.  If `dtype` is not given, the data type\n",
    "    is inferred from `start` and `stop`. The inferred dtype will never be\n",
    "    an integer; `float` is chosen even if the arguments would produce an\n",
    "    array of integers.\n",
    "\n",
    "    .. versionadded:: 1.9.0\n",
    "\n",
    "axis : int, optional\n",
    "    The axis in the result to store the samples.  Relevant only if start\n",
    "    or stop are array-like.  By default (0), the samples will be along a\n",
    "    new axis inserted at the beginning. Use -1 to get an axis at the end.\n",
    "\n",
    "    .. versionadded:: 1.16.0\n",
    "\n",
    "Returns\n",
    "-------\n",
    "samples : ndarray\n",
    "    There are `num` equally spaced samples in the closed interval\n",
    "    ``[start, stop]`` or the half-open interval ``[start, stop)``\n",
    "    (depending on whether `endpoint` is True or False).\n",
    "step : float, optional\n",
    "    Only returned if `retstep` is True\n",
    "\n",
    "    Size of spacing between samples.\n",
    "\n",
    "\n",
    "See Also\n",
    "--------\n",
    "arange : Similar to `linspace`, but uses a step size (instead of the\n",
    "         number of samples).\n",
    "geomspace : Similar to `linspace`, but with numbers spaced evenly on a log\n",
    "            scale (a geometric progression).\n",
    "logspace : Similar to `geomspace`, but with the end points specified as\n",
    "           logarithms.\n",
    "\n",
    "Examples\n",
    "--------\n",
    ">>> np.linspace(2.0, 3.0, num=5)\n",
    "array([2.  , 2.25, 2.5 , 2.75, 3.  ])\n",
    ">>> np.linspace(2.0, 3.0, num=5, endpoint=False)\n",
    "array([2. ,  2.2,  2.4,  2.6,  2.8])\n",
    ">>> np.linspace(2.0, 3.0, num=5, retstep=True)\n",
    "(array([2.  ,  2.25,  2.5 ,  2.75,  3.  ]), 0.25)\n",
    "\n",
    "Graphical illustration:\n",
    "\n",
    ">>> import matplotlib.pyplot as plt\n",
    ">>> N = 8\n",
    ">>> y = np.zeros(N)\n",
    ">>> x1 = np.linspace(0, 10, N, endpoint=True)\n",
    ">>> x2 = np.linspace(0, 10, N, endpoint=False)\n",
    ">>> plt.plot(x1, y, 'o')\n",
    "[<matplotlib.lines.Line2D object at 0x...>]\n",
    ">>> plt.plot(x2, y + 0.5, 'o')\n",
    "[<matplotlib.lines.Line2D object at 0x...>]\n",
    ">>> plt.ylim([-0.5, 1])\n",
    "(-0.5, 1)\n",
    ">>> plt.show()\n",
    "File:      ~/opt/anaconda3/lib/python3.9/site-packages/numpy/core/function_base.py\n",
    "Type:      function"
   ]
  },
  {
   "cell_type": "code",
   "execution_count": 84,
   "id": "dcc63a3d",
   "metadata": {},
   "outputs": [],
   "source": [
    "x = np.linspace(0,5,5)"
   ]
  },
  {
   "cell_type": "code",
   "execution_count": 85,
   "id": "f0f66efa",
   "metadata": {},
   "outputs": [
    {
     "data": {
      "text/plain": [
       "array([0.  , 1.25, 2.5 , 3.75, 5.  ])"
      ]
     },
     "execution_count": 85,
     "metadata": {},
     "output_type": "execute_result"
    }
   ],
   "source": [
    "x"
   ]
  },
  {
   "cell_type": "code",
   "execution_count": 86,
   "id": "ccf24c99",
   "metadata": {},
   "outputs": [],
   "source": [
    "x = np.linspace(0,5,5,dtype = np.int8)"
   ]
  },
  {
   "cell_type": "code",
   "execution_count": 87,
   "id": "c5a2854f",
   "metadata": {},
   "outputs": [
    {
     "data": {
      "text/plain": [
       "array([0, 1, 2, 3, 5], dtype=int8)"
      ]
     },
     "execution_count": 87,
     "metadata": {},
     "output_type": "execute_result"
    }
   ],
   "source": [
    "x"
   ]
  },
  {
   "cell_type": "code",
   "execution_count": 88,
   "id": "75a4d1a0",
   "metadata": {},
   "outputs": [],
   "source": [
    "x=np.linspace(1234,5,5,dtype=np.int16)"
   ]
  },
  {
   "cell_type": "code",
   "execution_count": 89,
   "id": "ad9ed1d6",
   "metadata": {},
   "outputs": [
    {
     "data": {
      "text/plain": [
       "array([1234,  926,  619,  312,    5], dtype=int16)"
      ]
     },
     "execution_count": 89,
     "metadata": {},
     "output_type": "execute_result"
    }
   ],
   "source": [
    "x"
   ]
  }
 ],
 "metadata": {
  "kernelspec": {
   "display_name": "Python 3 (ipykernel)",
   "language": "python",
   "name": "python3"
  },
  "language_info": {
   "codemirror_mode": {
    "name": "ipython",
    "version": 3
   },
   "file_extension": ".py",
   "mimetype": "text/x-python",
   "name": "python",
   "nbconvert_exporter": "python",
   "pygments_lexer": "ipython3",
   "version": "3.9.7"
  }
 },
 "nbformat": 4,
 "nbformat_minor": 5
}
