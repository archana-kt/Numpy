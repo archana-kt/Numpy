{
 "cells": [
  {
   "cell_type": "markdown",
   "id": "b78686e2",
   "metadata": {},
   "source": [
    "# Permutation"
   ]
  },
  {
   "cell_type": "code",
   "execution_count": 1,
   "id": "a1b6c884",
   "metadata": {},
   "outputs": [],
   "source": [
    "import numpy as np"
   ]
  },
  {
   "cell_type": "code",
   "execution_count": 2,
   "id": "c6efa1fc",
   "metadata": {},
   "outputs": [],
   "source": [
    "x=np.random.randint(12,size=10)"
   ]
  },
  {
   "cell_type": "code",
   "execution_count": 3,
   "id": "a9f5c059",
   "metadata": {},
   "outputs": [
    {
     "data": {
      "text/plain": [
       "array([ 1,  9, 10, 11, 11,  5,  8,  2,  0,  3])"
      ]
     },
     "execution_count": 3,
     "metadata": {},
     "output_type": "execute_result"
    }
   ],
   "source": [
    "x"
   ]
  },
  {
   "cell_type": "code",
   "execution_count": 4,
   "id": "4a9daaf0",
   "metadata": {},
   "outputs": [],
   "source": [
    "np.random.shuffle(x)"
   ]
  },
  {
   "cell_type": "code",
   "execution_count": 5,
   "id": "57bc8a0b",
   "metadata": {},
   "outputs": [
    {
     "data": {
      "text/plain": [
       "array([10,  8,  3, 11,  1,  2, 11,  9,  5,  0])"
      ]
     },
     "execution_count": 5,
     "metadata": {},
     "output_type": "execute_result"
    }
   ],
   "source": [
    "x "
   ]
  },
  {
   "cell_type": "code",
   "execution_count": 6,
   "id": "c0906e61",
   "metadata": {},
   "outputs": [
    {
     "data": {
      "text/plain": [
       "array([10,  8,  3, 11,  1,  2, 11,  9,  5,  0])"
      ]
     },
     "execution_count": 6,
     "metadata": {},
     "output_type": "execute_result"
    }
   ],
   "source": [
    "x # see this will change the original array"
   ]
  },
  {
   "cell_type": "code",
   "execution_count": 13,
   "id": "cfd5627d",
   "metadata": {},
   "outputs": [],
   "source": [
    "x=np.random.randint(12,size=10)"
   ]
  },
  {
   "cell_type": "code",
   "execution_count": 14,
   "id": "d2241fb2",
   "metadata": {},
   "outputs": [
    {
     "data": {
      "text/plain": [
       "array([6, 3, 1, 2, 5, 1, 3, 5, 8, 6])"
      ]
     },
     "execution_count": 14,
     "metadata": {},
     "output_type": "execute_result"
    }
   ],
   "source": [
    "x"
   ]
  },
  {
   "cell_type": "code",
   "execution_count": 15,
   "id": "6814beb1",
   "metadata": {},
   "outputs": [
    {
     "data": {
      "text/plain": [
       "array([8, 6, 1, 5, 1, 6, 5, 3, 2, 3])"
      ]
     },
     "execution_count": 15,
     "metadata": {},
     "output_type": "execute_result"
    }
   ],
   "source": [
    "np.random.permutation(x)"
   ]
  },
  {
   "cell_type": "code",
   "execution_count": 16,
   "id": "c19b977d",
   "metadata": {},
   "outputs": [
    {
     "data": {
      "text/plain": [
       "array([6, 3, 1, 2, 5, 1, 3, 5, 8, 6])"
      ]
     },
     "execution_count": 16,
     "metadata": {},
     "output_type": "execute_result"
    }
   ],
   "source": [
    "x # see this will never change the original array"
   ]
  },
  {
   "cell_type": "markdown",
   "id": "054c5098",
   "metadata": {},
   "source": [
    "# Binomial"
   ]
  },
  {
   "cell_type": "code",
   "execution_count": null,
   "id": "86272236",
   "metadata": {},
   "outputs": [],
   "source": [
    "x = np.random.binomial(n=10, p=0.5, size=10)"
   ]
  },
  {
   "cell_type": "code",
   "execution_count": 17,
   "id": "f5322ab0",
   "metadata": {},
   "outputs": [
    {
     "data": {
      "text/plain": [
       "array([6, 3, 1, 2, 5, 1, 3, 5, 8, 6])"
      ]
     },
     "execution_count": 17,
     "metadata": {},
     "output_type": "execute_result"
    }
   ],
   "source": [
    "x"
   ]
  },
  {
   "cell_type": "code",
   "execution_count": 18,
   "id": "2ac0fb1e",
   "metadata": {},
   "outputs": [],
   "source": [
    "from numpy import random\n",
    "import matplotlib.pyplot as plt\n",
    "import seaborn as sns"
   ]
  },
  {
   "cell_type": "code",
   "execution_count": 21,
   "id": "52b6d4ff",
   "metadata": {},
   "outputs": [
    {
     "name": "stderr",
     "output_type": "stream",
     "text": [
      "C:\\Users\\91701\\AppData\\Local\\Temp\\ipykernel_6024\\2410585992.py:1: UserWarning: \n",
      "\n",
      "`distplot` is a deprecated function and will be removed in seaborn v0.14.0.\n",
      "\n",
      "Please adapt your code to use either `displot` (a figure-level function with\n",
      "similar flexibility) or `histplot` (an axes-level function for histograms).\n",
      "\n",
      "For a guide to updating your code to use the new functions, please see\n",
      "https://gist.github.com/mwaskom/de44147ed2974457ad6372750bbe5751\n",
      "\n",
      "  sns.distplot(random.binomial(n=10, p=0.5, size=1000), hist=True, kde=False)\n"
     ]
    },
    {
     "data": {
      "image/png": "[encoded data removed]",
      "text/plain": [
       "<Figure size 640x480 with 1 Axes>"
      ]
     },
     "metadata": {},
     "output_type": "display_data"
    }
   ],
   "source": [
    "sns.distplot(random.binomial(n=10, p=0.5, size=1000), hist=True, kde=False)\n",
    "plt.show()"
   ]
  },
  {
   "cell_type": "raw",
   "id": "4fb6b926",
   "metadata": {},
   "source": [
    "N-no of array or trails\n",
    "P = coins in probability(1/2 = 0.5)\n",
    "Size = size of an array"
   ]
  },
  {
   "cell_type": "raw",
   "id": "9e367766",
   "metadata": {},
   "source": [
    "Unlikely = 5 times dice dhayam out of 6 time\n",
    "Likely = 1 time dice dhayam out of 6 time"
   ]
  },
  {
   "cell_type": "markdown",
   "id": "25c87bdb",
   "metadata": {},
   "source": [
    "# Normal distribution"
   ]
  },
  {
   "cell_type": "code",
   "execution_count": 23,
   "id": "7c01b8a6",
   "metadata": {},
   "outputs": [],
   "source": [
    "x = np.random.normal(10, 2, size=1000)"
   ]
  },
  {
   "cell_type": "code",
   "execution_count": 24,
   "id": "b29a72ab",
   "metadata": {},
   "outputs": [
    {
     "data": {
      "text/plain": [
       "array([ 9.79148653,  8.18368721, 12.70413781,  7.21915506,  9.19869599,\n",
       "        6.57349178,  9.65570273, 10.94771398,  9.92925478,  6.50790111,\n",
       "        8.78376963, 15.94924988, 11.24943853, 10.7126959 , 10.44446988,\n",
       "        9.34094501,  7.76829147, 14.10435875,  9.27403831,  8.21775211,\n",
       "        9.38646613,  9.5659902 ,  7.76679417, 10.33033941,  9.72527099,\n",
       "        9.34889627,  9.18525045, 10.15236578, 11.31474105, 10.48778628,\n",
       "       10.08946814, 12.30901306,  8.53503181, 12.06790977,  8.06144074,\n",
       "        8.07404444,  9.62434543,  8.02458318, 11.85471209,  8.05647103,\n",
       "       13.89918864, 10.61702949,  8.8393842 ,  4.75685474,  6.42329689,\n",
       "       13.68934022, 11.83094082, 10.92190344,  7.24757085, 10.75483029,\n",
       "       11.06563409,  6.27247491,  8.67111149, 12.23560211,  6.34873747,\n",
       "       13.37752372,  9.31374936,  9.420268  ,  6.78305592, 10.90725859,\n",
       "       11.55645432,  8.21138588, 11.69921716,  9.15015617, 10.77646251,\n",
       "       10.07786577, 10.48439649,  9.98922824,  7.18975864, 10.54584821,\n",
       "        7.7571694 , 10.34192019, 14.69910929, 13.22473517,  8.05709235,\n",
       "       13.33178655,  8.6880847 ,  9.49473209,  9.48385033, 11.04552748,\n",
       "        7.0939694 ,  8.19492294,  9.93822909, 12.99105147,  8.41039174,\n",
       "       10.19437309,  8.8085214 ,  8.15867759,  8.01897371, 10.78860666,\n",
       "        9.09012049, 11.50872776, 10.78736512,  8.13862984,  7.9365767 ,\n",
       "       11.03065275, 12.15128482,  8.45498893, 11.79216843,  8.2275777 ,\n",
       "       10.71063032, 10.6738574 ,  8.41989282,  8.84684693,  8.4704925 ,\n",
       "        6.1937014 ,  7.48733877, 12.08832568, 10.80234642, 10.35991651,\n",
       "       11.99473223,  8.78696433,  9.11618882, 10.8661109 ,  8.16243658,\n",
       "        8.05409474, 13.63163399, 12.54041086, 10.9228427 , 12.76821556,\n",
       "       10.14395449,  9.71292975,  8.28155892, 11.50170096,  7.72315542,\n",
       "       12.79154575,  7.21106814, 10.85666622,  8.02057985, 12.857418  ,\n",
       "        7.73700455,  9.9383843 ,  8.3049586 ,  9.44807422,  9.39155684,\n",
       "       11.71497953, 10.85924163, 12.58594428, 14.19597663, 12.37870426,\n",
       "        8.04373562,  9.83591842,  8.68939346, 10.60435517, 13.07203638,\n",
       "       10.75009421,  9.29150515, 14.68956175, 12.75436345,  7.83701543,\n",
       "        8.6306342 , 12.95062558, 10.51423386, 10.23765011, 11.61916598,\n",
       "       10.75262037,  6.63240434, 11.46209212,  9.68280299, 13.29477029,\n",
       "        9.66225739, 10.33336349, 10.24169976,  7.58938845, 10.19069443,\n",
       "       11.25402076, 11.46709941,  8.41923832,  9.93534267, 11.46617002,\n",
       "       12.04088069,  6.16461501, 12.59825226, 11.3011289 ,  9.17940971,\n",
       "        6.53152347, 11.0996451 , 10.9331185 ,  7.08959122, 12.14951659,\n",
       "       13.88679683, 11.48864448,  9.38171392, 11.07925979, 13.28547571,\n",
       "       10.32148734,  5.63003143, 11.89311199,  4.54718686,  8.82144185,\n",
       "       10.59867638,  7.37998909, 11.93273242,  7.24374793, 11.95947132,\n",
       "        7.68604023,  8.14261398,  6.84426578, 10.38881836, 10.42015449,\n",
       "       11.27301603,  8.05669954,  9.82222452, 10.94464378, 11.06606364,\n",
       "        7.39882982, 10.14258668,  8.86741741, 10.89188547,  9.37312769,\n",
       "        8.19164689, 11.54611533, 11.68771089, 10.57817129,  9.58236344,\n",
       "        9.31780385, 10.16881936,  6.33100952, 13.28718151, 13.3125479 ,\n",
       "       10.5157972 ,  9.68562923, 13.06082747, 11.15803532, 11.57871132,\n",
       "        9.24742795,  7.63944429,  8.32553815,  9.23896241, 11.40873891,\n",
       "        9.05961934, 12.76346129, 10.57712838, 10.49516166,  8.17139452,\n",
       "        9.29585935, 10.72973169,  9.71982781,  6.85953808, 12.58545727,\n",
       "        6.92634843, 11.8483577 ,  7.50101042, 11.06028448,  9.12313632,\n",
       "        8.88188702, 10.20273414,  7.46818757,  8.55102153, 13.22466049,\n",
       "       12.74509528,  7.61824121,  8.98017867, 10.01251963,  7.00455275,\n",
       "       11.7721871 , 12.81017535,  8.69628516, 13.36967027,  8.97677241,\n",
       "       13.4853733 ,  7.04539025, 13.3626402 , 12.40263099,  9.18778339,\n",
       "       12.03469937,  8.76300606,  8.83401609, 11.77680871, 10.62292164,\n",
       "        9.7561043 , 11.49257596, 11.31686845, 12.2903364 ,  9.70700321,\n",
       "        8.8983696 ,  7.82777824,  6.70988897,  7.2058046 ,  8.8856249 ,\n",
       "       10.52592486, 10.19366002, 11.90658257,  5.89686383,  9.19789474,\n",
       "        6.76304729, 12.13735953,  9.75262507, 11.87177701, 10.8648015 ,\n",
       "       10.08439598, 10.46861491,  9.65353052,  8.59591515,  6.82737391,\n",
       "       13.03133907,  9.65105818, 11.98777386, 11.45694587,  9.40505112,\n",
       "        8.53888562, 12.44242645,  7.52927978,  6.33631738,  9.81734446,\n",
       "        8.59804338, 12.311047  ,  9.40683552,  9.30757811,  9.26335268,\n",
       "        7.50675502, 10.14059249,  9.43094648, 10.69015578,  6.25266811,\n",
       "        8.68226392,  9.02990004,  6.13310242, 10.63266999,  8.07178886,\n",
       "       13.21885877,  7.31482271, 10.28576466,  9.90658058,  8.8345679 ,\n",
       "        8.48406766,  7.67326265,  9.70660747,  7.73545463,  9.36821691,\n",
       "       10.5491059 ,  7.70502326,  9.54996219,  7.38582519, 11.69962993,\n",
       "       14.77124594,  6.82975394, 11.96858267,  9.3800966 , 11.57334479,\n",
       "       10.67205157, 14.66407661,  6.91344624, 13.12415412, 10.11217742,\n",
       "       11.92091975,  7.07840908,  9.43205684, 10.66220571, 10.05045139,\n",
       "       12.00885835,  7.40156623, 11.42755166, 13.9002985 ,  8.39643989,\n",
       "        7.90570381,  7.85225779, 13.94627978, 10.5469147 , 11.3934825 ,\n",
       "        9.28578626, 12.44685594, 11.14258133, 11.79900347, 13.01754442,\n",
       "        9.82671897,  8.56701441,  7.01644588,  6.77732305, 10.58222923,\n",
       "        7.85353764, 11.15693922, 14.92051523, 10.42062114,  9.47573014,\n",
       "        8.16013609, 11.11405259,  8.78413176,  9.22428015,  9.38783228,\n",
       "        5.75055225, 10.40949969, 12.74505105,  7.23606171,  7.02427381,\n",
       "        7.84969207, 12.4442535 ,  9.53519656, 11.92330063, 11.23220986,\n",
       "       12.64774056, 10.22888253, 11.08145888,  9.35359163, 10.47931524,\n",
       "        8.71739655, 11.02648988,  7.76627029, 11.86327305, 11.51157609,\n",
       "       11.33673552, 14.58750004,  9.91589998, 10.66353901,  8.59645571,\n",
       "        9.28577414,  8.46092094, 12.17879378,  5.58056538, 11.18309147,\n",
       "        7.25080322,  8.54019023,  8.32635519, 12.67931494, 10.51566833,\n",
       "        9.33584022,  7.35908523, 12.97790214, 10.66782442,  8.53086383,\n",
       "        8.78737794,  8.8300543 ,  9.09335471, 13.82662642,  8.13809108,\n",
       "       12.90224006,  7.34173733,  8.58047979,  7.75315365, 12.65181781,\n",
       "       10.2374808 ,  9.97490667,  3.78484838,  9.36750242, 10.41056685,\n",
       "        8.55008046,  9.96134376, 11.69611372,  8.66003961,  7.57386269,\n",
       "       11.92683298, 11.59648003, 10.83446963, 10.24164727, 10.33411804,\n",
       "        9.66188532,  8.96130245, 10.59287543, 11.9227112 , 10.25052061,\n",
       "        8.1495281 , 10.23792732,  9.08979592, 12.23702739, 10.04324572,\n",
       "        6.87058756,  8.66017027,  8.97073552, 11.65310561,  9.53916696,\n",
       "       12.23504494,  8.39064434,  9.56035931, 10.68476073, 15.24076998,\n",
       "        8.61434481,  6.93426518, 12.73563181, 11.66212966,  9.80536381,\n",
       "        9.48105768, 11.17335268,  8.0718079 , 10.07482115, 12.90209302,\n",
       "       13.06073077, 10.40626587, 12.20523987, 11.01842697,  5.98184116,\n",
       "        5.32226881, 11.26779956,  9.94118667,  6.59763588,  8.92422435,\n",
       "        5.91015102,  8.24391973,  8.40051298,  9.59832642, 11.88319608,\n",
       "        9.72500223, 12.16772186,  9.7283573 , 12.20160447,  8.83950715,\n",
       "        7.85421164,  9.22461987,  9.13555657,  7.54149142,  8.46841678,\n",
       "       12.71712774, 11.955866  ,  8.03396678,  7.46145997,  9.30234708,\n",
       "        8.04484648, 10.68620725,  9.09277227, 10.16781591, 10.70135964,\n",
       "        8.3824473 , 13.22829355,  9.90559754,  6.11232738, 11.01800071,\n",
       "        9.16641542, 13.72314307, 10.68569293,  9.74327808, 11.64377985,\n",
       "       10.74037754,  8.93070883, 11.43067831, 10.17628081, 12.19938795,\n",
       "        9.24469514, 11.61210204,  6.83552379,  7.76255498,  8.8705629 ,\n",
       "       11.482091  , 12.79073905, 11.9739606 , 10.73105254, 10.32103255,\n",
       "        9.82028021, 13.39096406,  9.54670362,  8.68091761, 12.38821613,\n",
       "        7.62941277,  9.34223448,  7.59363118, 11.21544998,  8.49003166,\n",
       "        9.12487653, 10.55350555, 10.82330516, 10.67313953,  8.98705976,\n",
       "        5.2202685 , 10.1754814 , 10.28153547, 12.39277133,  7.87810876,\n",
       "        7.99239324, 10.31730354, 14.43319826,  7.97971334,  7.31080786,\n",
       "       10.90380589, 12.20938006, 12.01293682, 14.93935562,  8.28157392,\n",
       "        7.14143733,  8.09010093,  9.93377455,  8.20168578, 10.82642804,\n",
       "       12.08538174,  9.08288728, 10.80632246,  7.4033245 ,  9.84073873,\n",
       "        9.20642968, 12.35186917, 11.02258793, 12.95004539, 10.06747573,\n",
       "       10.71998669, 15.15555341,  9.74929755, 11.32936348, 10.94210763,\n",
       "       11.24236357, 12.90508332,  7.6669895 , 10.75073307, 11.32084507,\n",
       "       12.46583173,  8.47370185, 10.32346109,  9.03458061, 13.55882718,\n",
       "       11.07958674, 11.17380409, 12.17487514,  9.94032901,  5.44862609,\n",
       "        9.10003946,  8.00083007,  7.92015697, 11.27381206,  8.91501726,\n",
       "       11.31041623, 11.3469325 , 11.50321684, 10.28537585, 11.62207206,\n",
       "        9.37069991, 11.87891351,  7.03054401,  7.91598586, 12.66430978,\n",
       "        8.61707288, 15.7824524 , 11.30437068, 10.07603088,  8.48411409,\n",
       "       12.89013415,  6.98573684,  9.7300102 ,  9.7056392 ,  7.83819614,\n",
       "       11.48479071,  8.60654711, 12.62354327,  8.25699486, 10.12387102,\n",
       "       11.02933423,  9.52910485,  8.86337637, 10.93299284, 11.71871306,\n",
       "       10.87121074,  7.88220828,  7.91932794,  6.6861559 , 11.30012091,\n",
       "        8.57068313,  8.61176478,  9.30516655, 10.45534692,  7.85014087,\n",
       "       11.68602878, 10.95590825, 10.70314775,  9.65422678,  8.44518954,\n",
       "       12.45182668, 10.07333888, 13.24374287, 17.09797695,  9.83636972,\n",
       "       11.00134383,  5.97156146,  7.1355853 ,  9.22531195,  9.72092503,\n",
       "       11.00166051,  8.82313797, 10.7317139 ,  7.90598152, 11.5407694 ,\n",
       "        8.59590937,  8.61259606, 10.5189505 ,  9.62134776,  8.69656208,\n",
       "       11.28754595, 13.66061016,  9.93557505, 11.17772095,  8.80367863,\n",
       "       11.47017473, 10.64723027,  9.43746182, 12.35311833, 10.5918256 ,\n",
       "       12.56641779, 11.35558547, 11.45561991,  6.65650253, 10.88586757,\n",
       "       10.44305291, 13.82772417, 10.57428125,  9.37819204,  9.38554908,\n",
       "       11.31315919,  9.54263371, 16.7844042 ,  8.9913369 ,  7.65719212,\n",
       "       10.2189494 , 10.15917462,  9.45451   , 13.09172968,  8.10177592,\n",
       "        6.99367872,  9.08421029, 13.35048435,  8.79439761,  8.97234465,\n",
       "       13.01989117, 11.63625539,  9.6237042 , 14.90895611,  9.65213736,\n",
       "        9.45938571,  6.83834358,  5.34729863, 11.86560686, 10.6254103 ,\n",
       "        7.1022397 ,  7.7798592 ,  5.88291863, 10.34911221, 11.4208425 ,\n",
       "        9.03485923,  9.32137545, 13.66543536,  8.63042604,  9.91922241,\n",
       "        9.99745056,  9.36664681,  9.74979919,  9.86977186,  9.83955455,\n",
       "       13.5354306 , 14.24962881,  7.4278437 , 11.56140702,  9.85093241,\n",
       "       10.25703811, 13.10201733, 14.89329133, 11.24410104,  9.67750261,\n",
       "       13.00872268, 11.52160408, 10.62060013, 13.12467996, 13.41919656,\n",
       "        9.19726778, 10.2893654 ,  8.69986689, 10.8629895 , 11.43864851,\n",
       "        8.87277284, 12.50790475, 10.92403103, 12.76760132, 10.41247928,\n",
       "       11.32552231, 14.53131482, 11.91822886,  8.44153727, 14.21477531,\n",
       "        9.23966284,  9.57954558, 10.34861156, 12.5261505 , 11.46187014,\n",
       "       10.88085371, 11.44098458, 11.41888749,  9.36886333, 10.72348203,\n",
       "        9.22233177,  8.78638035,  8.0402951 , 11.82928396,  9.2550339 ,\n",
       "       12.82644044,  8.3890339 , 12.54822075,  9.15451359, 10.27133921,\n",
       "        9.13118298,  6.54737072, 11.22386174,  8.07323416,  6.1820397 ,\n",
       "        9.18047973, 13.18760225,  4.51579863, 11.18309854, 11.63232383,\n",
       "       11.21322184,  7.44655918, 11.6252946 ,  5.84146515, 11.65839517,\n",
       "       11.18569051, 12.41025073,  8.15385229,  6.37042186,  9.46942272,\n",
       "       10.66460126,  7.19487663, 10.52431199, 13.02874433,  9.44600316,\n",
       "        8.66474973,  8.44795853,  9.07608157,  8.66369825, 10.30071945,\n",
       "        4.03288716, 11.99284941, 13.24197428,  7.29269005, 14.38312818,\n",
       "       11.6499538 , 12.19763543, 10.76637196,  8.27694258,  6.3789173 ,\n",
       "        8.62617325,  5.89301312,  8.48471409, 10.10138537,  9.16480301,\n",
       "        3.65162532,  8.55135041,  9.4190646 ,  7.06459742,  6.63383111,\n",
       "       13.85145958, 13.04504002,  9.40860957, 10.07907955, 11.55844844,\n",
       "        9.00039716, 11.33859195,  9.88089404, 12.83413669,  6.64726994,\n",
       "       15.04014266, 14.54621528, 10.48726938, 11.55492597,  8.86380858,\n",
       "        6.9835258 , 11.08366891, 13.8548409 ,  9.88014232,  9.33656957,\n",
       "        5.88642386,  5.83568339, 11.5323866 ,  7.41463777, 11.9629441 ,\n",
       "        7.95144795,  9.25487122, 12.2691351 , 12.1878209 , 12.63487176,\n",
       "        8.9450972 , 11.53354295,  7.13861467, 13.0760294 ,  8.70351025,\n",
       "        9.88010453,  7.73451433, 10.13015765, 10.34846438,  6.31887239,\n",
       "        9.70267343,  7.33708005, 11.8965703 ,  8.06620333,  9.94943109,\n",
       "        9.95189258, 10.02225001,  9.18102587, 12.20805292, 12.0656427 ,\n",
       "       10.31285817,  5.6937961 , 12.34526522, 11.67844476,  8.85631164,\n",
       "        8.3471371 ,  8.70969194, 11.79316024, 11.4243245 ,  9.34118074,\n",
       "       10.38769352, 10.21283632, 11.18867237, 11.49000475,  7.44498952,\n",
       "        7.01902291, 11.00517923, 11.86477383, 12.20981281, 10.80456589,\n",
       "       10.81336045, 10.45441312,  7.11023229,  9.82823293, 11.20536294,\n",
       "       12.60277914, 10.19933797, 13.61540871,  9.85959109, 12.6493828 ,\n",
       "       10.48868718, 10.25439189,  9.30536641,  7.99174993,  8.53191089,\n",
       "        8.17268696,  9.59496939, 11.37453296, 11.66789308,  6.99698621,\n",
       "        7.86050141,  8.2207969 ,  8.42779792, 12.56393276, 13.65446109,\n",
       "        8.62316837,  9.69864368, 13.30348139,  9.71813816, 13.55445283,\n",
       "        9.65428679,  5.4480645 , 14.96769327, 11.9620494 ,  8.80519458,\n",
       "        7.94776682,  9.54336475,  7.81034795,  7.96158631,  7.08583318,\n",
       "       10.32661038,  9.82025137,  3.70314369,  9.82977572,  6.94616316,\n",
       "       10.54198071, 10.6388261 ,  9.62473927, 10.45548772,  9.09231945,\n",
       "        9.78355054,  7.3936733 , 12.25005164,  7.13906218,  9.4865668 ,\n",
       "       10.77969519,  8.31520877,  9.25311852, 10.37422995, 13.38627717,\n",
       "        9.09481773, 10.93211978,  7.52348685,  9.60209657, 11.23334342,\n",
       "       10.85661253, 10.29593582,  9.53201737,  8.69929941,  8.49733345,\n",
       "        9.1012642 , 13.37217922,  9.49473039,  6.88364148,  8.57086502,\n",
       "        9.31041731, 14.58252207, 11.00117129, 13.36451732, 10.02416646,\n",
       "        9.24220768,  6.78302228,  9.90849645,  8.70833859, 10.94040969,\n",
       "       11.2124956 ,  8.94385015,  7.16048543, 11.01594865,  8.89335444,\n",
       "        7.68891656, 10.33156972, 11.13857143,  6.62054797, 12.22511296,\n",
       "        9.44909981, 10.1060779 ,  8.14769455,  7.61243017, 10.10626928])"
      ]
     },
     "execution_count": 24,
     "metadata": {},
     "output_type": "execute_result"
    }
   ],
   "source": [
    "x"
   ]
  },
  {
   "cell_type": "markdown",
   "id": "e86fc2f5",
   "metadata": {},
   "source": [
    "# Binomial - discrete values\n",
    "# Normal - continuous values"
   ]
  },
  {
   "cell_type": "raw",
   "id": "1413cbfd",
   "metadata": {},
   "source": [
    "Types of Random Variables in Probability Distribution\n",
    "There are following two types of \n",
    "\n",
    "Discrete Random Variables\n",
    "Continuous Random Variables "
   ]
  },
  {
   "cell_type": "raw",
   "id": "cd81d4ce",
   "metadata": {},
   "source": [
    "Discrete Random Variables in Probability Distribution\n",
    "A Discrete Random Variable can only take a finite number of values. To further understand this, let’s see some examples of discrete random variables:\n",
    "\n",
    "X = {sum of the outcomes when two dice are rolled}. Here, X can only take values like {2, 3, 4, 5, 6….10, 11, 12}.\n",
    "X = {Number of Heads in 100 coin tosses}. Here, X can take only integer values from [0,100]."
   ]
  },
  {
   "cell_type": "raw",
   "id": "2829a774",
   "metadata": {},
   "source": [
    "Continuous Random Variable in Probability Distribution\n",
    "A Continuous Random Variable can take infinite values in a continuous domain. Let’s see an example of a dart game. \n",
    "\n",
    "Suppose, we have a dart game in which we throw a dart where the dart can fall anywhere between [-1,1] on the x-axis. So if we define our random variable as the x-coordinate of the position of the dart, X can take any value from [-1,1]. There are infinitely many possible values that X can take. (X = {0.1, 0.001, 0.01, 1,2, 2.112121 …. and so on}.   "
   ]
  },
  {
   "cell_type": "raw",
   "id": "bbbc0984",
   "metadata": {},
   "source": [
    "In binomial probability distribution, the number of ‘Success’ in a sequence of n experiments, where each time a question is asked for yes-no, then the boolean-valued outcome is represented either with success/yes/true/one (probability p) or failure/no/false/zero (probability q = 1 − p). A single success/failure test is also called a Bernoulli trial or Bernoulli experiment, and a series of outcomes is called a Bernoulli process. For n = 1, i.e. a single experiment, the binomial distribution is a Bernoulli distribution. The binomial distribution is the base for the famous binomial test of statistical importance.\n",
    "\n",
    "Eg: Taking a survey of positive and negative reviews from the public for any specific product or place.\n",
    "By using the YES/ NO survey, we can check whether the number of persons views the particular channel."
   ]
  }
 ],
 "metadata": {
  "kernelspec": {
   "display_name": "Python 3 (ipykernel)",
   "language": "python",
   "name": "python3"
  },
  "language_info": {
   "codemirror_mode": {
    "name": "ipython",
    "version": 3
   },
   "file_extension": ".py",
   "mimetype": "text/x-python",
   "name": "python",
   "nbconvert_exporter": "python",
   "pygments_lexer": "ipython3",
   "version": "3.11.4"
  }
 },
 "nbformat": 4,
 "nbformat_minor": 5
}
