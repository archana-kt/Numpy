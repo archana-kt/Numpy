{
 "cells": [
  {
   "cell_type": "markdown",
   "id": "6baa5dab",
   "metadata": {},
   "source": [
    "# Numpy"
   ]
  },
  {
   "cell_type": "markdown",
   "id": "ca8dd31b",
   "metadata": {},
   "source": [
    "# copy"
   ]
  },
  {
   "cell_type": "code",
   "execution_count": 1,
   "id": "524dcb4d",
   "metadata": {},
   "outputs": [],
   "source": [
    "import numpy as np"
   ]
  },
  {
   "cell_type": "code",
   "execution_count": 2,
   "id": "59f81603",
   "metadata": {},
   "outputs": [],
   "source": [
    "l=[i for i in range(10)]"
   ]
  },
  {
   "cell_type": "code",
   "execution_count": 3,
   "id": "6f198559",
   "metadata": {},
   "outputs": [
    {
     "data": {
      "text/plain": [
       "[0, 1, 2, 3, 4, 5, 6, 7, 8, 9]"
      ]
     },
     "execution_count": 3,
     "metadata": {},
     "output_type": "execute_result"
    }
   ],
   "source": [
    "l"
   ]
  },
  {
   "cell_type": "code",
   "execution_count": 4,
   "id": "bbcd0e43",
   "metadata": {},
   "outputs": [],
   "source": [
    "x = np.copy(l)"
   ]
  },
  {
   "cell_type": "code",
   "execution_count": 5,
   "id": "b890af37",
   "metadata": {},
   "outputs": [
    {
     "data": {
      "text/plain": [
       "array([0, 1, 2, 3, 4, 5, 6, 7, 8, 9])"
      ]
     },
     "execution_count": 5,
     "metadata": {},
     "output_type": "execute_result"
    }
   ],
   "source": [
    "x"
   ]
  },
  {
   "cell_type": "code",
   "execution_count": 6,
   "id": "164aa132",
   "metadata": {},
   "outputs": [
    {
     "data": {
      "text/plain": [
       "140421433921344"
      ]
     },
     "execution_count": 6,
     "metadata": {},
     "output_type": "execute_result"
    }
   ],
   "source": [
    "id(l)"
   ]
  },
  {
   "cell_type": "code",
   "execution_count": 7,
   "id": "cb111c77",
   "metadata": {},
   "outputs": [
    {
     "data": {
      "text/plain": [
       "140421431448080"
      ]
     },
     "execution_count": 7,
     "metadata": {},
     "output_type": "execute_result"
    }
   ],
   "source": [
    "id(x)"
   ]
  },
  {
   "cell_type": "code",
   "execution_count": 8,
   "id": "ab4bfc17",
   "metadata": {},
   "outputs": [],
   "source": [
    "x[0] = 100"
   ]
  },
  {
   "cell_type": "code",
   "execution_count": 9,
   "id": "6803cc7f",
   "metadata": {},
   "outputs": [
    {
     "data": {
      "text/plain": [
       "array([100,   1,   2,   3,   4,   5,   6,   7,   8,   9])"
      ]
     },
     "execution_count": 9,
     "metadata": {},
     "output_type": "execute_result"
    }
   ],
   "source": [
    "x"
   ]
  },
  {
   "cell_type": "code",
   "execution_count": 10,
   "id": "c968189c",
   "metadata": {},
   "outputs": [
    {
     "data": {
      "text/plain": [
       "[0, 1, 2, 3, 4, 5, 6, 7, 8, 9]"
      ]
     },
     "execution_count": 10,
     "metadata": {},
     "output_type": "execute_result"
    }
   ],
   "source": [
    "l"
   ]
  },
  {
   "cell_type": "code",
   "execution_count": 11,
   "id": "c9ef6592",
   "metadata": {},
   "outputs": [],
   "source": [
    "# See it shows seperate memory location for copy. Also changes in copy is not reflected in original"
   ]
  },
  {
   "cell_type": "code",
   "execution_count": 12,
   "id": "44b12e2e",
   "metadata": {},
   "outputs": [],
   "source": [
    "l[1] = 1000"
   ]
  },
  {
   "cell_type": "code",
   "execution_count": 13,
   "id": "f72d4526",
   "metadata": {},
   "outputs": [
    {
     "data": {
      "text/plain": [
       "[0, 1000, 2, 3, 4, 5, 6, 7, 8, 9]"
      ]
     },
     "execution_count": 13,
     "metadata": {},
     "output_type": "execute_result"
    }
   ],
   "source": [
    "l"
   ]
  },
  {
   "cell_type": "code",
   "execution_count": 14,
   "id": "bb054a92",
   "metadata": {},
   "outputs": [
    {
     "data": {
      "text/plain": [
       "array([100,   1,   2,   3,   4,   5,   6,   7,   8,   9])"
      ]
     },
     "execution_count": 14,
     "metadata": {},
     "output_type": "execute_result"
    }
   ],
   "source": [
    "x"
   ]
  },
  {
   "cell_type": "code",
   "execution_count": 15,
   "id": "55a5ed6c",
   "metadata": {},
   "outputs": [],
   "source": [
    "# Also the changes made in original is not reflected in copy"
   ]
  },
  {
   "cell_type": "code",
   "execution_count": 16,
   "id": "ce8bc05f",
   "metadata": {},
   "outputs": [],
   "source": [
    "# In other words, it can be said that the copy is physically stored at another location and view has the same memory location as the original array."
   ]
  },
  {
   "cell_type": "code",
   "execution_count": 17,
   "id": "df139834",
   "metadata": {},
   "outputs": [],
   "source": [
    "# This is also known as Deep Copy. The copy is completely a new array and copy owns the data. When we make changes to the copy it does not affect the original array, and when changes are made to the original array it does not affect the copy."
   ]
  },
  {
   "cell_type": "markdown",
   "id": "4f3c230c",
   "metadata": {},
   "source": [
    "# Assinging"
   ]
  },
  {
   "cell_type": "code",
   "execution_count": 18,
   "id": "702a906b",
   "metadata": {},
   "outputs": [],
   "source": [
    "a=np.array([2,4,5,6])"
   ]
  },
  {
   "cell_type": "code",
   "execution_count": 19,
   "id": "159d1241",
   "metadata": {},
   "outputs": [
    {
     "data": {
      "text/plain": [
       "array([2, 4, 5, 6])"
      ]
     },
     "execution_count": 19,
     "metadata": {},
     "output_type": "execute_result"
    }
   ],
   "source": [
    "a"
   ]
  },
  {
   "cell_type": "code",
   "execution_count": 20,
   "id": "14feec39",
   "metadata": {},
   "outputs": [],
   "source": [
    "b = a"
   ]
  },
  {
   "cell_type": "code",
   "execution_count": 21,
   "id": "fa19bb38",
   "metadata": {},
   "outputs": [
    {
     "data": {
      "text/plain": [
       "array([2, 4, 5, 6])"
      ]
     },
     "execution_count": 21,
     "metadata": {},
     "output_type": "execute_result"
    }
   ],
   "source": [
    "b"
   ]
  },
  {
   "cell_type": "code",
   "execution_count": 22,
   "id": "25f4bf0d",
   "metadata": {},
   "outputs": [
    {
     "data": {
      "text/plain": [
       "140421813478480"
      ]
     },
     "execution_count": 22,
     "metadata": {},
     "output_type": "execute_result"
    }
   ],
   "source": [
    "id(a)"
   ]
  },
  {
   "cell_type": "code",
   "execution_count": 23,
   "id": "4f747d8d",
   "metadata": {},
   "outputs": [
    {
     "data": {
      "text/plain": [
       "140421813478480"
      ]
     },
     "execution_count": 23,
     "metadata": {},
     "output_type": "execute_result"
    }
   ],
   "source": [
    "id(b)"
   ]
  },
  {
   "cell_type": "code",
   "execution_count": 24,
   "id": "ee2dd574",
   "metadata": {},
   "outputs": [],
   "source": [
    "b.base # return nothing. So it doesn't hold the data"
   ]
  },
  {
   "cell_type": "code",
   "execution_count": 25,
   "id": "e689e6e5",
   "metadata": {},
   "outputs": [],
   "source": [
    "a.base # return nothing. So it doesn't hold the data"
   ]
  },
  {
   "cell_type": "code",
   "execution_count": 26,
   "id": "6276eb26",
   "metadata": {},
   "outputs": [],
   "source": [
    "# See for just assigning we will get same memory location. But in copy, it stores in seperate memory"
   ]
  },
  {
   "cell_type": "code",
   "execution_count": 27,
   "id": "0037d76c",
   "metadata": {},
   "outputs": [],
   "source": [
    "b[0] = 100"
   ]
  },
  {
   "cell_type": "code",
   "execution_count": 28,
   "id": "cafdb672",
   "metadata": {},
   "outputs": [
    {
     "data": {
      "text/plain": [
       "array([100,   4,   5,   6])"
      ]
     },
     "execution_count": 28,
     "metadata": {},
     "output_type": "execute_result"
    }
   ],
   "source": [
    "b"
   ]
  },
  {
   "cell_type": "code",
   "execution_count": 29,
   "id": "e34d6bb9",
   "metadata": {},
   "outputs": [
    {
     "data": {
      "text/plain": [
       "array([100,   4,   5,   6])"
      ]
     },
     "execution_count": 29,
     "metadata": {},
     "output_type": "execute_result"
    }
   ],
   "source": [
    "a"
   ]
  },
  {
   "cell_type": "code",
   "execution_count": 30,
   "id": "50f25da6",
   "metadata": {},
   "outputs": [],
   "source": [
    "# See here, changes in b reflects in a also"
   ]
  },
  {
   "cell_type": "code",
   "execution_count": 31,
   "id": "a580bc79",
   "metadata": {},
   "outputs": [],
   "source": [
    "a[1] = 1000"
   ]
  },
  {
   "cell_type": "code",
   "execution_count": 32,
   "id": "b230b2fc",
   "metadata": {},
   "outputs": [
    {
     "data": {
      "text/plain": [
       "array([ 100, 1000,    5,    6])"
      ]
     },
     "execution_count": 32,
     "metadata": {},
     "output_type": "execute_result"
    }
   ],
   "source": [
    "a"
   ]
  },
  {
   "cell_type": "code",
   "execution_count": 33,
   "id": "4e298c38",
   "metadata": {},
   "outputs": [
    {
     "data": {
      "text/plain": [
       "array([ 100, 1000,    5,    6])"
      ]
     },
     "execution_count": 33,
     "metadata": {},
     "output_type": "execute_result"
    }
   ],
   "source": [
    "b"
   ]
  },
  {
   "cell_type": "code",
   "execution_count": 34,
   "id": "85cf52c6",
   "metadata": {},
   "outputs": [],
   "source": [
    "# See here, changes in a reflects in b also"
   ]
  },
  {
   "cell_type": "code",
   "execution_count": 35,
   "id": "e1d0d48e",
   "metadata": {},
   "outputs": [],
   "source": [
    "# this is called as shallow copy"
   ]
  },
  {
   "cell_type": "markdown",
   "id": "1464bfdb",
   "metadata": {},
   "source": [
    "# View"
   ]
  },
  {
   "cell_type": "code",
   "execution_count": 36,
   "id": "24c3db0b",
   "metadata": {},
   "outputs": [],
   "source": [
    "# The view is just a view of the original array and view does not own the data. When we make changes to the view it affects the original array, and when changes are made to the original array it affects the view."
   ]
  },
  {
   "cell_type": "code",
   "execution_count": 37,
   "id": "b6ca580e",
   "metadata": {},
   "outputs": [],
   "source": [
    "i = np.array([1,2,3,5,6])"
   ]
  },
  {
   "cell_type": "code",
   "execution_count": 38,
   "id": "7208f3a3",
   "metadata": {},
   "outputs": [],
   "source": [
    "j = i.view()"
   ]
  },
  {
   "cell_type": "code",
   "execution_count": 39,
   "id": "f6aa26cc",
   "metadata": {},
   "outputs": [
    {
     "data": {
      "text/plain": [
       "array([1, 2, 3, 5, 6])"
      ]
     },
     "execution_count": 39,
     "metadata": {},
     "output_type": "execute_result"
    }
   ],
   "source": [
    "j"
   ]
  },
  {
   "cell_type": "code",
   "execution_count": 40,
   "id": "35b68cbf",
   "metadata": {},
   "outputs": [
    {
     "data": {
      "text/plain": [
       "140421813478288"
      ]
     },
     "execution_count": 40,
     "metadata": {},
     "output_type": "execute_result"
    }
   ],
   "source": [
    "id(i)"
   ]
  },
  {
   "cell_type": "code",
   "execution_count": 41,
   "id": "16844bee",
   "metadata": {},
   "outputs": [
    {
     "data": {
      "text/plain": [
       "140421813480304"
      ]
     },
     "execution_count": 41,
     "metadata": {},
     "output_type": "execute_result"
    }
   ],
   "source": [
    "id(j)"
   ]
  },
  {
   "cell_type": "code",
   "execution_count": 42,
   "id": "99843039",
   "metadata": {},
   "outputs": [],
   "source": [
    "j[0] = 100"
   ]
  },
  {
   "cell_type": "code",
   "execution_count": 43,
   "id": "2ed8498c",
   "metadata": {},
   "outputs": [
    {
     "data": {
      "text/plain": [
       "array([100,   2,   3,   5,   6])"
      ]
     },
     "execution_count": 43,
     "metadata": {},
     "output_type": "execute_result"
    }
   ],
   "source": [
    "j"
   ]
  },
  {
   "cell_type": "code",
   "execution_count": 44,
   "id": "3d8bdb2c",
   "metadata": {},
   "outputs": [
    {
     "data": {
      "text/plain": [
       "array([100,   2,   3,   5,   6])"
      ]
     },
     "execution_count": 44,
     "metadata": {},
     "output_type": "execute_result"
    }
   ],
   "source": [
    "i"
   ]
  },
  {
   "cell_type": "code",
   "execution_count": 45,
   "id": "d892d13c",
   "metadata": {},
   "outputs": [],
   "source": [
    "# See here, changes made in j reflect in i also"
   ]
  },
  {
   "cell_type": "code",
   "execution_count": 46,
   "id": "0aea194f",
   "metadata": {},
   "outputs": [],
   "source": [
    "i[1] = 100"
   ]
  },
  {
   "cell_type": "code",
   "execution_count": 47,
   "id": "46b78315",
   "metadata": {},
   "outputs": [
    {
     "data": {
      "text/plain": [
       "array([100, 100,   3,   5,   6])"
      ]
     },
     "execution_count": 47,
     "metadata": {},
     "output_type": "execute_result"
    }
   ],
   "source": [
    "i"
   ]
  },
  {
   "cell_type": "code",
   "execution_count": 48,
   "id": "b773af58",
   "metadata": {},
   "outputs": [
    {
     "data": {
      "text/plain": [
       "array([100, 100,   3,   5,   6])"
      ]
     },
     "execution_count": 48,
     "metadata": {},
     "output_type": "execute_result"
    }
   ],
   "source": [
    "j"
   ]
  },
  {
   "cell_type": "code",
   "execution_count": 49,
   "id": "c37cac6a",
   "metadata": {},
   "outputs": [],
   "source": [
    "# see here, changes made in i reflect in j also"
   ]
  },
  {
   "cell_type": "code",
   "execution_count": 50,
   "id": "16b01ed9",
   "metadata": {},
   "outputs": [],
   "source": [
    "# NumPy array has the attribute base that returns None if the array owns the data. Else, the base attribute refers to the original object."
   ]
  },
  {
   "cell_type": "code",
   "execution_count": 51,
   "id": "849f76ad",
   "metadata": {},
   "outputs": [
    {
     "data": {
      "text/plain": [
       "array([100, 100,   3,   5,   6])"
      ]
     },
     "execution_count": 51,
     "metadata": {},
     "output_type": "execute_result"
    }
   ],
   "source": [
    "j.base # return the data. So it hold the data"
   ]
  },
  {
   "cell_type": "code",
   "execution_count": 52,
   "id": "6d214dcd",
   "metadata": {},
   "outputs": [],
   "source": [
    "i.base # return nothing. So it doesn't hold the data"
   ]
  }
 ],
 "metadata": {
  "kernelspec": {
   "display_name": "Python 3 (ipykernel)",
   "language": "python",
   "name": "python3"
  },
  "language_info": {
   "codemirror_mode": {
    "name": "ipython",
    "version": 3
   },
   "file_extension": ".py",
   "mimetype": "text/x-python",
   "name": "python",
   "nbconvert_exporter": "python",
   "pygments_lexer": "ipython3",
   "version": "3.9.7"
  }
 },
 "nbformat": 4,
 "nbformat_minor": 5
}
