{
 "cells": [
  {
   "cell_type": "markdown",
   "id": "a16214b4",
   "metadata": {},
   "source": [
    "# Numpy"
   ]
  },
  {
   "cell_type": "code",
   "execution_count": 1,
   "id": "1b2a7bfe",
   "metadata": {},
   "outputs": [],
   "source": [
    "import numpy as np"
   ]
  },
  {
   "cell_type": "code",
   "execution_count": 2,
   "id": "572d24c8",
   "metadata": {},
   "outputs": [],
   "source": [
    "x = np.empty?"
   ]
  },
  {
   "cell_type": "raw",
   "id": "db1b4a8a",
   "metadata": {},
   "source": [
    "Docstring:\n",
    "empty(shape, dtype=float, order='C', *, like=None)\n",
    "\n",
    "Return a new array of given shape and type, without initializing entries.\n",
    "\n",
    "Parameters\n",
    "----------\n",
    "shape : int or tuple of int\n",
    "    Shape of the empty array, e.g., ``(2, 3)`` or ``2``.\n",
    "dtype : data-type, optional\n",
    "    Desired output data-type for the array, e.g, `numpy.int8`. Default is\n",
    "    `numpy.float64`.\n",
    "order : {'C', 'F'}, optional, default: 'C'\n",
    "    Whether to store multi-dimensional data in row-major\n",
    "    (C-style) or column-major (Fortran-style) order in\n",
    "    memory.\n",
    "like : array_like\n",
    "    Reference object to allow the creation of arrays which are not\n",
    "    NumPy arrays. If an array-like passed in as ``like`` supports\n",
    "    the ``__array_function__`` protocol, the result will be defined\n",
    "    by it. In this case, it ensures the creation of an array object\n",
    "    compatible with that passed in via this argument.\n",
    "\n",
    "    .. note::\n",
    "        The ``like`` keyword is an experimental feature pending on\n",
    "        acceptance of :ref:`NEP 35 <NEP35>`.\n",
    "\n",
    "    .. versionadded:: 1.20.0\n",
    "\n",
    "Returns\n",
    "-------\n",
    "out : ndarray\n",
    "    Array of uninitialized (arbitrary) data of the given shape, dtype, and\n",
    "    order.  Object arrays will be initialized to None.\n",
    "\n",
    "See Also\n",
    "--------\n",
    "empty_like : Return an empty array with shape and type of input.\n",
    "ones : Return a new array setting values to one.\n",
    "zeros : Return a new array setting values to zero.\n",
    "full : Return a new array of given shape filled with value.\n",
    "\n",
    "\n",
    "Notes\n",
    "-----\n",
    "`empty`, unlike `zeros`, does not set the array values to zero,\n",
    "and may therefore be marginally faster.  On the other hand, it requires\n",
    "the user to manually set all the values in the array, and should be\n",
    "used with caution.\n",
    "\n",
    "Examples\n",
    "--------\n",
    ">>> np.empty([2, 2])\n",
    "array([[ -9.74499359e+001,   6.69583040e-309],\n",
    "       [  2.13182611e-314,   3.06959433e-309]])         #uninitialized\n",
    "\n",
    ">>> np.empty([2, 2], dtype=int)\n",
    "array([[-1073741821, -1067949133],\n",
    "       [  496041986,    19249760]])                     #uninitialized\n",
    "Type:      builtin_function_or_method"
   ]
  },
  {
   "cell_type": "raw",
   "id": "7299d39e",
   "metadata": {},
   "source": [
    "# order : {'C', 'F'}, optional, default: 'C'\n",
    "    Whether to store multi-dimensional data in row-major\n",
    "    (C-style) or column-major (Fortran-style) order in\n",
    "    memory."
   ]
  },
  {
   "cell_type": "code",
   "execution_count": 4,
   "id": "aec5b61d",
   "metadata": {},
   "outputs": [],
   "source": [
    "x = np.empty((3,3)) # tuple"
   ]
  },
  {
   "cell_type": "code",
   "execution_count": 5,
   "id": "d2535555",
   "metadata": {},
   "outputs": [
    {
     "data": {
      "text/plain": [
       "array([[ 3.45126646e-31, -6.90253292e-31,  1.72563323e-31],\n",
       "       [-6.90253292e-31,  1.50130091e-30, -4.65920972e-31],\n",
       "       [ 1.72563323e-31, -4.65920972e-31,  2.67473151e-31]])"
      ]
     },
     "execution_count": 5,
     "metadata": {},
     "output_type": "execute_result"
    }
   ],
   "source": [
    "x"
   ]
  },
  {
   "cell_type": "code",
   "execution_count": 6,
   "id": "489253e6",
   "metadata": {},
   "outputs": [],
   "source": [
    "x = np.empty([3,3]) # list"
   ]
  },
  {
   "cell_type": "code",
   "execution_count": 7,
   "id": "0a359430",
   "metadata": {},
   "outputs": [
    {
     "data": {
      "text/plain": [
       "array([[3.45126646e-31, 6.90253292e-31, 1.72563323e-31],\n",
       "       [6.90253292e-31, 1.50130091e-30, 4.65920972e-31],\n",
       "       [1.72563323e-31, 4.65920972e-31, 2.67473151e-31]])"
      ]
     },
     "execution_count": 7,
     "metadata": {},
     "output_type": "execute_result"
    }
   ],
   "source": [
    "x"
   ]
  },
  {
   "cell_type": "code",
   "execution_count": 8,
   "id": "cc14c557",
   "metadata": {},
   "outputs": [],
   "source": [
    "# To get without float"
   ]
  },
  {
   "cell_type": "code",
   "execution_count": 9,
   "id": "4f09d036",
   "metadata": {},
   "outputs": [],
   "source": [
    "x = np.empty((3,3), dtype = np.int8)"
   ]
  },
  {
   "cell_type": "code",
   "execution_count": 10,
   "id": "5cb225e4",
   "metadata": {},
   "outputs": [
    {
     "data": {
      "text/plain": [
       "array([[1, 1, 1],\n",
       "       [1, 1, 1],\n",
       "       [1, 1, 1]], dtype=int8)"
      ]
     },
     "execution_count": 10,
     "metadata": {},
     "output_type": "execute_result"
    }
   ],
   "source": [
    "x"
   ]
  },
  {
   "cell_type": "code",
   "execution_count": 11,
   "id": "832c9770",
   "metadata": {},
   "outputs": [],
   "source": [
    "x=np.random.randint(12,size=(5,5))"
   ]
  },
  {
   "cell_type": "code",
   "execution_count": 12,
   "id": "13ebc1f2",
   "metadata": {},
   "outputs": [
    {
     "data": {
      "text/plain": [
       "array([[ 4,  8,  6,  1,  9],\n",
       "       [ 9, 11, 11,  4,  0],\n",
       "       [ 4,  1,  3,  0,  4],\n",
       "       [ 8,  4, 10,  9,  8],\n",
       "       [ 6,  0, 11, 10,  7]])"
      ]
     },
     "execution_count": 12,
     "metadata": {},
     "output_type": "execute_result"
    }
   ],
   "source": [
    "x"
   ]
  },
  {
   "cell_type": "code",
   "execution_count": 13,
   "id": "6bac6e13",
   "metadata": {},
   "outputs": [
    {
     "data": {
      "text/plain": [
       "array([4, 8, 6, 1, 9])"
      ]
     },
     "execution_count": 13,
     "metadata": {},
     "output_type": "execute_result"
    }
   ],
   "source": [
    "x[0]"
   ]
  },
  {
   "cell_type": "code",
   "execution_count": 14,
   "id": "37eec937",
   "metadata": {},
   "outputs": [
    {
     "data": {
      "text/plain": [
       "array([ 9, 11, 11,  4,  0])"
      ]
     },
     "execution_count": 14,
     "metadata": {},
     "output_type": "execute_result"
    }
   ],
   "source": [
    "x[1]"
   ]
  },
  {
   "cell_type": "code",
   "execution_count": 15,
   "id": "467fd762",
   "metadata": {},
   "outputs": [
    {
     "data": {
      "text/plain": [
       "4"
      ]
     },
     "execution_count": 15,
     "metadata": {},
     "output_type": "execute_result"
    }
   ],
   "source": [
    "x[0][0]"
   ]
  },
  {
   "cell_type": "code",
   "execution_count": 16,
   "id": "862198f5",
   "metadata": {},
   "outputs": [
    {
     "data": {
      "text/plain": [
       "8"
      ]
     },
     "execution_count": 16,
     "metadata": {},
     "output_type": "execute_result"
    }
   ],
   "source": [
    "x[0][1]"
   ]
  },
  {
   "cell_type": "code",
   "execution_count": 17,
   "id": "dd5ead04",
   "metadata": {},
   "outputs": [
    {
     "data": {
      "text/plain": [
       "array([[ 4,  8,  6,  1,  9],\n",
       "       [ 9, 11, 11,  4,  0],\n",
       "       [ 4,  1,  3,  0,  4]])"
      ]
     },
     "execution_count": 17,
     "metadata": {},
     "output_type": "execute_result"
    }
   ],
   "source": [
    "x[0:3] # 0 1 2"
   ]
  },
  {
   "cell_type": "code",
   "execution_count": 18,
   "id": "f0c4d314",
   "metadata": {},
   "outputs": [
    {
     "data": {
      "text/plain": [
       "array([[ 4,  8,  6,  1,  9],\n",
       "       [ 9, 11, 11,  4,  0],\n",
       "       [ 4,  1,  3,  0,  4],\n",
       "       [ 8,  4, 10,  9,  8],\n",
       "       [ 6,  0, 11, 10,  7]])"
      ]
     },
     "execution_count": 18,
     "metadata": {},
     "output_type": "execute_result"
    }
   ],
   "source": [
    "x[:]"
   ]
  },
  {
   "cell_type": "code",
   "execution_count": 20,
   "id": "fbdcfe46",
   "metadata": {},
   "outputs": [
    {
     "data": {
      "text/plain": [
       "array([[ 4,  1,  3,  0,  4],\n",
       "       [ 8,  4, 10,  9,  8],\n",
       "       [ 6,  0, 11, 10,  7]])"
      ]
     },
     "execution_count": 20,
     "metadata": {},
     "output_type": "execute_result"
    }
   ],
   "source": [
    "x[2:] # 2 3 4"
   ]
  },
  {
   "cell_type": "code",
   "execution_count": 21,
   "id": "3e452c1b",
   "metadata": {},
   "outputs": [],
   "source": [
    "# To get 0,9,10"
   ]
  },
  {
   "cell_type": "code",
   "execution_count": 22,
   "id": "ead9757f",
   "metadata": {},
   "outputs": [
    {
     "data": {
      "text/plain": [
       "array([ 0,  9, 10])"
      ]
     },
     "execution_count": 22,
     "metadata": {},
     "output_type": "execute_result"
    }
   ],
   "source": [
    "x[2:,3]"
   ]
  },
  {
   "cell_type": "markdown",
   "id": "968a4cab",
   "metadata": {},
   "source": [
    "# Always before comma is row and after comma is column"
   ]
  },
  {
   "cell_type": "code",
   "execution_count": 23,
   "id": "073e24c3",
   "metadata": {},
   "outputs": [
    {
     "data": {
      "text/plain": [
       "array([[ 3,  0,  4],\n",
       "       [10,  9,  8],\n",
       "       [11, 10,  7]])"
      ]
     },
     "execution_count": 23,
     "metadata": {},
     "output_type": "execute_result"
    }
   ],
   "source": [
    "x[2:,2:]"
   ]
  },
  {
   "cell_type": "code",
   "execution_count": 24,
   "id": "4dd5a9b1",
   "metadata": {},
   "outputs": [
    {
     "data": {
      "text/plain": [
       "array([[ 4,  8,  6,  1,  9],\n",
       "       [ 9, 11, 11,  4,  0],\n",
       "       [ 4,  1,  3,  0,  4],\n",
       "       [ 8,  4, 10,  9,  8],\n",
       "       [ 6,  0, 11, 10,  7]])"
      ]
     },
     "execution_count": 24,
     "metadata": {},
     "output_type": "execute_result"
    }
   ],
   "source": [
    "x"
   ]
  },
  {
   "cell_type": "code",
   "execution_count": 25,
   "id": "df630615",
   "metadata": {},
   "outputs": [],
   "source": [
    "# Indexing"
   ]
  },
  {
   "cell_type": "code",
   "execution_count": 26,
   "id": "779ae3b9",
   "metadata": {},
   "outputs": [
    {
     "data": {
      "text/plain": [
       "array([4, 8, 6, 1, 9])"
      ]
     },
     "execution_count": 26,
     "metadata": {},
     "output_type": "execute_result"
    }
   ],
   "source": [
    "x[0]"
   ]
  },
  {
   "cell_type": "code",
   "execution_count": 27,
   "id": "d5e76781",
   "metadata": {},
   "outputs": [
    {
     "data": {
      "text/plain": [
       "array([ 9, 11, 11,  4,  0])"
      ]
     },
     "execution_count": 27,
     "metadata": {},
     "output_type": "execute_result"
    }
   ],
   "source": [
    "x[1]"
   ]
  },
  {
   "cell_type": "code",
   "execution_count": 28,
   "id": "bfe3fd05",
   "metadata": {},
   "outputs": [],
   "source": [
    "# To access 0 to 4"
   ]
  },
  {
   "cell_type": "code",
   "execution_count": 29,
   "id": "de736841",
   "metadata": {},
   "outputs": [
    {
     "data": {
      "text/plain": [
       "array([[ 4,  8,  6,  1,  9],\n",
       "       [ 9, 11, 11,  4,  0],\n",
       "       [ 4,  1,  3,  0,  4],\n",
       "       [ 8,  4, 10,  9,  8]])"
      ]
     },
     "execution_count": 29,
     "metadata": {},
     "output_type": "execute_result"
    }
   ],
   "source": [
    "x[0:4] # 0 1 2 3"
   ]
  },
  {
   "cell_type": "code",
   "execution_count": 30,
   "id": "9f92940d",
   "metadata": {},
   "outputs": [
    {
     "data": {
      "text/plain": [
       "array([[ 4,  8,  6],\n",
       "       [ 9, 11, 11],\n",
       "       [ 4,  1,  3],\n",
       "       [ 8,  4, 10]])"
      ]
     },
     "execution_count": 30,
     "metadata": {},
     "output_type": "execute_result"
    }
   ],
   "source": [
    "x[0:4,0:3]"
   ]
  },
  {
   "cell_type": "code",
   "execution_count": 31,
   "id": "1b2c1bad",
   "metadata": {},
   "outputs": [
    {
     "data": {
      "text/plain": [
       "array([[ 4,  8,  6],\n",
       "       [ 9, 11, 11],\n",
       "       [ 4,  1,  3],\n",
       "       [ 8,  4, 10],\n",
       "       [ 6,  0, 11]])"
      ]
     },
     "execution_count": 31,
     "metadata": {},
     "output_type": "execute_result"
    }
   ],
   "source": [
    "x[:,0:3]"
   ]
  },
  {
   "cell_type": "code",
   "execution_count": 32,
   "id": "08b9e12b",
   "metadata": {},
   "outputs": [
    {
     "data": {
      "text/plain": [
       "array([[ 4,  8,  6,  1,  9],\n",
       "       [ 9, 11, 11,  4,  0],\n",
       "       [ 4,  1,  3,  0,  4],\n",
       "       [ 8,  4, 10,  9,  8],\n",
       "       [ 6,  0, 11, 10,  7]])"
      ]
     },
     "execution_count": 32,
     "metadata": {},
     "output_type": "execute_result"
    }
   ],
   "source": [
    "x"
   ]
  },
  {
   "cell_type": "code",
   "execution_count": 33,
   "id": "2099b444",
   "metadata": {},
   "outputs": [
    {
     "data": {
      "text/plain": [
       "array([[ 4,  8,  6],\n",
       "       [ 9, 11, 11],\n",
       "       [ 4,  1,  3]])"
      ]
     },
     "execution_count": 33,
     "metadata": {},
     "output_type": "execute_result"
    }
   ],
   "source": [
    "x[0:3,0:3]"
   ]
  },
  {
   "cell_type": "markdown",
   "id": "93353e64",
   "metadata": {},
   "source": [
    "# array[rowindexing,columnindexing]"
   ]
  },
  {
   "cell_type": "code",
   "execution_count": 34,
   "id": "e82ab7e2",
   "metadata": {},
   "outputs": [
    {
     "data": {
      "text/plain": [
       "array([[10,  9],\n",
       "       [11, 10]])"
      ]
     },
     "execution_count": 34,
     "metadata": {},
     "output_type": "execute_result"
    }
   ],
   "source": [
    "x[3:,2:4]"
   ]
  },
  {
   "cell_type": "code",
   "execution_count": 50,
   "id": "0c0d8b99",
   "metadata": {},
   "outputs": [],
   "source": [
    "a = np.arange(10)"
   ]
  },
  {
   "cell_type": "code",
   "execution_count": 51,
   "id": "cbcdffdd",
   "metadata": {},
   "outputs": [
    {
     "data": {
      "text/plain": [
       "array([0, 1, 2, 3, 4, 5, 6, 7, 8, 9])"
      ]
     },
     "execution_count": 51,
     "metadata": {},
     "output_type": "execute_result"
    }
   ],
   "source": [
    "a"
   ]
  },
  {
   "cell_type": "code",
   "execution_count": 52,
   "id": "e2d9fa23",
   "metadata": {},
   "outputs": [],
   "source": [
    "slice?"
   ]
  },
  {
   "cell_type": "raw",
   "id": "1d494de8",
   "metadata": {},
   "source": [
    "Init signature: slice(self, /, *args, **kwargs)\n",
    "Docstring:     \n",
    "slice(stop)\n",
    "slice(start, stop[, step])\n",
    "\n",
    "Create a slice object.  This is used for extended slicing (e.g. a[0:10:2]).\n",
    "Type:           type\n",
    "Subclasses:     "
   ]
  },
  {
   "cell_type": "code",
   "execution_count": 53,
   "id": "d2556d24",
   "metadata": {},
   "outputs": [],
   "source": [
    "s = slice(10) # 0 to 9"
   ]
  },
  {
   "cell_type": "code",
   "execution_count": 54,
   "id": "b3decd6d",
   "metadata": {},
   "outputs": [
    {
     "data": {
      "text/plain": [
       "array([0, 1, 2, 3, 4, 5, 6, 7, 8, 9])"
      ]
     },
     "execution_count": 54,
     "metadata": {},
     "output_type": "execute_result"
    }
   ],
   "source": [
    "a[s]"
   ]
  },
  {
   "cell_type": "code",
   "execution_count": 55,
   "id": "7089dfbd",
   "metadata": {},
   "outputs": [],
   "source": [
    "s = slice(3) # 0 1 2"
   ]
  },
  {
   "cell_type": "code",
   "execution_count": 56,
   "id": "a0cc3b68",
   "metadata": {},
   "outputs": [
    {
     "data": {
      "text/plain": [
       "array([0, 1, 2])"
      ]
     },
     "execution_count": 56,
     "metadata": {},
     "output_type": "execute_result"
    }
   ],
   "source": [
    "a[s]"
   ]
  },
  {
   "cell_type": "code",
   "execution_count": 59,
   "id": "c47eff59",
   "metadata": {},
   "outputs": [],
   "source": [
    "a = np.arange(20)"
   ]
  },
  {
   "cell_type": "code",
   "execution_count": 60,
   "id": "8a61b355",
   "metadata": {},
   "outputs": [
    {
     "data": {
      "text/plain": [
       "array([ 0,  1,  2,  3,  4,  5,  6,  7,  8,  9, 10, 11, 12, 13, 14, 15, 16,\n",
       "       17, 18, 19])"
      ]
     },
     "execution_count": 60,
     "metadata": {},
     "output_type": "execute_result"
    }
   ],
   "source": [
    "a"
   ]
  },
  {
   "cell_type": "code",
   "execution_count": 61,
   "id": "d64a47a5",
   "metadata": {},
   "outputs": [],
   "source": [
    "s = slice(10,15) # start, stop, step"
   ]
  },
  {
   "cell_type": "code",
   "execution_count": 63,
   "id": "3f0f4abd",
   "metadata": {},
   "outputs": [
    {
     "data": {
      "text/plain": [
       "slice(10, 15, None)"
      ]
     },
     "execution_count": 63,
     "metadata": {},
     "output_type": "execute_result"
    }
   ],
   "source": [
    "s"
   ]
  },
  {
   "cell_type": "code",
   "execution_count": 64,
   "id": "0884a0ff",
   "metadata": {},
   "outputs": [
    {
     "data": {
      "text/plain": [
       "array([ 0,  1,  2,  3,  4,  5,  6,  7,  8,  9, 10, 11, 12, 13, 14, 15, 16,\n",
       "       17, 18, 19])"
      ]
     },
     "execution_count": 64,
     "metadata": {},
     "output_type": "execute_result"
    }
   ],
   "source": [
    "a"
   ]
  },
  {
   "cell_type": "code",
   "execution_count": 65,
   "id": "b117c281",
   "metadata": {},
   "outputs": [
    {
     "data": {
      "text/plain": [
       "1"
      ]
     },
     "execution_count": 65,
     "metadata": {},
     "output_type": "execute_result"
    }
   ],
   "source": [
    "a.ndim"
   ]
  },
  {
   "cell_type": "code",
   "execution_count": 66,
   "id": "ddc4e793",
   "metadata": {},
   "outputs": [
    {
     "data": {
      "text/plain": [
       "(20,)"
      ]
     },
     "execution_count": 66,
     "metadata": {},
     "output_type": "execute_result"
    }
   ],
   "source": [
    "a.shape"
   ]
  },
  {
   "cell_type": "code",
   "execution_count": 67,
   "id": "ec700fed",
   "metadata": {},
   "outputs": [
    {
     "data": {
      "text/plain": [
       "array([10, 11, 12, 13, 14])"
      ]
     },
     "execution_count": 67,
     "metadata": {},
     "output_type": "execute_result"
    }
   ],
   "source": [
    "a[s]"
   ]
  },
  {
   "cell_type": "code",
   "execution_count": 68,
   "id": "1bf6466e",
   "metadata": {},
   "outputs": [],
   "source": [
    "s=slice(10,18,2)"
   ]
  },
  {
   "cell_type": "code",
   "execution_count": 69,
   "id": "a562aaee",
   "metadata": {},
   "outputs": [
    {
     "data": {
      "text/plain": [
       "array([10, 12, 14, 16])"
      ]
     },
     "execution_count": 69,
     "metadata": {},
     "output_type": "execute_result"
    }
   ],
   "source": [
    "a[s]"
   ]
  },
  {
   "cell_type": "code",
   "execution_count": 70,
   "id": "b3a25a51",
   "metadata": {},
   "outputs": [
    {
     "data": {
      "text/plain": [
       "array([ 0,  1,  2,  3,  4,  5,  6,  7,  8,  9, 10, 11, 12, 13, 14, 15, 16,\n",
       "       17, 18, 19])"
      ]
     },
     "execution_count": 70,
     "metadata": {},
     "output_type": "execute_result"
    }
   ],
   "source": [
    "a"
   ]
  },
  {
   "cell_type": "code",
   "execution_count": 71,
   "id": "e103cc8a",
   "metadata": {},
   "outputs": [
    {
     "data": {
      "text/plain": [
       "array([10, 12, 14, 16])"
      ]
     },
     "execution_count": 71,
     "metadata": {},
     "output_type": "execute_result"
    }
   ],
   "source": [
    "a[10:18:2]"
   ]
  },
  {
   "cell_type": "raw",
   "id": "7d6a7aca",
   "metadata": {},
   "source": [
    "# index if one parameter is given it will return single item correspond to the index will be retutn\n",
    "\n",
    "# if two parameter is given it will the return the range between two indexs (not including the stop index)\n"
   ]
  },
  {
   "cell_type": "code",
   "execution_count": 72,
   "id": "235d21f3",
   "metadata": {},
   "outputs": [
    {
     "data": {
      "text/plain": [
       "array([[ 4,  8,  6,  1,  9],\n",
       "       [ 9, 11, 11,  4,  0],\n",
       "       [ 4,  1,  3,  0,  4],\n",
       "       [ 8,  4, 10,  9,  8],\n",
       "       [ 6,  0, 11, 10,  7]])"
      ]
     },
     "execution_count": 72,
     "metadata": {},
     "output_type": "execute_result"
    }
   ],
   "source": [
    "x"
   ]
  },
  {
   "cell_type": "code",
   "execution_count": 73,
   "id": "7c967f81",
   "metadata": {},
   "outputs": [
    {
     "data": {
      "text/plain": [
       "array([[ 4,  8,  6,  1,  9],\n",
       "       [ 9, 11, 11,  4,  0],\n",
       "       [ 4,  1,  3,  0,  4],\n",
       "       [ 8,  4, 10,  9,  8],\n",
       "       [ 6,  0, 11, 10,  7]])"
      ]
     },
     "execution_count": 73,
     "metadata": {},
     "output_type": "execute_result"
    }
   ],
   "source": [
    "x[0:6,:]"
   ]
  },
  {
   "cell_type": "code",
   "execution_count": 74,
   "id": "36346999",
   "metadata": {},
   "outputs": [
    {
     "data": {
      "text/plain": [
       "array([[ 4,  8,  6,  1,  9],\n",
       "       [ 9, 11, 11,  4,  0],\n",
       "       [ 4,  1,  3,  0,  4],\n",
       "       [ 8,  4, 10,  9,  8],\n",
       "       [ 6,  0, 11, 10,  7]])"
      ]
     },
     "execution_count": 74,
     "metadata": {},
     "output_type": "execute_result"
    }
   ],
   "source": [
    "x[0:5,:]"
   ]
  },
  {
   "cell_type": "code",
   "execution_count": 76,
   "id": "6e6cf50d",
   "metadata": {},
   "outputs": [
    {
     "data": {
      "text/plain": [
       "array([[ 4,  8,  6,  1,  9],\n",
       "       [ 9, 11, 11,  4,  0],\n",
       "       [ 4,  1,  3,  0,  4],\n",
       "       [ 8,  4, 10,  9,  8],\n",
       "       [ 6,  0, 11, 10,  7]])"
      ]
     },
     "execution_count": 76,
     "metadata": {},
     "output_type": "execute_result"
    }
   ],
   "source": [
    "x[:]"
   ]
  },
  {
   "cell_type": "code",
   "execution_count": 77,
   "id": "0cfd7016",
   "metadata": {},
   "outputs": [
    {
     "data": {
      "text/plain": [
       "array([[ 4,  8,  6,  1,  9],\n",
       "       [ 9, 11, 11,  4,  0],\n",
       "       [ 4,  1,  3,  0,  4],\n",
       "       [ 8,  4, 10,  9,  8],\n",
       "       [ 6,  0, 11, 10,  7]])"
      ]
     },
     "execution_count": 77,
     "metadata": {},
     "output_type": "execute_result"
    }
   ],
   "source": [
    "x[:,:]"
   ]
  },
  {
   "cell_type": "code",
   "execution_count": 78,
   "id": "6bdc4c4b",
   "metadata": {},
   "outputs": [
    {
     "data": {
      "text/plain": [
       "array([[ 8,  4, 10,  9,  8],\n",
       "       [ 6,  0, 11, 10,  7]])"
      ]
     },
     "execution_count": 78,
     "metadata": {},
     "output_type": "execute_result"
    }
   ],
   "source": [
    "x[3:,:]"
   ]
  },
  {
   "cell_type": "code",
   "execution_count": 79,
   "id": "772f59de",
   "metadata": {},
   "outputs": [],
   "source": [
    "#x[row_starting:row_ending-1 , colum_start:colum_end-1]"
   ]
  },
  {
   "cell_type": "code",
   "execution_count": 80,
   "id": "2a3e554d",
   "metadata": {},
   "outputs": [
    {
     "data": {
      "text/plain": [
       "(5, 5)"
      ]
     },
     "execution_count": 80,
     "metadata": {},
     "output_type": "execute_result"
    }
   ],
   "source": [
    "x.shape"
   ]
  },
  {
   "cell_type": "code",
   "execution_count": 81,
   "id": "a48c8d44",
   "metadata": {},
   "outputs": [
    {
     "data": {
      "text/plain": [
       "array([[ 4,  1,  3,  0,  4],\n",
       "       [ 8,  4, 10,  9,  8],\n",
       "       [ 6,  0, 11, 10,  7]])"
      ]
     },
     "execution_count": 81,
     "metadata": {},
     "output_type": "execute_result"
    }
   ],
   "source": [
    "x[2:5]"
   ]
  },
  {
   "cell_type": "code",
   "execution_count": 82,
   "id": "64b89daf",
   "metadata": {},
   "outputs": [
    {
     "data": {
      "text/plain": [
       "array([[ 1,  3],\n",
       "       [ 4, 10],\n",
       "       [ 0, 11]])"
      ]
     },
     "execution_count": 82,
     "metadata": {},
     "output_type": "execute_result"
    }
   ],
   "source": [
    " x[2:5,1:3]"
   ]
  }
 ],
 "metadata": {
  "kernelspec": {
   "display_name": "Python 3 (ipykernel)",
   "language": "python",
   "name": "python3"
  },
  "language_info": {
   "codemirror_mode": {
    "name": "ipython",
    "version": 3
   },
   "file_extension": ".py",
   "mimetype": "text/x-python",
   "name": "python",
   "nbconvert_exporter": "python",
   "pygments_lexer": "ipython3",
   "version": "3.9.7"
  }
 },
 "nbformat": 4,
 "nbformat_minor": 5
}
