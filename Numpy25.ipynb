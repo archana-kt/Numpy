{
 "cells": [
  {
   "cell_type": "markdown",
   "id": "403a7c4c",
   "metadata": {},
   "source": [
    "# Numpy Filter"
   ]
  },
  {
   "cell_type": "raw",
   "id": "df24ff36",
   "metadata": {},
   "source": [
    "Getting some elements out of an existing array and creating a new array out of them is called filtering."
   ]
  },
  {
   "cell_type": "raw",
   "id": "a4eb8c04",
   "metadata": {},
   "source": [
    "If the value at an index is True that element is contained in the filtered array, if the value at that index is False that element is excluded from the filtered array."
   ]
  },
  {
   "cell_type": "code",
   "execution_count": 1,
   "id": "cd5ad325",
   "metadata": {},
   "outputs": [],
   "source": [
    "import numpy as np"
   ]
  },
  {
   "cell_type": "code",
   "execution_count": 2,
   "id": "7509f1c6",
   "metadata": {},
   "outputs": [],
   "source": [
    "x = np.array([1,2,3,4])"
   ]
  },
  {
   "cell_type": "code",
   "execution_count": 3,
   "id": "af1525b4",
   "metadata": {},
   "outputs": [],
   "source": [
    "arr = [True,False,False,True]"
   ]
  },
  {
   "cell_type": "code",
   "execution_count": 4,
   "id": "687c9a44",
   "metadata": {},
   "outputs": [],
   "source": [
    "new = x[arr]"
   ]
  },
  {
   "cell_type": "code",
   "execution_count": 5,
   "id": "08c58c4a",
   "metadata": {},
   "outputs": [
    {
     "data": {
      "text/plain": [
       "array([1, 4])"
      ]
     },
     "execution_count": 5,
     "metadata": {},
     "output_type": "execute_result"
    }
   ],
   "source": [
    "new # Create an array from the elements on index 0 and 3"
   ]
  },
  {
   "cell_type": "code",
   "execution_count": 6,
   "id": "6c7a4b3e",
   "metadata": {},
   "outputs": [],
   "source": [
    "# Bcoz 1 & 4 values only having true"
   ]
  }
 ],
 "metadata": {
  "kernelspec": {
   "display_name": "Python 3 (ipykernel)",
   "language": "python",
   "name": "python3"
  },
  "language_info": {
   "codemirror_mode": {
    "name": "ipython",
    "version": 3
   },
   "file_extension": ".py",
   "mimetype": "text/x-python",
   "name": "python",
   "nbconvert_exporter": "python",
   "pygments_lexer": "ipython3",
   "version": "3.11.4"
  }
 },
 "nbformat": 4,
 "nbformat_minor": 5
}
