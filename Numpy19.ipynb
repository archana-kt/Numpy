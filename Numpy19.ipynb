{
 "cells": [
  {
   "cell_type": "markdown",
   "id": "2d26c9ba",
   "metadata": {},
   "source": [
    "# Degree of Freedom"
   ]
  },
  {
   "cell_type": "code",
   "execution_count": 1,
   "id": "fd7d75e2",
   "metadata": {},
   "outputs": [],
   "source": [
    "import numpy as np"
   ]
  },
  {
   "cell_type": "code",
   "execution_count": 2,
   "id": "aba82619",
   "metadata": {},
   "outputs": [],
   "source": [
    "ar=np.array([1,2,3,4,5,6])"
   ]
  },
  {
   "cell_type": "code",
   "execution_count": 3,
   "id": "8b940245",
   "metadata": {},
   "outputs": [
    {
     "data": {
      "text/plain": [
       "array([1, 2, 3, 4, 5, 6])"
      ]
     },
     "execution_count": 3,
     "metadata": {},
     "output_type": "execute_result"
    }
   ],
   "source": [
    "ar"
   ]
  },
  {
   "cell_type": "code",
   "execution_count": 4,
   "id": "22d8161e",
   "metadata": {},
   "outputs": [
    {
     "data": {
      "text/plain": [
       "1.707825127659933"
      ]
     },
     "execution_count": 4,
     "metadata": {},
     "output_type": "execute_result"
    }
   ],
   "source": [
    " np.std(ar)"
   ]
  },
  {
   "cell_type": "code",
   "execution_count": 5,
   "id": "ba1d2786",
   "metadata": {},
   "outputs": [
    {
     "data": {
      "text/plain": [
       "2.9166666666666665"
      ]
     },
     "execution_count": 5,
     "metadata": {},
     "output_type": "execute_result"
    }
   ],
   "source": [
    "np.var(ar)"
   ]
  },
  {
   "cell_type": "code",
   "execution_count": 6,
   "id": "9ed89083",
   "metadata": {},
   "outputs": [
    {
     "data": {
      "text/plain": [
       "1.707825127659933"
      ]
     },
     "execution_count": 6,
     "metadata": {},
     "output_type": "execute_result"
    }
   ],
   "source": [
    "np.sqrt(np.var(ar))"
   ]
  },
  {
   "cell_type": "code",
   "execution_count": 7,
   "id": "d745bcec",
   "metadata": {},
   "outputs": [],
   "source": [
    " ar1=np.array([[1,2,3],[4,5,6]])"
   ]
  },
  {
   "cell_type": "code",
   "execution_count": 8,
   "id": "1d1b651c",
   "metadata": {},
   "outputs": [
    {
     "data": {
      "text/plain": [
       "array([[1, 2, 3],\n",
       "       [4, 5, 6]])"
      ]
     },
     "execution_count": 8,
     "metadata": {},
     "output_type": "execute_result"
    }
   ],
   "source": [
    "ar1"
   ]
  },
  {
   "cell_type": "code",
   "execution_count": 9,
   "id": "b430eeb3",
   "metadata": {},
   "outputs": [
    {
     "data": {
      "text/plain": [
       "2"
      ]
     },
     "execution_count": 9,
     "metadata": {},
     "output_type": "execute_result"
    }
   ],
   "source": [
    "ar1.ndim"
   ]
  },
  {
   "cell_type": "code",
   "execution_count": 10,
   "id": "06cba9c4",
   "metadata": {},
   "outputs": [
    {
     "data": {
      "text/plain": [
       "array([0.66666667, 0.66666667])"
      ]
     },
     "execution_count": 10,
     "metadata": {},
     "output_type": "execute_result"
    }
   ],
   "source": [
    "np.var(ar1,axis=1) # column-wise"
   ]
  },
  {
   "cell_type": "code",
   "execution_count": 11,
   "id": "bdd5ded7",
   "metadata": {},
   "outputs": [
    {
     "data": {
      "text/plain": [
       "array([2.25, 2.25, 2.25])"
      ]
     },
     "execution_count": 11,
     "metadata": {},
     "output_type": "execute_result"
    }
   ],
   "source": [
    "np.var(ar1,axis=0) # row-wise"
   ]
  },
  {
   "cell_type": "raw",
   "id": "379e06be",
   "metadata": {},
   "source": [
    "# There is something called import statistics in python. This will give the values for sample. But in numpy, it will give the values in population."
   ]
  },
  {
   "cell_type": "code",
   "execution_count": 13,
   "id": "36f3dd4d",
   "metadata": {},
   "outputs": [],
   "source": [
    "import statistics"
   ]
  },
  {
   "cell_type": "code",
   "execution_count": 16,
   "id": "b17f7e4a",
   "metadata": {},
   "outputs": [
    {
     "data": {
      "text/plain": [
       "array([1, 2, 3, 4, 5, 6])"
      ]
     },
     "execution_count": 16,
     "metadata": {},
     "output_type": "execute_result"
    }
   ],
   "source": [
    "ar"
   ]
  },
  {
   "cell_type": "code",
   "execution_count": 14,
   "id": "0dbb8093",
   "metadata": {},
   "outputs": [
    {
     "data": {
      "text/plain": [
       "3"
      ]
     },
     "execution_count": 14,
     "metadata": {},
     "output_type": "execute_result"
    }
   ],
   "source": [
    "statistics.variance(ar) # this is sample"
   ]
  },
  {
   "cell_type": "code",
   "execution_count": 18,
   "id": "2348fc63",
   "metadata": {},
   "outputs": [],
   "source": [
    "mean = sum(ar) / len(ar)"
   ]
  },
  {
   "cell_type": "code",
   "execution_count": 19,
   "id": "91c7e4ee",
   "metadata": {},
   "outputs": [
    {
     "data": {
      "text/plain": [
       "3.5"
      ]
     },
     "execution_count": 19,
     "metadata": {},
     "output_type": "execute_result"
    }
   ],
   "source": [
    "mean"
   ]
  },
  {
   "cell_type": "code",
   "execution_count": 20,
   "id": "c27afaa0",
   "metadata": {},
   "outputs": [],
   "source": [
    "ar1 = []"
   ]
  },
  {
   "cell_type": "code",
   "execution_count": 21,
   "id": "1e4794f6",
   "metadata": {},
   "outputs": [],
   "source": [
    "for i in ar:\n",
    "    ar1.append(i - mean)"
   ]
  },
  {
   "cell_type": "code",
   "execution_count": 22,
   "id": "1bf50d49",
   "metadata": {},
   "outputs": [
    {
     "data": {
      "text/plain": [
       "[-2.5, -1.5, -0.5, 0.5, 1.5, 2.5]"
      ]
     },
     "execution_count": 22,
     "metadata": {},
     "output_type": "execute_result"
    }
   ],
   "source": [
    "ar1"
   ]
  },
  {
   "cell_type": "code",
   "execution_count": 25,
   "id": "ea589afe",
   "metadata": {},
   "outputs": [],
   "source": [
    "square = 0"
   ]
  },
  {
   "cell_type": "code",
   "execution_count": 26,
   "id": "c8ba50d3",
   "metadata": {},
   "outputs": [],
   "source": [
    "for i in ar1:\n",
    "    square += i * i"
   ]
  },
  {
   "cell_type": "code",
   "execution_count": 27,
   "id": "c629826a",
   "metadata": {},
   "outputs": [
    {
     "data": {
      "text/plain": [
       "17.5"
      ]
     },
     "execution_count": 27,
     "metadata": {},
     "output_type": "execute_result"
    }
   ],
   "source": [
    "square"
   ]
  },
  {
   "cell_type": "code",
   "execution_count": 28,
   "id": "36ea70c9",
   "metadata": {},
   "outputs": [],
   "source": [
    "var = np.sum(square) / len(ar)"
   ]
  },
  {
   "cell_type": "code",
   "execution_count": 29,
   "id": "e48dd8ac",
   "metadata": {},
   "outputs": [
    {
     "data": {
      "text/plain": [
       "2.9166666666666665"
      ]
     },
     "execution_count": 29,
     "metadata": {},
     "output_type": "execute_result"
    }
   ],
   "source": [
    "var # this is population"
   ]
  },
  {
   "cell_type": "code",
   "execution_count": 15,
   "id": "93f3b121",
   "metadata": {},
   "outputs": [
    {
     "data": {
      "text/plain": [
       "2.9166666666666665"
      ]
     },
     "execution_count": 15,
     "metadata": {},
     "output_type": "execute_result"
    }
   ],
   "source": [
    "np.var(ar) # this is population"
   ]
  },
  {
   "cell_type": "code",
   "execution_count": null,
   "id": "a3abbdf6",
   "metadata": {},
   "outputs": [],
   "source": [
    "# For sample, we need to give N-1"
   ]
  },
  {
   "cell_type": "code",
   "execution_count": 30,
   "id": "47fbb7f3",
   "metadata": {},
   "outputs": [],
   "source": [
    "var = np.sum(square) / (len(ar) - 1)"
   ]
  },
  {
   "cell_type": "code",
   "execution_count": 31,
   "id": "bb27d967",
   "metadata": {},
   "outputs": [
    {
     "data": {
      "text/plain": [
       "3.5"
      ]
     },
     "execution_count": 31,
     "metadata": {},
     "output_type": "execute_result"
    }
   ],
   "source": [
    "var"
   ]
  },
  {
   "cell_type": "code",
   "execution_count": 37,
   "id": "6d03188a",
   "metadata": {},
   "outputs": [],
   "source": [
    "res = len(ar) - 1"
   ]
  },
  {
   "cell_type": "code",
   "execution_count": 39,
   "id": "3b1c77a3",
   "metadata": {},
   "outputs": [],
   "source": [
    "var = np.sum((ar - mean)**2)  / res"
   ]
  },
  {
   "cell_type": "code",
   "execution_count": 40,
   "id": "17bdf178",
   "metadata": {},
   "outputs": [
    {
     "data": {
      "text/plain": [
       "3.5"
      ]
     },
     "execution_count": 40,
     "metadata": {},
     "output_type": "execute_result"
    }
   ],
   "source": [
    "var"
   ]
  },
  {
   "cell_type": "code",
   "execution_count": 41,
   "id": "c2ae0be7",
   "metadata": {},
   "outputs": [
    {
     "data": {
      "text/plain": [
       "3"
      ]
     },
     "execution_count": 41,
     "metadata": {},
     "output_type": "execute_result"
    }
   ],
   "source": [
    "statistics.variance(ar)"
   ]
  },
  {
   "cell_type": "raw",
   "id": "6ae5ebf8",
   "metadata": {},
   "source": [
    "DoF are the number os independent variables that can be estimated in a statistical analysis and inform u how many items can be randomly selected"
   ]
  },
  {
   "attachments": {
    "image-2.png": {
     "image/png": "[encoded data removed]"
    },
    "image.png": {
     "image/png": "[encoded data removed]"
    }
   },
   "cell_type": "markdown",
   "id": "d2ffc660",
   "metadata": {},
   "source": [
    "**1. ** Given Information:\n",
    "\n",
    "We have a data sample consisting of five positive integers, and the average of these integers must be six.\n",
    "\n",
    "**2. ** Partial Data Provided:\n",
    "\n",
    "Four out of the five numbers are given: {3, 8, 5, 4}. The average of these four numbers can be calculated as follows:\n",
    "\n",
    "![image.png](attachment:image.png)\n",
    " ** Finding the Fifth Number:\n",
    "\n",
    "Since the average of the first four numbers is 5, and the overall average needs to be 6, the fifth number must be chosen in a way that the total sum of all five numbers divided by 5 equals 6.\n",
    "\n",
    "![image-2.png](attachment:image-2.png)\n",
    "\n",
    "**4. ** Degree of Freedom:\n",
    "\n",
    "In this context, \"degree of freedom\" refers to the number of values in the final data set that can be chosen freely once certain constraints are given. Here, the first four numbers are constrained to be {3, 8, 5, 4}. Once these numbers are fixed, there is only one possible choice for the fifth number that satisfies the requirement that the average of all five numbers is six, which is 10.\n",
    "\n",
    "In statistical terms, degree of freedom often represents the number of values in the final calculation of a statistic that are free to vary. In this example, since four numbers are fixed, there is only one degree of freedom for choosing the fifth number to meet the average requirement.\n",
    "\n"
   ]
  }
 ],
 "metadata": {
  "kernelspec": {
   "display_name": "Python 3 (ipykernel)",
   "language": "python",
   "name": "python3"
  },
  "language_info": {
   "codemirror_mode": {
    "name": "ipython",
    "version": 3
   },
   "file_extension": ".py",
   "mimetype": "text/x-python",
   "name": "python",
   "nbconvert_exporter": "python",
   "pygments_lexer": "ipython3",
   "version": "3.11.4"
  }
 },
 "nbformat": 4,
 "nbformat_minor": 5
}
