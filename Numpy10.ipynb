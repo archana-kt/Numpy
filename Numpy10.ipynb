{
 "cells": [
  {
   "cell_type": "markdown",
   "id": "48068698",
   "metadata": {},
   "source": [
    "# Numpy - append"
   ]
  },
  {
   "cell_type": "code",
   "execution_count": 1,
   "id": "07c39ee7",
   "metadata": {},
   "outputs": [],
   "source": [
    "# empty_like"
   ]
  },
  {
   "cell_type": "code",
   "execution_count": 2,
   "id": "20497c48",
   "metadata": {},
   "outputs": [],
   "source": [
    "import numpy as np"
   ]
  },
  {
   "cell_type": "code",
   "execution_count": 3,
   "id": "59bb2e76",
   "metadata": {},
   "outputs": [],
   "source": [
    "x = np.random.randint(100, size = 10)"
   ]
  },
  {
   "cell_type": "code",
   "execution_count": 4,
   "id": "e3c1815a",
   "metadata": {},
   "outputs": [
    {
     "data": {
      "text/plain": [
       "array([34, 48, 53, 94, 75, 59, 41, 11, 15, 34])"
      ]
     },
     "execution_count": 4,
     "metadata": {},
     "output_type": "execute_result"
    }
   ],
   "source": [
    "x"
   ]
  },
  {
   "cell_type": "code",
   "execution_count": 5,
   "id": "26717a22",
   "metadata": {},
   "outputs": [],
   "source": [
    "y = np.empty_like(x)"
   ]
  },
  {
   "cell_type": "code",
   "execution_count": 6,
   "id": "2c823a6f",
   "metadata": {},
   "outputs": [
    {
     "data": {
      "text/plain": [
       "array([0, 0, 0, 0, 0, 0, 0, 0, 0, 0])"
      ]
     },
     "execution_count": 6,
     "metadata": {},
     "output_type": "execute_result"
    }
   ],
   "source": [
    "y"
   ]
  },
  {
   "cell_type": "code",
   "execution_count": 7,
   "id": "c4d00a61",
   "metadata": {},
   "outputs": [],
   "source": [
    "# see this method is created an empty array"
   ]
  },
  {
   "cell_type": "code",
   "execution_count": 8,
   "id": "c89b30a5",
   "metadata": {},
   "outputs": [],
   "source": [
    "y[:] = x # it returns all the elements in array"
   ]
  },
  {
   "cell_type": "code",
   "execution_count": 9,
   "id": "3d98aec2",
   "metadata": {},
   "outputs": [
    {
     "data": {
      "text/plain": [
       "array([34, 48, 53, 94, 75, 59, 41, 11, 15, 34])"
      ]
     },
     "execution_count": 9,
     "metadata": {},
     "output_type": "execute_result"
    }
   ],
   "source": [
    "y"
   ]
  },
  {
   "cell_type": "code",
   "execution_count": 10,
   "id": "ce8bc5bf",
   "metadata": {},
   "outputs": [],
   "source": [
    "# copy"
   ]
  },
  {
   "cell_type": "code",
   "execution_count": 11,
   "id": "aa39c6b6",
   "metadata": {},
   "outputs": [],
   "source": [
    "c = x.copy()"
   ]
  },
  {
   "cell_type": "code",
   "execution_count": 12,
   "id": "b12bbc0d",
   "metadata": {},
   "outputs": [
    {
     "data": {
      "text/plain": [
       "array([34, 48, 53, 94, 75, 59, 41, 11, 15, 34])"
      ]
     },
     "execution_count": 12,
     "metadata": {},
     "output_type": "execute_result"
    }
   ],
   "source": [
    "c"
   ]
  },
  {
   "cell_type": "code",
   "execution_count": 13,
   "id": "44c3ec4b",
   "metadata": {},
   "outputs": [],
   "source": [
    "x = np.random.randint(15, size = (4,4))"
   ]
  },
  {
   "cell_type": "code",
   "execution_count": 14,
   "id": "35d2806d",
   "metadata": {},
   "outputs": [
    {
     "data": {
      "text/plain": [
       "array([[ 5, 12,  6,  8],\n",
       "       [ 8,  5,  8,  7],\n",
       "       [13, 12,  4, 12],\n",
       "       [ 7, 10,  8,  6]])"
      ]
     },
     "execution_count": 14,
     "metadata": {},
     "output_type": "execute_result"
    }
   ],
   "source": [
    "x"
   ]
  },
  {
   "cell_type": "code",
   "execution_count": 15,
   "id": "b5f6c0c5",
   "metadata": {},
   "outputs": [],
   "source": [
    "y=np.copy(x)"
   ]
  },
  {
   "cell_type": "code",
   "execution_count": 16,
   "id": "af5642b3",
   "metadata": {},
   "outputs": [
    {
     "data": {
      "text/plain": [
       "array([[ 5, 12,  6,  8],\n",
       "       [ 8,  5,  8,  7],\n",
       "       [13, 12,  4, 12],\n",
       "       [ 7, 10,  8,  6]])"
      ]
     },
     "execution_count": 16,
     "metadata": {},
     "output_type": "execute_result"
    }
   ],
   "source": [
    "y"
   ]
  },
  {
   "cell_type": "code",
   "execution_count": 17,
   "id": "3eee088f",
   "metadata": {},
   "outputs": [
    {
     "data": {
      "text/plain": [
       "array([[ 5, 12,  6,  8],\n",
       "       [ 8,  5,  8,  7],\n",
       "       [13, 12,  4, 12],\n",
       "       [ 7, 10,  8,  6]])"
      ]
     },
     "execution_count": 17,
     "metadata": {},
     "output_type": "execute_result"
    }
   ],
   "source": [
    "x"
   ]
  },
  {
   "cell_type": "code",
   "execution_count": 18,
   "id": "04206aaa",
   "metadata": {},
   "outputs": [],
   "source": [
    "y = x"
   ]
  },
  {
   "cell_type": "code",
   "execution_count": 19,
   "id": "069e3844",
   "metadata": {},
   "outputs": [
    {
     "data": {
      "text/plain": [
       "array([[ 5, 12,  6,  8],\n",
       "       [ 8,  5,  8,  7],\n",
       "       [13, 12,  4, 12],\n",
       "       [ 7, 10,  8,  6]])"
      ]
     },
     "execution_count": 19,
     "metadata": {},
     "output_type": "execute_result"
    }
   ],
   "source": [
    "y"
   ]
  },
  {
   "cell_type": "code",
   "execution_count": 20,
   "id": "6de0cfe6",
   "metadata": {},
   "outputs": [
    {
     "data": {
      "text/plain": [
       "5"
      ]
     },
     "execution_count": 20,
     "metadata": {},
     "output_type": "execute_result"
    }
   ],
   "source": [
    "y[0][0]"
   ]
  },
  {
   "cell_type": "code",
   "execution_count": 21,
   "id": "be1929ba",
   "metadata": {},
   "outputs": [
    {
     "data": {
      "text/plain": [
       "array([[ 5, 12,  6,  8],\n",
       "       [ 8,  5,  8,  7],\n",
       "       [13, 12,  4, 12],\n",
       "       [ 7, 10,  8,  6]])"
      ]
     },
     "execution_count": 21,
     "metadata": {},
     "output_type": "execute_result"
    }
   ],
   "source": [
    "y"
   ]
  },
  {
   "cell_type": "code",
   "execution_count": 22,
   "id": "f1f67dda",
   "metadata": {},
   "outputs": [
    {
     "data": {
      "text/plain": [
       "array([[ 5, 12,  6,  8],\n",
       "       [ 8,  5,  8,  7],\n",
       "       [13, 12,  4, 12],\n",
       "       [ 7, 10,  8,  6]])"
      ]
     },
     "execution_count": 22,
     "metadata": {},
     "output_type": "execute_result"
    }
   ],
   "source": [
    "x"
   ]
  },
  {
   "cell_type": "code",
   "execution_count": 23,
   "id": "40987a0f",
   "metadata": {},
   "outputs": [
    {
     "data": {
      "text/plain": [
       "140287622711120"
      ]
     },
     "execution_count": 23,
     "metadata": {},
     "output_type": "execute_result"
    }
   ],
   "source": [
    "id(x)"
   ]
  },
  {
   "cell_type": "code",
   "execution_count": 24,
   "id": "d7e22171",
   "metadata": {},
   "outputs": [
    {
     "data": {
      "text/plain": [
       "140287622711120"
      ]
     },
     "execution_count": 24,
     "metadata": {},
     "output_type": "execute_result"
    }
   ],
   "source": [
    "id(y)"
   ]
  },
  {
   "cell_type": "code",
   "execution_count": 25,
   "id": "714653ee",
   "metadata": {},
   "outputs": [],
   "source": [
    "# see for copy only the memory get to change. For assigning, it shows same memory only"
   ]
  },
  {
   "cell_type": "code",
   "execution_count": 28,
   "id": "d5475ad3",
   "metadata": {},
   "outputs": [],
   "source": [
    "# append"
   ]
  },
  {
   "cell_type": "code",
   "execution_count": 26,
   "id": "a06d8f72",
   "metadata": {},
   "outputs": [
    {
     "data": {
      "text/plain": [
       "array([[1, 2, 3],\n",
       "       [4, 5, 6],\n",
       "       [7, 8, 9]])"
      ]
     },
     "execution_count": 26,
     "metadata": {},
     "output_type": "execute_result"
    }
   ],
   "source": [
    "np.append([[1, 2, 3], [4, 5, 6]], [[7, 8, 9]], axis=0)"
   ]
  },
  {
   "cell_type": "code",
   "execution_count": 27,
   "id": "3adb6727",
   "metadata": {},
   "outputs": [
    {
     "data": {
      "text/plain": [
       "array([  5,  12,   6,   8,   8,   5,   8,   7,  13,  12,   4,  12,   7,\n",
       "        10,   8,   6, 100])"
      ]
     },
     "execution_count": 27,
     "metadata": {},
     "output_type": "execute_result"
    }
   ],
   "source": [
    "np.append(x,100)"
   ]
  },
  {
   "cell_type": "code",
   "execution_count": 29,
   "id": "ccfb0830",
   "metadata": {},
   "outputs": [],
   "source": [
    "x1=np.random.randint(12,size=(3,3))"
   ]
  },
  {
   "cell_type": "code",
   "execution_count": 30,
   "id": "51ae0789",
   "metadata": {},
   "outputs": [
    {
     "data": {
      "text/plain": [
       "array([[11,  0,  5],\n",
       "       [ 0,  5,  3],\n",
       "       [ 8, 10,  2]])"
      ]
     },
     "execution_count": 30,
     "metadata": {},
     "output_type": "execute_result"
    }
   ],
   "source": [
    "x1"
   ]
  },
  {
   "cell_type": "code",
   "execution_count": 31,
   "id": "16dc93cc",
   "metadata": {},
   "outputs": [
    {
     "data": {
      "text/plain": [
       "array([11,  0,  5,  0,  5,  3,  8, 10,  2,  0,  1,  2])"
      ]
     },
     "execution_count": 31,
     "metadata": {},
     "output_type": "execute_result"
    }
   ],
   "source": [
    "np.append(x1,[[0,1,2]])"
   ]
  },
  {
   "cell_type": "code",
   "execution_count": 32,
   "id": "881aa4b8",
   "metadata": {},
   "outputs": [
    {
     "data": {
      "text/plain": [
       "array([[11,  0,  5],\n",
       "       [ 0,  5,  3],\n",
       "       [ 8, 10,  2],\n",
       "       [ 0,  1,  2]])"
      ]
     },
     "execution_count": 32,
     "metadata": {},
     "output_type": "execute_result"
    }
   ],
   "source": [
    "np.append(x1,[[0,1,2]],axis=0)"
   ]
  },
  {
   "cell_type": "code",
   "execution_count": 34,
   "id": "cef61a0a",
   "metadata": {},
   "outputs": [],
   "source": [
    "x = np.array([6,7,2,3])"
   ]
  },
  {
   "cell_type": "code",
   "execution_count": 35,
   "id": "4f2eeefc",
   "metadata": {},
   "outputs": [
    {
     "data": {
      "text/plain": [
       "array([6, 7, 2, 3])"
      ]
     },
     "execution_count": 35,
     "metadata": {},
     "output_type": "execute_result"
    }
   ],
   "source": [
    "x"
   ]
  },
  {
   "cell_type": "code",
   "execution_count": 36,
   "id": "600b8e82",
   "metadata": {},
   "outputs": [],
   "source": [
    "y = np.array([4,10,10,5])"
   ]
  },
  {
   "cell_type": "code",
   "execution_count": 37,
   "id": "0d4ee2c4",
   "metadata": {},
   "outputs": [
    {
     "data": {
      "text/plain": [
       "array([ 4, 10, 10,  5])"
      ]
     },
     "execution_count": 37,
     "metadata": {},
     "output_type": "execute_result"
    }
   ],
   "source": [
    "y"
   ]
  },
  {
   "cell_type": "code",
   "execution_count": 38,
   "id": "94a01c89",
   "metadata": {},
   "outputs": [
    {
     "data": {
      "text/plain": [
       "array([ 6,  7,  2,  3,  4, 10, 10,  5])"
      ]
     },
     "execution_count": 38,
     "metadata": {},
     "output_type": "execute_result"
    }
   ],
   "source": [
    "np.append(x,y)"
   ]
  },
  {
   "cell_type": "code",
   "execution_count": 39,
   "id": "3613b409",
   "metadata": {},
   "outputs": [],
   "source": [
    "x=np.arange(12).reshape(2,6)"
   ]
  },
  {
   "cell_type": "code",
   "execution_count": 40,
   "id": "e1c1f3e1",
   "metadata": {},
   "outputs": [
    {
     "data": {
      "text/plain": [
       "array([[ 0,  1,  2,  3,  4,  5],\n",
       "       [ 6,  7,  8,  9, 10, 11]])"
      ]
     },
     "execution_count": 40,
     "metadata": {},
     "output_type": "execute_result"
    }
   ],
   "source": [
    "x"
   ]
  },
  {
   "cell_type": "code",
   "execution_count": 41,
   "id": "50b727ca",
   "metadata": {},
   "outputs": [
    {
     "data": {
      "text/plain": [
       "2"
      ]
     },
     "execution_count": 41,
     "metadata": {},
     "output_type": "execute_result"
    }
   ],
   "source": [
    "x.ndim"
   ]
  },
  {
   "cell_type": "code",
   "execution_count": 42,
   "id": "6b1457c2",
   "metadata": {},
   "outputs": [],
   "source": [
    "y=np.random.randint(10,size=(3,6)) # same 6 columns is must. if not means, it shows error"
   ]
  },
  {
   "cell_type": "code",
   "execution_count": 43,
   "id": "009050b3",
   "metadata": {},
   "outputs": [
    {
     "data": {
      "text/plain": [
       "array([[1, 2, 9, 7, 3, 4],\n",
       "       [3, 8, 3, 4, 9, 1],\n",
       "       [2, 2, 5, 0, 4, 5]])"
      ]
     },
     "execution_count": 43,
     "metadata": {},
     "output_type": "execute_result"
    }
   ],
   "source": [
    "y"
   ]
  },
  {
   "cell_type": "code",
   "execution_count": 44,
   "id": "4c216ca8",
   "metadata": {},
   "outputs": [
    {
     "data": {
      "text/plain": [
       "array([ 0,  1,  2,  3,  4,  5,  6,  7,  8,  9, 10, 11,  1,  2,  9,  7,  3,\n",
       "        4,  3,  8,  3,  4,  9,  1,  2,  2,  5,  0,  4,  5])"
      ]
     },
     "execution_count": 44,
     "metadata": {},
     "output_type": "execute_result"
    }
   ],
   "source": [
    "np.append(x,y)"
   ]
  },
  {
   "cell_type": "code",
   "execution_count": 45,
   "id": "d505a232",
   "metadata": {},
   "outputs": [
    {
     "data": {
      "text/plain": [
       "array([[ 0,  1,  2,  3,  4,  5],\n",
       "       [ 6,  7,  8,  9, 10, 11],\n",
       "       [ 1,  2,  9,  7,  3,  4],\n",
       "       [ 3,  8,  3,  4,  9,  1],\n",
       "       [ 2,  2,  5,  0,  4,  5]])"
      ]
     },
     "execution_count": 45,
     "metadata": {},
     "output_type": "execute_result"
    }
   ],
   "source": [
    "np.append(x,y,axis=0)"
   ]
  }
 ],
 "metadata": {
  "kernelspec": {
   "display_name": "Python 3 (ipykernel)",
   "language": "python",
   "name": "python3"
  },
  "language_info": {
   "codemirror_mode": {
    "name": "ipython",
    "version": 3
   },
   "file_extension": ".py",
   "mimetype": "text/x-python",
   "name": "python",
   "nbconvert_exporter": "python",
   "pygments_lexer": "ipython3",
   "version": "3.9.7"
  }
 },
 "nbformat": 4,
 "nbformat_minor": 5
}
